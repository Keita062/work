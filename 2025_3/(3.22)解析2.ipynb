{
 "cells": [
  {
   "cell_type": "code",
   "execution_count": 1,
   "metadata": {},
   "outputs": [
    {
     "name": "stdout",
     "output_type": "stream",
     "text": [
      "Requirement already satisfied: japanize-matplotlib in c:\\users\\管理\\appdata\\local\\programs\\python\\python313\\lib\\site-packages (1.1.3)\n",
      "Requirement already satisfied: openpyxl in c:\\users\\管理\\appdata\\local\\programs\\python\\python313\\lib\\site-packages (3.1.5)\n",
      "Requirement already satisfied: matplotlib in c:\\users\\管理\\appdata\\local\\programs\\python\\python313\\lib\\site-packages (from japanize-matplotlib) (3.10.1)\n",
      "Requirement already satisfied: et-xmlfile in c:\\users\\管理\\appdata\\local\\programs\\python\\python313\\lib\\site-packages (from openpyxl) (2.0.0)\n",
      "Requirement already satisfied: contourpy>=1.0.1 in c:\\users\\管理\\appdata\\local\\programs\\python\\python313\\lib\\site-packages (from matplotlib->japanize-matplotlib) (1.3.1)\n",
      "Requirement already satisfied: cycler>=0.10 in c:\\users\\管理\\appdata\\local\\programs\\python\\python313\\lib\\site-packages (from matplotlib->japanize-matplotlib) (0.12.1)\n",
      "Requirement already satisfied: fonttools>=4.22.0 in c:\\users\\管理\\appdata\\local\\programs\\python\\python313\\lib\\site-packages (from matplotlib->japanize-matplotlib) (4.56.0)\n",
      "Requirement already satisfied: kiwisolver>=1.3.1 in c:\\users\\管理\\appdata\\local\\programs\\python\\python313\\lib\\site-packages (from matplotlib->japanize-matplotlib) (1.4.8)\n",
      "Requirement already satisfied: numpy>=1.23 in c:\\users\\管理\\appdata\\local\\programs\\python\\python313\\lib\\site-packages (from matplotlib->japanize-matplotlib) (2.2.3)\n",
      "Requirement already satisfied: packaging>=20.0 in c:\\users\\管理\\appdata\\local\\programs\\python\\python313\\lib\\site-packages (from matplotlib->japanize-matplotlib) (24.2)\n",
      "Requirement already satisfied: pillow>=8 in c:\\users\\管理\\appdata\\local\\programs\\python\\python313\\lib\\site-packages (from matplotlib->japanize-matplotlib) (11.1.0)\n",
      "Requirement already satisfied: pyparsing>=2.3.1 in c:\\users\\管理\\appdata\\local\\programs\\python\\python313\\lib\\site-packages (from matplotlib->japanize-matplotlib) (3.2.1)\n",
      "Requirement already satisfied: python-dateutil>=2.7 in c:\\users\\管理\\appdata\\local\\programs\\python\\python313\\lib\\site-packages (from matplotlib->japanize-matplotlib) (2.9.0.post0)\n",
      "Requirement already satisfied: six>=1.5 in c:\\users\\管理\\appdata\\local\\programs\\python\\python313\\lib\\site-packages (from python-dateutil>=2.7->matplotlib->japanize-matplotlib) (1.17.0)\n",
      "Note: you may need to restart the kernel to use updated packages.\n"
     ]
    },
    {
     "name": "stderr",
     "output_type": "stream",
     "text": [
      "\n",
      "[notice] A new release of pip is available: 24.3.1 -> 25.0.1\n",
      "[notice] To update, run: python.exe -m pip install --upgrade pip\n"
     ]
    }
   ],
   "source": [
    "pip install japanize-matplotlib openpyxl"
   ]
  },
  {
   "cell_type": "code",
   "execution_count": 5,
   "metadata": {},
   "outputs": [],
   "source": [
    "import numpy as np\n",
    "import pandas as pd\n",
    "import matplotlib.pyplot as plt\n",
    "import japanize_matplotlib\n",
    "import matplotlib\n",
    "import collections"
   ]
  },
  {
   "cell_type": "code",
   "execution_count": 62,
   "metadata": {},
   "outputs": [],
   "source": [
    "# df_summer = pd.read_excel(r\"C:\\Users\\管理\\Downloads\\【鴨居】2024（夏） PREMIUM TEACHERS アンケート（回答）.xlsx\")\n",
    "# df_winter = pd.read_excel(r\"C:\\Users\\管理\\Downloads\\【鴨居】2024（冬） PREMIUM TEACHERS アンケート（回答）.xlsx\")\n",
    "# df_summer = df_summer.fillna(0)\n",
    "# df_winter = df_winter.fillna(0)\n",
    "# 日本語フォントの設定\n",
    "# matplotlib.rcParams['font.family'] = 'Meiryo'  # Windows用\n",
    "\n",
    "# df_summer = df_summer.drop(df_summer.columns[[0, 1]], axis=1)\n",
    "# df_winter = df_winter.drop(df_winter.columns[0], axis=1)\n",
    "# df_summer.iloc[:, 0] = df_summer.iloc[:, 0].str.replace(\"\\u3000\", \"\", regex=True)\n",
    "# df_winter.iloc[:, 0] = df_winter.iloc[:, 0].str.replace(\"\\u3000\", \"\", regex=True)"
   ]
  },
  {
   "cell_type": "code",
   "execution_count": 61,
   "metadata": {},
   "outputs": [],
   "source": [
    "# df_summer.head()"
   ]
  },
  {
   "cell_type": "code",
   "execution_count": 60,
   "metadata": {},
   "outputs": [],
   "source": [
    "# df_winter.head()"
   ]
  },
  {
   "cell_type": "code",
   "execution_count": 59,
   "metadata": {},
   "outputs": [],
   "source": [
    "# print(df_summer.iloc[:,0].unique())\n",
    "# print(df_winter.iloc[:,0].unique())"
   ]
  },
  {
   "cell_type": "code",
   "execution_count": 58,
   "metadata": {},
   "outputs": [],
   "source": [
    "# common_values = set(df_summer.iloc[:, 0]) & set(df_winter.iloc[:, 0])\n",
    "\n",
    "# 共通要素を持つ行のみを抽出\n",
    "# df_summer_common = df_summer[df_summer.iloc[:, 0].isin(common_values)]\n",
    "# df_winter_common = df_winter[df_winter.iloc[:, 0].isin(common_values)]\n",
    "\n",
    "# 共通要素ではない行のみを抽出\n",
    "# df_summer_unique = df_summer[~df_summer.iloc[:, 0].isin(common_values)]\n",
    "# df_winter_unique = df_winter[~df_winter.iloc[:, 0].isin(common_values)]\n",
    "\n",
    "# 2列目（インデックス1）の列を削除\n",
    "# df_summer_common = df_summer_common.drop(df_summer_common.columns[1], axis=1)\n",
    "# df_winter_common = df_winter_common.drop(df_winter_common.columns[1], axis=1)\n",
    "# df_summer_unique = df_summer_unique.drop(df_summer_unique.columns[1], axis=1)\n",
    "# df_winter_unique = df_winter_unique.drop(df_winter_unique.columns[1], axis=1)\n"
   ]
  },
  {
   "cell_type": "code",
   "execution_count": 57,
   "metadata": {},
   "outputs": [],
   "source": [
    "# 質問と対応する列番号\n",
    "# questions = [\n",
    "#     (\"夏の一番元気に挨拶してくれている先生は誰ですか？\", 4, \"df_summer_common\"),\n",
    "#     (\"冬の一番元気に挨拶してくれている先生は誰ですか？\", 3, \"df_winter_common\"),\n",
    "#     (\"夏の一番話を聞いてくれている先生は誰ですか？\", 5, \"df_summer_common\"),\n",
    "#     (\"冬の一番話を聞いてくれている先生は誰ですか？\", 4, \"df_winter_common\"),\n",
    "#     (\"夏の一番面倒をみてくれていると思う先生は誰ですか？\", 6, \"df_summer_common\"),\n",
    "#     (\"冬の一番面倒をみてくれていると思う先生は誰ですか？\", 5, \"df_winter_common\"),\n",
    "#     (\"夏の一番英語を教えてほしい先生は誰ですか？\", 7, \"df_summer_common\"),\n",
    "#     (\"冬の一番英語を教えてほしい先生は誰ですか？\", 6, \"df_winter_common\"),\n",
    "#     (\"夏の二番目に英語を教えてほしい先生は誰ですか？\", 9, \"df_summer_common\"),\n",
    "#     (\"冬の二番目に英語を教えてほしい先生は誰ですか？\", 8, \"df_winter_common\"),\n",
    "#     (\"夏の一番算数・数学・理科を教えてほしい先生は誰ですか？\", 11, \"df_summer_common\"),\n",
    "#     (\"冬の一番算数・数学・理科を教えてほしい先生は誰ですか？\", 10, \"df_winter_common\"),\n",
    "#     (\"夏の二番目に算数・数学・理科を教えてほしい先生は誰ですか？\", 13, \"df_summer_common\"),\n",
    "#     (\"冬の二番目に算数・数学・理科を教えてほしい先生は誰ですか？\", 12, \"df_winter_common\"),\n",
    "#     (\"夏の一番国語・社会を教えてほしい先生は誰ですか？\", 15, \"df_summer_common\"),\n",
    "#     (\"冬の一番国語・社会を教えてほしい先生は誰ですか？\", 14, \"df_winter_common\"),\n",
    "#     (\"夏の二番国語・社会を教えてほしい先生は誰ですか？\", 17, \"df_summer_common\"),\n",
    "#     (\"冬の二番国語・社会を教えてほしい先生は誰ですか？\", 16, \"df_winter_common\"),\n",
    "# ]\n",
    "\n",
    "# ループで処理\n",
    "# for question, col_idx, df_name in questions:\n",
    "#     df = globals()[df_name]  # 変数名からデータフレームを取得\n",
    "#     print(question, collections.Counter(df.iloc[:, col_idx]))\n"
   ]
  },
  {
   "cell_type": "code",
   "execution_count": null,
   "metadata": {},
   "outputs": [],
   "source": []
  },
  {
   "cell_type": "code",
   "execution_count": null,
   "metadata": {},
   "outputs": [],
   "source": []
  }
 ],
 "metadata": {
  "kernelspec": {
   "display_name": "Python 3",
   "language": "python",
   "name": "python3"
  },
  "language_info": {
   "codemirror_mode": {
    "name": "ipython",
    "version": 3
   },
   "file_extension": ".py",
   "mimetype": "text/x-python",
   "name": "python",
   "nbconvert_exporter": "python",
   "pygments_lexer": "ipython3",
   "version": "3.13.2"
  }
 },
 "nbformat": 4,
 "nbformat_minor": 2
}
