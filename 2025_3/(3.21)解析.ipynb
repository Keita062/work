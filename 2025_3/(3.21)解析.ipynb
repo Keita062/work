{
 "cells": [
  {
   "cell_type": "code",
   "execution_count": 1,
   "metadata": {},
   "outputs": [
    {
     "name": "stdout",
     "output_type": "stream",
     "text": [
      "Requirement already satisfied: japanize-matplotlib in c:\\users\\管理\\appdata\\local\\programs\\python\\python313\\lib\\site-packages (1.1.3)\n",
      "Requirement already satisfied: matplotlib in c:\\users\\管理\\appdata\\local\\programs\\python\\python313\\lib\\site-packages (from japanize-matplotlib) (3.10.1)\n",
      "Requirement already satisfied: contourpy>=1.0.1 in c:\\users\\管理\\appdata\\local\\programs\\python\\python313\\lib\\site-packages (from matplotlib->japanize-matplotlib) (1.3.1)\n",
      "Requirement already satisfied: cycler>=0.10 in c:\\users\\管理\\appdata\\local\\programs\\python\\python313\\lib\\site-packages (from matplotlib->japanize-matplotlib) (0.12.1)\n",
      "Requirement already satisfied: fonttools>=4.22.0 in c:\\users\\管理\\appdata\\local\\programs\\python\\python313\\lib\\site-packages (from matplotlib->japanize-matplotlib) (4.56.0)\n",
      "Requirement already satisfied: kiwisolver>=1.3.1 in c:\\users\\管理\\appdata\\local\\programs\\python\\python313\\lib\\site-packages (from matplotlib->japanize-matplotlib) (1.4.8)\n",
      "Requirement already satisfied: numpy>=1.23 in c:\\users\\管理\\appdata\\local\\programs\\python\\python313\\lib\\site-packages (from matplotlib->japanize-matplotlib) (2.2.3)\n",
      "Requirement already satisfied: packaging>=20.0 in c:\\users\\管理\\appdata\\local\\programs\\python\\python313\\lib\\site-packages (from matplotlib->japanize-matplotlib) (24.2)\n",
      "Requirement already satisfied: pillow>=8 in c:\\users\\管理\\appdata\\local\\programs\\python\\python313\\lib\\site-packages (from matplotlib->japanize-matplotlib) (11.1.0)\n",
      "Requirement already satisfied: pyparsing>=2.3.1 in c:\\users\\管理\\appdata\\local\\programs\\python\\python313\\lib\\site-packages (from matplotlib->japanize-matplotlib) (3.2.1)\n",
      "Requirement already satisfied: python-dateutil>=2.7 in c:\\users\\管理\\appdata\\local\\programs\\python\\python313\\lib\\site-packages (from matplotlib->japanize-matplotlib) (2.9.0.post0)\n",
      "Requirement already satisfied: six>=1.5 in c:\\users\\管理\\appdata\\local\\programs\\python\\python313\\lib\\site-packages (from python-dateutil>=2.7->matplotlib->japanize-matplotlib) (1.17.0)\n",
      "Note: you may need to restart the kernel to use updated packages.\n"
     ]
    },
    {
     "name": "stderr",
     "output_type": "stream",
     "text": [
      "\n",
      "[notice] A new release of pip is available: 24.3.1 -> 25.0.1\n",
      "[notice] To update, run: python.exe -m pip install --upgrade pip\n"
     ]
    }
   ],
   "source": [
    "pip install japanize-matplotlib"
   ]
  },
  {
   "cell_type": "code",
   "execution_count": 4,
   "metadata": {},
   "outputs": [
    {
     "name": "stdout",
     "output_type": "stream",
     "text": [
      "Collecting openpyxl\n",
      "  Downloading openpyxl-3.1.5-py2.py3-none-any.whl.metadata (2.5 kB)\n",
      "Collecting et-xmlfile (from openpyxl)\n",
      "  Downloading et_xmlfile-2.0.0-py3-none-any.whl.metadata (2.7 kB)\n",
      "Downloading openpyxl-3.1.5-py2.py3-none-any.whl (250 kB)\n",
      "Downloading et_xmlfile-2.0.0-py3-none-any.whl (18 kB)\n",
      "Installing collected packages: et-xmlfile, openpyxl\n",
      "Successfully installed et-xmlfile-2.0.0 openpyxl-3.1.5\n",
      "Note: you may need to restart the kernel to use updated packages.\n"
     ]
    },
    {
     "name": "stderr",
     "output_type": "stream",
     "text": [
      "\n",
      "[notice] A new release of pip is available: 24.3.1 -> 25.0.1\n",
      "[notice] To update, run: python.exe -m pip install --upgrade pip\n"
     ]
    }
   ],
   "source": [
    "pip install openpyxl"
   ]
  },
  {
   "cell_type": "code",
   "execution_count": 63,
   "metadata": {},
   "outputs": [],
   "source": [
    "import numpy as np\n",
    "import pandas as pd\n",
    "import matplotlib.pyplot as plt\n",
    "import japanize_matplotlib\n",
    "import collections"
   ]
  },
  {
   "cell_type": "code",
   "execution_count": 49,
   "metadata": {},
   "outputs": [],
   "source": [
    "df_summer = pd.read_excel(r\"C:\\Users\\管理\\Downloads\\【鴨居】2024（夏） PREMIUM TEACHERS アンケート（回答）.xlsx\")\n",
    "df_winter = pd.read_excel(r\"C:\\Users\\管理\\Downloads\\【鴨居】2024（冬） PREMIUM TEACHERS アンケート（回答）.xlsx\")"
   ]
  },
  {
   "cell_type": "code",
   "execution_count": 1,
   "metadata": {},
   "outputs": [],
   "source": [
    "# print(df_summer.shape)\n",
    "# print(df_winter.shape)"
   ]
  },
  {
   "cell_type": "code",
   "execution_count": 2,
   "metadata": {},
   "outputs": [],
   "source": [
    "# print(df_summer.info())"
   ]
  },
  {
   "cell_type": "code",
   "execution_count": 3,
   "metadata": {},
   "outputs": [],
   "source": [
    "# print(df_winter.info())"
   ]
  },
  {
   "cell_type": "code",
   "execution_count": 4,
   "metadata": {},
   "outputs": [],
   "source": [
    "# df_summer = df_summer.fillna(0)\n",
    "# df_winter = df_winter.fillna(0)"
   ]
  },
  {
   "cell_type": "code",
   "execution_count": 5,
   "metadata": {},
   "outputs": [],
   "source": [
    "# print(\"夏の生徒様氏名\",df_summer.iloc[:,2].unique())\n",
    "# print(\"冬の生徒様氏名\",df_winter.iloc[:,1].unique())"
   ]
  },
  {
   "cell_type": "code",
   "execution_count": 6,
   "metadata": {},
   "outputs": [],
   "source": [
    "# df_summer.iloc[:, 2] = df_summer.iloc[:, 2].str.replace(\"\\u3000\", \"\", regex=True)\n",
    "# df_winter.iloc[:, 1] = df_winter.iloc[:, 1].str.replace(\"\\u3000\", \"\", regex=True)\n",
    "\n",
    "# print(\"夏の生徒様氏名\", df_summer.iloc[:, 2].unique())\n",
    "# print(\"冬の生徒様氏名\", df_winter.iloc[:, 1].unique())"
   ]
  },
  {
   "cell_type": "code",
   "execution_count": 7,
   "metadata": {},
   "outputs": [],
   "source": [
    "# print(\"夏の一番元気に挨拶してくれている先生は誰ですか？のユニークを確認\",df_summer.iloc[:,4].unique())\n",
    "# print(\"冬の一番元気に挨拶してくれている先生は誰ですか？のユニークを確認\",df_winter.iloc[:,3].unique())"
   ]
  },
  {
   "cell_type": "code",
   "execution_count": 8,
   "metadata": {},
   "outputs": [],
   "source": [
    "# print(\"夏の一番元気に挨拶してくれている先生は誰ですか？を数える\",collections.Counter(df_summer.iloc[:,4]))\n",
    "# print(\"冬の一番元気に挨拶してくれている先生は誰ですか？を数える\",collections.Counter(df_winter.iloc[:,3]))\n",
    "# print(\"夏の一番話を聞いてくれている先生は誰ですか？を数える\",collections.Counter(df_summer.iloc[:,5]))\n",
    "# print(\"冬の一番話を聞いてくれている先生は誰ですか？を数える\",collections.Counter(df_winter.iloc[:,4]))\n",
    "# print(\"夏の一番面倒をみてくれていると思う先生は誰ですか？を数える\",collections.Counter(df_summer.iloc[:,6]))\n",
    "# print(\"冬の一番面倒をみてくれていると思う先生は誰ですか？を数える\",collections.Counter(df_winter.iloc[:,5]))\n",
    "# print(\"夏の一番英語を教えてほしい先生は誰ですか？を数える\",collections.Counter(df_summer.iloc[:,7]))\n",
    "# print(\"冬の一番英語を教えてほしい先生は誰ですか？を数える\",collections.Counter(df_winter.iloc[:,6]))\n",
    "# print(\"夏の二番目に英語を教えてほしい先生は誰ですか？を数える\",collections.Counter(df_summer.iloc[:,9]))\n",
    "# print(\"冬の二番目に英語を教えてほしい先生は誰ですか？を数える\",collections.Counter(df_winter.iloc[:,8]))\n",
    "# print(\"夏の一番算数・数学・理科を教えてほしい先生は誰ですか？を数える\",collections.Counter(df_summer.iloc[:,11]))\n",
    "# print(\"冬の一番算数・数学・理科を教えてほしい先生は誰ですか？を数える\",collections.Counter(df_winter.iloc[:,10]))\n",
    "# print(\"夏の二番目に算数・数学・理科を教えてほしい先生は誰ですか？を数える\",collections.Counter(df_summer.iloc[:,13]))\n",
    "# print(\"冬の二番目に算数・数学・理科を教えてほしい先生は誰ですか？を数える\",collections.Counter(df_winter.iloc[:,12]))\n",
    "# print(\"夏の一番国語・社会を教えてほしい先生は誰ですか？を数える\",collections.Counter(df_summer.iloc[:,15]))\n",
    "# print(\"冬の一番国語・社会を教えてほしい先生は誰ですか？を数える\",collections.Counter(df_winter.iloc[:,14]))\n",
    "# print(\"夏の二番国語・社会を教えてほしい先生は誰ですか？を数える\",collections.Counter(df_summer.iloc[:,17]))\n",
    "# print(\"冬の二番国語・社会を教えてほしい先生は誰ですか？を数える\",collections.Counter(df_winter.iloc[:,16]))"
   ]
  },
  {
   "cell_type": "code",
   "execution_count": 9,
   "metadata": {},
   "outputs": [],
   "source": [
    "# df_summer.info()"
   ]
  },
  {
   "cell_type": "code",
   "execution_count": 10,
   "metadata": {},
   "outputs": [],
   "source": [
    "# df_winter.info()"
   ]
  },
  {
   "cell_type": "code",
   "execution_count": null,
   "metadata": {},
   "outputs": [],
   "source": [
    "# import collections\n",
    "import pandas as pd\n",
    "import matplotlib.pyplot as plt\n",
    "import japanize_matplotlib\n",
    "import matplotlib\n",
    "\n",
    "# 日本語フォントの設定\n",
    "matplotlib.rcParams['font.family'] = 'Meiryo'  # Windows用\n",
    "# matplotlib.rcParams['font.family'] = 'MS Gothic'  # Meiryoでうまくいかない場合の代替\n",
    "\n",
    "# 質問リスト\n",
    "questions = [\n",
    "    (\"夏の一番元気に挨拶してくれている先生\", df_summer.iloc[:, 4]),\n",
    "    (\"冬の一番元気に挨拶してくれている先生\", df_winter.iloc[:, 3]),\n",
    "    (\"夏の一番話を聞いてくれている先生\", df_summer.iloc[:, 5]),\n",
    "    (\"冬の一番話を聞いてくれている先生\", df_winter.iloc[:, 4]),\n",
    "    (\"夏の一番面倒をみてくれていると思う先生\", df_summer.iloc[:, 6]),\n",
    "    (\"冬の一番面倒をみてくれていると思う先生\", df_winter.iloc[:, 5]),\n",
    "    (\"夏の一番英語を教えてほしい先生\", df_summer.iloc[:, 7]),\n",
    "    (\"冬の一番英語を教えてほしい先生\", df_winter.iloc[:, 6]),\n",
    "    (\"夏の二番目に英語を教えてほしい先生\", df_summer.iloc[:, 9]),\n",
    "    (\"冬の二番目に英語を教えてほしい先生\", df_winter.iloc[:, 8]),\n",
    "    (\"夏の一番算数・数学・理科を教えてほしい先生\", df_summer.iloc[:, 11]),\n",
    "    (\"冬の一番算数・数学・理科を教えてほしい先生\", df_winter.iloc[:, 10]),\n",
    "    (\"夏の二番目に算数・数学・理科を教えてほしい先生\", df_summer.iloc[:, 13]),\n",
    "    (\"冬の二番目に算数・数学・理科を教えてほしい先生\", df_winter.iloc[:, 12]),\n",
    "    (\"夏の一番国語・社会を教えてほしい先生\", df_summer.iloc[:, 15]),\n",
    "    (\"冬の一番国語・社会を教えてほしい先生\", df_winter.iloc[:, 14]),\n",
    "    (\"夏の二番国語・社会を教えてほしい先生\", df_summer.iloc[:, 17]),\n",
    "    (\"冬の二番国語・社会を教えてほしい先生\", df_winter.iloc[:, 16]),\n",
    "]\n",
    "\n",
    "# 出力結果を保存するリスト\n",
    "results = []\n",
    "for question, data in questions:\n",
    "    count_result = collections.Counter(data)\n",
    "    results.append(f\"{question} を数える: {count_result}\\n\")\n",
    "\n",
    "# 画像として保存\n",
    "fig, ax = plt.subplots(figsize=(10, 12))\n",
    "ax.text(0, 1, \"\\n\".join(results), fontsize=10, va=\"top\", family=\"Meiryo\")\n",
    "ax.set_xticks([])\n",
    "ax.set_yticks([])\n",
    "ax.set_frame_on(False)\n",
    "plt.savefig(r\"C:\\Users\\管理\\Desktop\\得票数の各々の結果.png\", dpi=300, bbox_inches=\"tight\")\n",
    "plt.show()\n"
   ]
  },
  {
   "cell_type": "code",
   "execution_count": 12,
   "metadata": {},
   "outputs": [],
   "source": [
    "# suzuki = 26 + 21 + 10 + 12 + 16 + 19 + 6 + 12 + 11 + 7 + 4 + 7 + 9 + 10 + 9 + 11 + 12 + 13\n",
    "# saito = 12 + 21 + 10 + 11 + 9 + 14 + 6 + 10 + 10 + 11 + 23 + 24 + 6 + 9 + 4 + 7 + 7 + 7\n",
    "# matuoka = 1 + 1 + 4 + 8 + 2 + 8 + 4 + 4 + 9 + 3 + 4 + 6 + 9 + 2 + 6 + 3 + 9\n",
    "\n",
    "# print(\"鈴木啓太の得票数\",suzuki)\n",
    "# print(\"斉藤 佑弥の総得票数\" , saito)\n",
    "# print(\"松岡 海音の総得票数\",matuoka)"
   ]
  },
  {
   "cell_type": "code",
   "execution_count": null,
   "metadata": {},
   "outputs": [],
   "source": []
  }
 ],
 "metadata": {
  "kernelspec": {
   "display_name": "Python 3",
   "language": "python",
   "name": "python3"
  },
  "language_info": {
   "codemirror_mode": {
    "name": "ipython",
    "version": 3
   },
   "file_extension": ".py",
   "mimetype": "text/x-python",
   "name": "python",
   "nbconvert_exporter": "python",
   "pygments_lexer": "ipython3",
   "version": "3.13.2"
  }
 },
 "nbformat": 4,
 "nbformat_minor": 2
}
