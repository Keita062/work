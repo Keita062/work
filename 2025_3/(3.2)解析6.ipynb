{
 "cells": [
  {
   "cell_type": "code",
   "execution_count": 1,
   "id": "94bdec5a-abea-493c-bd10-5407f011b5cf",
   "metadata": {
    "collapsed": true,
    "jupyter": {
     "outputs_hidden": true
    }
   },
   "outputs": [
    {
     "name": "stdout",
     "output_type": "stream",
     "text": [
      "Requirement already satisfied: japanize-matplotlib in c:\\users\\sk062\\miniconda3\\envs\\study\\lib\\site-packages (1.1.3)\n",
      "Requirement already satisfied: matplotlib in c:\\users\\sk062\\miniconda3\\envs\\study\\lib\\site-packages (from japanize-matplotlib) (3.9.2)\n",
      "Requirement already satisfied: contourpy>=1.0.1 in c:\\users\\sk062\\miniconda3\\envs\\study\\lib\\site-packages (from matplotlib->japanize-matplotlib) (1.3.1)\n",
      "Requirement already satisfied: cycler>=0.10 in c:\\users\\sk062\\miniconda3\\envs\\study\\lib\\site-packages (from matplotlib->japanize-matplotlib) (0.11.0)\n",
      "Requirement already satisfied: fonttools>=4.22.0 in c:\\users\\sk062\\miniconda3\\envs\\study\\lib\\site-packages (from matplotlib->japanize-matplotlib) (4.51.0)\n",
      "Requirement already satisfied: kiwisolver>=1.3.1 in c:\\users\\sk062\\miniconda3\\envs\\study\\lib\\site-packages (from matplotlib->japanize-matplotlib) (1.4.4)\n",
      "Requirement already satisfied: numpy>=1.23 in c:\\users\\sk062\\miniconda3\\envs\\study\\lib\\site-packages (from matplotlib->japanize-matplotlib) (1.26.4)\n",
      "Requirement already satisfied: packaging>=20.0 in c:\\users\\sk062\\appdata\\roaming\\python\\python312\\site-packages (from matplotlib->japanize-matplotlib) (24.1)\n",
      "Requirement already satisfied: pillow>=8 in c:\\users\\sk062\\miniconda3\\envs\\study\\lib\\site-packages (from matplotlib->japanize-matplotlib) (11.0.0)\n",
      "Requirement already satisfied: pyparsing>=2.3.1 in c:\\users\\sk062\\miniconda3\\envs\\study\\lib\\site-packages (from matplotlib->japanize-matplotlib) (3.2.0)\n",
      "Requirement already satisfied: python-dateutil>=2.7 in c:\\users\\sk062\\appdata\\roaming\\python\\python312\\site-packages (from matplotlib->japanize-matplotlib) (2.9.0.post0)\n",
      "Requirement already satisfied: six>=1.5 in c:\\users\\sk062\\appdata\\roaming\\python\\python312\\site-packages (from python-dateutil>=2.7->matplotlib->japanize-matplotlib) (1.16.0)\n"
     ]
    }
   ],
   "source": [
    "!pip install japanize-matplotlib"
   ]
  },
  {
   "cell_type": "code",
   "execution_count": 11,
   "id": "20c4fe1d-437d-49c5-85c6-3f80a90a59e5",
   "metadata": {},
   "outputs": [],
   "source": [
    "import numpy as np\n",
    "import pandas as pd\n",
    "import matplotlib.pyplot as plt\n",
    "import japanize_matplotlib\n",
    "import collections"
   ]
  },
  {
   "cell_type": "code",
   "execution_count": 63,
   "id": "bd0304fa-f8a3-4e13-9edf-b0703125ab04",
   "metadata": {},
   "outputs": [
    {
     "name": "stderr",
     "output_type": "stream",
     "text": [
      "C:\\Users\\sk062\\AppData\\Local\\Temp\\ipykernel_20636\\2808252051.py:19: FutureWarning: Downcasting behavior in `replace` is deprecated and will be removed in a future version. To retain the old behavior, explicitly call `result.infer_objects(copy=False)`. To opt-in to the future behavior, set `pd.set_option('future.no_silent_downcasting', True)`\n",
      "  df_copy.iloc[:, 6] = df_copy.iloc[:, 6].replace('④希望しない', 4)\n",
      "C:\\Users\\sk062\\AppData\\Local\\Temp\\ipykernel_20636\\2808252051.py:25: FutureWarning: Downcasting behavior in `replace` is deprecated and will be removed in a future version. To retain the old behavior, explicitly call `result.infer_objects(copy=False)`. To opt-in to the future behavior, set `pd.set_option('future.no_silent_downcasting', True)`\n",
      "  df_copy.iloc[:, 9] = df_copy.iloc[:, 9].replace('⑤年に数回以下', 5)\n",
      "C:\\Users\\sk062\\AppData\\Local\\Temp\\ipykernel_20636\\2808252051.py:31: FutureWarning: Downcasting behavior in `replace` is deprecated and will be removed in a future version. To retain the old behavior, explicitly call `result.infer_objects(copy=False)`. To opt-in to the future behavior, set `pd.set_option('future.no_silent_downcasting', True)`\n",
      "  df_copy.iloc[:, 10] = df_copy.iloc[:, 10].replace('⑤３００円', 5)\n",
      "C:\\Users\\sk062\\AppData\\Local\\Temp\\ipykernel_20636\\2808252051.py:34: FutureWarning: Downcasting behavior in `replace` is deprecated and will be removed in a future version. To retain the old behavior, explicitly call `result.infer_objects(copy=False)`. To opt-in to the future behavior, set `pd.set_option('future.no_silent_downcasting', True)`\n",
      "  df_copy.iloc[:, 11] = df_copy.iloc[:, 11].replace('②危険を感じなかった', 2)\n",
      "C:\\Users\\sk062\\AppData\\Local\\Temp\\ipykernel_20636\\2808252051.py:45: FutureWarning: Downcasting behavior in `replace` is deprecated and will be removed in a future version. To retain the old behavior, explicitly call `result.infer_objects(copy=False)`. To opt-in to the future behavior, set `pd.set_option('future.no_silent_downcasting', True)`\n",
      "  df_copy.iloc[:, 13] = df_copy.iloc[:, 13].replace('⑪行政機関利用', 11)\n",
      "C:\\Users\\sk062\\AppData\\Local\\Temp\\ipykernel_20636\\2808252051.py:56: FutureWarning: Downcasting behavior in `replace` is deprecated and will be removed in a future version. To retain the old behavior, explicitly call `result.infer_objects(copy=False)`. To opt-in to the future behavior, set `pd.set_option('future.no_silent_downcasting', True)`\n",
      "  df_copy.iloc[:, 19] = df_copy.iloc[:, 19].replace('⑤全面的に協力できない', 5)\n",
      "C:\\Users\\sk062\\AppData\\Local\\Temp\\ipykernel_20636\\2808252051.py:62: FutureWarning: Downcasting behavior in `replace` is deprecated and will be removed in a future version. To retain the old behavior, explicitly call `result.infer_objects(copy=False)`. To opt-in to the future behavior, set `pd.set_option('future.no_silent_downcasting', True)`\n",
      "  df_copy.iloc[:, 20] = df_copy.iloc[:, 20].replace('⑤全面的に協力できない', 5)\n",
      "C:\\Users\\sk062\\AppData\\Local\\Temp\\ipykernel_20636\\2808252051.py:68: FutureWarning: Downcasting behavior in `replace` is deprecated and will be removed in a future version. To retain the old behavior, explicitly call `result.infer_objects(copy=False)`. To opt-in to the future behavior, set `pd.set_option('future.no_silent_downcasting', True)`\n",
      "  df_copy.iloc[:, 21] = df_copy.iloc[:, 21].replace('⑤全面的に協力できない', 5)\n",
      "C:\\Users\\sk062\\AppData\\Local\\Temp\\ipykernel_20636\\2808252051.py:74: FutureWarning: Downcasting behavior in `replace` is deprecated and will be removed in a future version. To retain the old behavior, explicitly call `result.infer_objects(copy=False)`. To opt-in to the future behavior, set `pd.set_option('future.no_silent_downcasting', True)`\n",
      "  df_copy.iloc[:, 22] = df_copy.iloc[:, 22].replace('⑤全面的に協力できない', 5)\n",
      "C:\\Users\\sk062\\AppData\\Local\\Temp\\ipykernel_20636\\2808252051.py:80: FutureWarning: Downcasting behavior in `replace` is deprecated and will be removed in a future version. To retain the old behavior, explicitly call `result.infer_objects(copy=False)`. To opt-in to the future behavior, set `pd.set_option('future.no_silent_downcasting', True)`\n",
      "  df_copy.iloc[:, 23] = df_copy.iloc[:, 23].replace('⑤全面的に協力できない', 5)\n",
      "C:\\Users\\sk062\\AppData\\Local\\Temp\\ipykernel_20636\\2808252051.py:86: FutureWarning: Downcasting behavior in `replace` is deprecated and will be removed in a future version. To retain the old behavior, explicitly call `result.infer_objects(copy=False)`. To opt-in to the future behavior, set `pd.set_option('future.no_silent_downcasting', True)`\n",
      "  df_copy.iloc[:, 24] = df_copy.iloc[:, 24].replace('⑤全面的に協力できない', 5)\n",
      "C:\\Users\\sk062\\AppData\\Local\\Temp\\ipykernel_20636\\2808252051.py:92: FutureWarning: Downcasting behavior in `replace` is deprecated and will be removed in a future version. To retain the old behavior, explicitly call `result.infer_objects(copy=False)`. To opt-in to the future behavior, set `pd.set_option('future.no_silent_downcasting', True)`\n",
      "  df_copy.iloc[:, 25] = df_copy.iloc[:, 25].replace('⑤全面的に協力できない', 5)\n",
      "C:\\Users\\sk062\\AppData\\Local\\Temp\\ipykernel_20636\\2808252051.py:98: FutureWarning: Downcasting behavior in `replace` is deprecated and will be removed in a future version. To retain the old behavior, explicitly call `result.infer_objects(copy=False)`. To opt-in to the future behavior, set `pd.set_option('future.no_silent_downcasting', True)`\n",
      "  df_copy.iloc[:, 26] = df_copy.iloc[:, 26].replace('⑤全面的に協力できない', 5)\n",
      "C:\\Users\\sk062\\AppData\\Local\\Temp\\ipykernel_20636\\2808252051.py:100: FutureWarning: Downcasting behavior in `replace` is deprecated and will be removed in a future version. To retain the old behavior, explicitly call `result.infer_objects(copy=False)`. To opt-in to the future behavior, set `pd.set_option('future.no_silent_downcasting', True)`\n",
      "  df_copy.iloc[:,1] = df_copy.iloc[:,1].replace({'男性': 1, '女性': 2, '無回答': 0})\n",
      "C:\\Users\\sk062\\AppData\\Local\\Temp\\ipykernel_20636\\2808252051.py:101: FutureWarning: Downcasting behavior in `replace` is deprecated and will be removed in a future version. To retain the old behavior, explicitly call `result.infer_objects(copy=False)`. To opt-in to the future behavior, set `pd.set_option('future.no_silent_downcasting', True)`\n",
      "  df_copy.iloc[:,2] = df_copy.iloc[:,2].replace({'10代未満': 5.0, '10代': 15, '20代': 25, '30代': 35, '40代': 45, '50代': 55, '60代': 65, '70代以上': 75})\n",
      "C:\\Users\\sk062\\AppData\\Local\\Temp\\ipykernel_20636\\2808252051.py:102: FutureWarning: Downcasting behavior in `replace` is deprecated and will be removed in a future version. To retain the old behavior, explicitly call `result.infer_objects(copy=False)`. To opt-in to the future behavior, set `pd.set_option('future.no_silent_downcasting', True)`\n",
      "  df_copy.iloc[:,4] = df_copy.iloc[:,4].replace({'神奈川県': 1, 'その他': 0, '東京都（23区以外）': 2, '23区（新宿区以外）': 3, '新宿区': 4})\n",
      "C:\\Users\\sk062\\AppData\\Local\\Temp\\ipykernel_20636\\2808252051.py:106: FutureWarning: Downcasting behavior in `replace` is deprecated and will be removed in a future version. To retain the old behavior, explicitly call `result.infer_objects(copy=False)`. To opt-in to the future behavior, set `pd.set_option('future.no_silent_downcasting', True)`\n",
      "  df_copy.iloc[:, 3] = df_copy.iloc[:, 3].replace('地域住民', 3)\n",
      "C:\\Users\\sk062\\AppData\\Local\\Temp\\ipykernel_20636\\2808252051.py:111: FutureWarning: Downcasting behavior in `replace` is deprecated and will be removed in a future version. To retain the old behavior, explicitly call `result.infer_objects(copy=False)`. To opt-in to the future behavior, set `pd.set_option('future.no_silent_downcasting', True)`\n",
      "  df_copy.iloc[:, 5] = df_copy.iloc[:, 5].replace('複数回参加した', 4)\n",
      "C:\\Users\\sk062\\AppData\\Local\\Temp\\ipykernel_20636\\2808252051.py:113: FutureWarning: Downcasting object dtype arrays on .fillna, .ffill, .bfill is deprecated and will change in a future version. Call result.infer_objects(copy=False) instead. To opt-in to the future behavior, set `pd.set_option('future.no_silent_downcasting', True)`\n",
      "  df_copy = df_copy.fillna(0)\n"
     ]
    }
   ],
   "source": [
    "df = pd.read_csv(r\"C:\\Users\\sk062\\OneDrive\\デスクトップ\\西新宿 自動運転アンケート2025.2.21~24.csv　108名バージョン\\西新宿 自動運転アンケート2025.2.21~24.csv\")\n",
    "df_copy = df.copy()\n",
    "df_copy.columns = [\n",
    "    \"timestamp\", \"Q1-1_attribute_Sex\", \"Q1-1_attribute_Age\", \"Q1-2_position\", \"Q1-3_region\",\n",
    "    \"Q1-4_past_autonomous_bus\", \"Q2-1_reuse_intent\", \"Q2-2_reason_reuse\", \"Q2-2_reason_no_reuse\",\n",
    "    \"Q2-3_usage_frequency\", \"Q3-1_fare_willingness\", \"Q4-1_safety_concern\", \"Q4-2_safety_situation\",\n",
    "    \"Q5-1_participation_reason\", \"Q5-2_info_source\", \"Q5-3_riding_comfort\", \"Q5-3_comfort_reason\",\n",
    "    \"Q5-4_expectation_future\", \"Q5-4_expectation_reason\",\n",
    "    \"Q6-1-a_beneficiary_parking\", \"Q6-1-b_non_beneficiary_parking\",\n",
    "    \"Q6-2-a_beneficiary_pedestrian\", \"Q6-2-b_non_beneficiary_pedestrian\",\n",
    "    \"Q6-3-a_beneficiary_speed_adjust\", \"Q6-3-b_non_beneficiary_speed_adjust\",\n",
    "    \"Q6-4-a_beneficiary_financial_burden\", \"Q6-4-b_non_beneficiary_financial_burden\",\n",
    "    \"Q7-1_self_service_acceptance\"\n",
    "]\n",
    "\n",
    "df_copy.iloc[:, 6] = df_copy.iloc[:, 6].replace('①希望する', 1)\n",
    "df_copy.iloc[:, 6] = df_copy.iloc[:, 6].replace('②どちらかというと希望する', 2)\n",
    "df_copy.iloc[:, 6] = df_copy.iloc[:, 6].replace('③どちらかというと希望しない', 3)\n",
    "df_copy.iloc[:, 6] = df_copy.iloc[:, 6].replace('④希望しない', 4)\n",
    "\n",
    "df_copy.iloc[:, 9] = df_copy.iloc[:, 9].replace('①週５回以上', 1)\n",
    "df_copy.iloc[:, 9] = df_copy.iloc[:, 9].replace('②週３～４回', 2)\n",
    "df_copy.iloc[:, 9] = df_copy.iloc[:, 9].replace('③週１～２回', 3)\n",
    "df_copy.iloc[:, 9] = df_copy.iloc[:, 9].replace('④月に１～３回', 4)\n",
    "df_copy.iloc[:, 9] = df_copy.iloc[:, 9].replace('⑤年に数回以下', 5)\n",
    "\n",
    "df_copy.iloc[:, 10] = df_copy.iloc[:, 10].replace('①１００円以下', 1)\n",
    "df_copy.iloc[:, 10] = df_copy.iloc[:, 10].replace('②１５０円', 2)\n",
    "df_copy.iloc[:, 10] = df_copy.iloc[:, 10].replace('③２００円', 3)\n",
    "df_copy.iloc[:, 10] = df_copy.iloc[:, 10].replace('④２５０円', 4)\n",
    "df_copy.iloc[:, 10] = df_copy.iloc[:, 10].replace('⑤３００円', 5)\n",
    "\n",
    "df_copy.iloc[:, 11] = df_copy.iloc[:, 11].replace('①危険を感じた', 1)\n",
    "df_copy.iloc[:, 11] = df_copy.iloc[:, 11].replace('②危険を感じなかった', 2)\n",
    "\n",
    "df_copy.iloc[:, 13] = df_copy.iloc[:, 13].replace('①興味本位', 1)\n",
    "df_copy.iloc[:, 13] = df_copy.iloc[:, 13].replace('②家族・友人に誘われたから', 2)\n",
    "df_copy.iloc[:, 13] = df_copy.iloc[:, 13].replace('③試しに乗ってみた（視察含む）', 3)\n",
    "df_copy.iloc[:, 13] = df_copy.iloc[:, 13].replace('⑤自動運動システムに興味があった', 5)\n",
    "df_copy.iloc[:, 13] = df_copy.iloc[:, 13].replace('⑥通勤（都庁）', 6)\n",
    "df_copy.iloc[:, 13] = df_copy.iloc[:, 13].replace('⑦通勤（都庁以外）', 7)\n",
    "df_copy.iloc[:, 13] = df_copy.iloc[:, 13].replace('⑧業務', 8)\n",
    "df_copy.iloc[:, 13] = df_copy.iloc[:, 13].replace('⑨趣味・コミュニティ活動', 9)\n",
    "df_copy.iloc[:, 13] = df_copy.iloc[:, 13].replace('⑩通院/健康関係', 10)\n",
    "df_copy.iloc[:, 13] = df_copy.iloc[:, 13].replace('⑪行政機関利用', 11)\n",
    "df_copy.iloc[:, 13] = df_copy.iloc[:, 13].replace('⑫金融/郵便関係利用', 12)\n",
    "df_copy.iloc[:, 13] = df_copy.iloc[:, 13].replace('⑬外食', 13)\n",
    "df_copy.iloc[:, 13] = df_copy.iloc[:, 13].replace('⑭日用品の購入', 14)\n",
    "df_copy.iloc[:, 13] = df_copy.iloc[:, 13].replace('⑮（日用品を除く）物品の購入/サービス契約', 15)\n",
    "df_copy.iloc[:, 13] = df_copy.iloc[:, 13].replace('⑯仕事以外の方（知人/友人/家族等）の面会', 16)\n",
    "\n",
    "df_copy.iloc[:, 19] = df_copy.iloc[:, 19].replace('①全面的に協力できる', 1)\n",
    "df_copy.iloc[:, 19] = df_copy.iloc[:, 19].replace('②やや協力できる', 2)\n",
    "df_copy.iloc[:, 19] = df_copy.iloc[:, 19].replace('③普通', 3)\n",
    "df_copy.iloc[:, 19] = df_copy.iloc[:, 19].replace('④やや協力できない', 4)\n",
    "df_copy.iloc[:, 19] = df_copy.iloc[:, 19].replace('⑤全面的に協力できない', 5)\n",
    "\n",
    "df_copy.iloc[:, 20] = df_copy.iloc[:, 20].replace('①全面的に協力できる', 1)\n",
    "df_copy.iloc[:, 20] = df_copy.iloc[:, 20].replace('②やや協力できる', 2)\n",
    "df_copy.iloc[:, 20] = df_copy.iloc[:, 20].replace('③普通', 3)\n",
    "df_copy.iloc[:, 20] = df_copy.iloc[:, 20].replace('④やや協力できない', 4)\n",
    "df_copy.iloc[:, 20] = df_copy.iloc[:, 20].replace('⑤全面的に協力できない', 5)\n",
    "\n",
    "df_copy.iloc[:, 21] = df_copy.iloc[:, 21].replace('①全面的に協力できる', 1)\n",
    "df_copy.iloc[:, 21] = df_copy.iloc[:, 21].replace('②やや協力できる', 2)\n",
    "df_copy.iloc[:, 21] = df_copy.iloc[:, 21].replace('③普通', 3)\n",
    "df_copy.iloc[:, 21] = df_copy.iloc[:, 21].replace('④やや協力できない', 4)\n",
    "df_copy.iloc[:, 21] = df_copy.iloc[:, 21].replace('⑤全面的に協力できない', 5)\n",
    "\n",
    "df_copy.iloc[:, 22] = df_copy.iloc[:, 22].replace('①全面的に協力できる', 1)\n",
    "df_copy.iloc[:, 22] = df_copy.iloc[:, 22].replace('②やや協力できる', 2)\n",
    "df_copy.iloc[:, 22] = df_copy.iloc[:, 22].replace('③普通', 3)\n",
    "df_copy.iloc[:, 22] = df_copy.iloc[:, 22].replace('④やや協力できない', 4)\n",
    "df_copy.iloc[:, 22] = df_copy.iloc[:, 22].replace('⑤全面的に協力できない', 5)\n",
    "\n",
    "df_copy.iloc[:, 23] = df_copy.iloc[:, 23].replace('①全面的に協力できる', 1)\n",
    "df_copy.iloc[:, 23] = df_copy.iloc[:, 23].replace('②やや協力できる', 2)\n",
    "df_copy.iloc[:, 23] = df_copy.iloc[:, 23].replace('③普通', 3)\n",
    "df_copy.iloc[:, 23] = df_copy.iloc[:, 23].replace('④やや協力できない', 4)\n",
    "df_copy.iloc[:, 23] = df_copy.iloc[:, 23].replace('⑤全面的に協力できない', 5)\n",
    "\n",
    "df_copy.iloc[:, 24] = df_copy.iloc[:, 24].replace('①全面的に協力できる', 1)\n",
    "df_copy.iloc[:, 24] = df_copy.iloc[:, 24].replace('②やや協力できる', 2)\n",
    "df_copy.iloc[:, 24] = df_copy.iloc[:, 24].replace('③普通', 3)\n",
    "df_copy.iloc[:, 24] = df_copy.iloc[:, 24].replace('④やや協力できない', 4)\n",
    "df_copy.iloc[:, 24] = df_copy.iloc[:, 24].replace('⑤全面的に協力できない', 5)\n",
    "\n",
    "df_copy.iloc[:, 25] = df_copy.iloc[:, 25].replace('①全面的に協力できる', 1)\n",
    "df_copy.iloc[:, 25] = df_copy.iloc[:, 25].replace('②やや協力できる', 2)\n",
    "df_copy.iloc[:, 25] = df_copy.iloc[:, 25].replace('③普通', 3)\n",
    "df_copy.iloc[:, 25] = df_copy.iloc[:, 25].replace('④やや協力できない', 4)\n",
    "df_copy.iloc[:, 25] = df_copy.iloc[:, 25].replace('⑤全面的に協力できない', 5)\n",
    "\n",
    "df_copy.iloc[:, 26] = df_copy.iloc[:, 26].replace('①全面的に協力できる', 1)\n",
    "df_copy.iloc[:, 26] = df_copy.iloc[:, 26].replace('②やや協力できる', 2)\n",
    "df_copy.iloc[:, 26] = df_copy.iloc[:, 26].replace('③普通', 3)\n",
    "df_copy.iloc[:, 26] = df_copy.iloc[:, 26].replace('④やや協力できない', 4)\n",
    "df_copy.iloc[:, 26] = df_copy.iloc[:, 26].replace('⑤全面的に協力できない', 5)\n",
    "\n",
    "df_copy.iloc[:,1] = df_copy.iloc[:,1].replace({'男性': 1, '女性': 2, '無回答': 0})\n",
    "df_copy.iloc[:,2] = df_copy.iloc[:,2].replace({'10代未満': 5.0, '10代': 15, '20代': 25, '30代': 35, '40代': 45, '50代': 55, '60代': 65, '70代以上': 75})\n",
    "df_copy.iloc[:,4] = df_copy.iloc[:,4].replace({'神奈川県': 1, 'その他': 0, '東京都（23区以外）': 2, '23区（新宿区以外）': 3, '新宿区': 4})\n",
    "\n",
    "df_copy.iloc[:, 3] = df_copy.iloc[:, 3].replace('関係者', 1)\n",
    "df_copy.iloc[:, 3] = df_copy.iloc[:, 3].replace('他地域からの来訪者', 2)\n",
    "df_copy.iloc[:, 3] = df_copy.iloc[:, 3].replace('地域住民', 3)\n",
    "\n",
    "df_copy.iloc[:, 5] = df_copy.iloc[:, 5].replace('今回試乗していない', 1)\n",
    "df_copy.iloc[:, 5] = df_copy.iloc[:, 5].replace('初めて参加した', 2)\n",
    "df_copy.iloc[:, 5] = df_copy.iloc[:, 5].replace('1回参加した', 3)\n",
    "df_copy.iloc[:, 5] = df_copy.iloc[:, 5].replace('複数回参加した', 4)\n",
    "\n",
    "df_copy = df_copy.fillna(0)"
   ]
  },
  {
   "cell_type": "code",
   "execution_count": 64,
   "id": "38f7aa91-b8fe-45b9-85e8-3b0e5c1ad692",
   "metadata": {},
   "outputs": [
    {
     "data": {
      "text/plain": [
       "Index(['timestamp', 'Q1-1_attribute_Sex', 'Q1-1_attribute_Age',\n",
       "       'Q1-2_position', 'Q1-3_region', 'Q1-4_past_autonomous_bus',\n",
       "       'Q2-1_reuse_intent', 'Q2-2_reason_reuse', 'Q2-2_reason_no_reuse',\n",
       "       'Q2-3_usage_frequency', 'Q3-1_fare_willingness', 'Q4-1_safety_concern',\n",
       "       'Q4-2_safety_situation', 'Q5-1_participation_reason',\n",
       "       'Q5-2_info_source', 'Q5-3_riding_comfort', 'Q5-3_comfort_reason',\n",
       "       'Q5-4_expectation_future', 'Q5-4_expectation_reason',\n",
       "       'Q6-1-a_beneficiary_parking', 'Q6-1-b_non_beneficiary_parking',\n",
       "       'Q6-2-a_beneficiary_pedestrian', 'Q6-2-b_non_beneficiary_pedestrian',\n",
       "       'Q6-3-a_beneficiary_speed_adjust',\n",
       "       'Q6-3-b_non_beneficiary_speed_adjust',\n",
       "       'Q6-4-a_beneficiary_financial_burden',\n",
       "       'Q6-4-b_non_beneficiary_financial_burden',\n",
       "       'Q7-1_self_service_acceptance'],\n",
       "      dtype='object')"
      ]
     },
     "execution_count": 64,
     "metadata": {},
     "output_type": "execute_result"
    }
   ],
   "source": [
    "df_copy.columns"
   ]
  },
  {
   "cell_type": "code",
   "execution_count": 65,
   "id": "79e8b0db-4170-4984-ab72-3f2c58d76a5f",
   "metadata": {},
   "outputs": [
    {
     "data": {
      "text/plain": [
       "Counter({2.0: 55, 0.0: 27, 1.0: 26})"
      ]
     },
     "execution_count": 65,
     "metadata": {},
     "output_type": "execute_result"
    }
   ],
   "source": [
    "collections.Counter(df_copy.iloc[:,11])"
   ]
  },
  {
   "cell_type": "code",
   "execution_count": 66,
   "id": "1b6f7bfe-164a-4aec-b871-d9e00bac927d",
   "metadata": {},
   "outputs": [
    {
     "data": {
      "text/plain": [
       "Counter({'②危険を感じなかった': 55, nan: 27, '①危険を感じた': 26})"
      ]
     },
     "execution_count": 66,
     "metadata": {},
     "output_type": "execute_result"
    }
   ],
   "source": [
    "collections.Counter(df.iloc[:,11])"
   ]
  },
  {
   "cell_type": "code",
   "execution_count": 67,
   "id": "e729ab2e-7b05-49e0-9a1d-9d1c78f09c45",
   "metadata": {},
   "outputs": [
    {
     "name": "stdout",
     "output_type": "stream",
     "text": [
      "0    2.0\n",
      "1    1.0\n",
      "2    2.0\n",
      "3    3.0\n",
      "4    0.0\n",
      "Name: Q3-1_fare_willingness, dtype: float64\n",
      "0    1\n",
      "1    0\n",
      "2    2\n",
      "3    3\n",
      "4    3\n",
      "Name: Q1-3_region, dtype: int64\n"
     ]
    }
   ],
   "source": [
    "print(df_copy.iloc[:,10].head())\n",
    "print(df_copy.iloc[:,4].head() )"
   ]
  },
  {
   "cell_type": "code",
   "execution_count": 68,
   "id": "a15a597e-a0d3-4b32-b1aa-f7a5d56c42aa",
   "metadata": {},
   "outputs": [
    {
     "name": "stdout",
     "output_type": "stream",
     "text": [
      "Q1-3_region  Q3-1_fare_willingness\n",
      "0            0.0                       3\n",
      "             1.0                       2\n",
      "             2.0                       5\n",
      "             3.0                       8\n",
      "             4.0                       2\n",
      "1            0.0                      10\n",
      "             1.0                       1\n",
      "             2.0                       5\n",
      "             3.0                       4\n",
      "             5.0                       2\n",
      "2            0.0                       5\n",
      "             1.0                       2\n",
      "             2.0                       4\n",
      "             3.0                      11\n",
      "             4.0                       2\n",
      "             5.0                       1\n",
      "3            0.0                       9\n",
      "             1.0                       3\n",
      "             2.0                       8\n",
      "             3.0                      10\n",
      "             4.0                       6\n",
      "             5.0                       1\n",
      "4            0.0                       1\n",
      "             1.0                       1\n",
      "             2.0                       2\n",
      "dtype: int64\n"
     ]
    }
   ],
   "source": [
    "print(df_copy.groupby([ df_copy.iloc[:,4] , df_copy.iloc[:,10]] ) . size ())"
   ]
  },
  {
   "cell_type": "code",
   "execution_count": 69,
   "id": "12a46fba-f85c-4654-8563-cef18c45b017",
   "metadata": {},
   "outputs": [
    {
     "name": "stdout",
     "output_type": "stream",
     "text": [
      "問１-３　あなたが住んでいる地域について〇をつけてください 。  問３-１　１回の利用について、運賃はいくらまでであれば支払うことが出来ますか？\n",
      "23区（新宿区以外）                       ①１００円以下                                     3\n",
      "                                 ②１５０円                                       8\n",
      "                                 ③２００円                                      10\n",
      "                                 ④２５０円                                       6\n",
      "                                 ⑤３００円                                       1\n",
      "その他                              ①１００円以下                                     2\n",
      "                                 ②１５０円                                       5\n",
      "                                 ③２００円                                       8\n",
      "                                 ④２５０円                                       2\n",
      "新宿区                              ①１００円以下                                     1\n",
      "                                 ②１５０円                                       2\n",
      "東京都（23区以外）                       ①１００円以下                                     2\n",
      "                                 ②１５０円                                       4\n",
      "                                 ③２００円                                      11\n",
      "                                 ④２５０円                                       2\n",
      "                                 ⑤３００円                                       1\n",
      "神奈川県                             ①１００円以下                                     1\n",
      "                                 ②１５０円                                       5\n",
      "                                 ③２００円                                       4\n",
      "                                 ⑤３００円                                       2\n",
      "dtype: int64\n"
     ]
    }
   ],
   "source": [
    "print(df.groupby([ df.iloc[:,4] , df.iloc[:,10]] ) . size ())"
   ]
  },
  {
   "cell_type": "code",
   "execution_count": 75,
   "id": "b79cb414-be9e-47fb-b3de-af3fda599e4d",
   "metadata": {},
   "outputs": [
    {
     "name": "stdout",
     "output_type": "stream",
     "text": [
      "Q1-1_attribute_Sex                           int64\n",
      "Q1-1_attribute_Age                         float64\n",
      "Q1-2_position                                int64\n",
      "Q1-3_region                                  int64\n",
      "Q1-4_past_autonomous_bus                     int64\n",
      "Q2-1_reuse_intent                          float64\n",
      "Q2-3_usage_frequency                       float64\n",
      "Q3-1_fare_willingness                      float64\n",
      "Q4-1_safety_concern                        float64\n",
      "Q5-3_riding_comfort                         object\n",
      "Q6-1-a_beneficiary_parking                   int64\n",
      "Q6-1-b_non_beneficiary_parking               int64\n",
      "Q6-2-a_beneficiary_pedestrian                int64\n",
      "Q6-2-b_non_beneficiary_pedestrian            int64\n",
      "Q6-3-a_beneficiary_speed_adjust              int64\n",
      "Q6-3-b_non_beneficiary_speed_adjust          int64\n",
      "Q6-4-a_beneficiary_financial_burden          int64\n",
      "Q6-4-b_non_beneficiary_financial_burden      int64\n",
      "dtype: object\n"
     ]
    }
   ],
   "source": [
    "print(df_copy.iloc[:, [1,2,3,4,5,6,9,10,11,15,19,20,21,22,23,24,25,26]].squeeze().dtypes)"
   ]
  },
  {
   "cell_type": "code",
   "execution_count": 76,
   "id": "8ab91e0a-1fbb-457e-8528-b77eb657f4e2",
   "metadata": {},
   "outputs": [
    {
     "name": "stderr",
     "output_type": "stream",
     "text": [
      "C:\\Users\\sk062\\AppData\\Local\\Temp\\ipykernel_20636\\680587048.py:5: FutureWarning: Downcasting behavior in `replace` is deprecated and will be removed in a future version. To retain the old behavior, explicitly call `result.infer_objects(copy=False)`. To opt-in to the future behavior, set `pd.set_option('future.no_silent_downcasting', True)`\n",
      "  df_copy.iloc[:, 15] = df_copy.iloc[:, 15].replace('①満足', 1)\n"
     ]
    }
   ],
   "source": []
  },
  {
   "cell_type": "code",
   "execution_count": 74,
   "id": "9a109b81-96ad-4cf1-947b-ce65ba432ebc",
   "metadata": {},
   "outputs": [
    {
     "data": {
      "text/plain": [
       "array(['①運行便数（ダイヤ）の増加', '②運行地域（路線）の拡大', '安全性', 0, '現行の路線網維持',\n",
       "       '①と②をあわさって、よいとこどりをした、「オン・デマンド」方式による運行',\n",
       "       '運行路線の拡大。あと、他に書くとこないからここに記載。実証実験も含んでいると思うので、運転手の手元等を社内にモニタで映像を流した方がいいと思う。システムの映像とか見えるけど、運転手が運転していない姿が全く見えない。自動運転してるので何が一番すげーって思うかって言ったら、やっぱり自動で動いているとこを見ることだと思う。実は運転してましたって言われてもやっぱりねってなる。'],\n",
       "      dtype=object)"
      ]
     },
     "execution_count": 74,
     "metadata": {},
     "output_type": "execute_result"
    }
   ],
   "source": [
    "df_copy.iloc[:, 17].unique()"
   ]
  },
  {
   "cell_type": "code",
   "execution_count": null,
   "id": "2a921c65-e086-4b0c-beea-ec3cbb81311f",
   "metadata": {},
   "outputs": [],
   "source": []
  },
  {
   "cell_type": "code",
   "execution_count": null,
   "id": "e1528d0c-eeeb-48a0-89f8-fc3b99b15bc8",
   "metadata": {},
   "outputs": [],
   "source": []
  },
  {
   "cell_type": "code",
   "execution_count": null,
   "id": "25b08f7b-36f0-48ce-beb2-456e0bcc8015",
   "metadata": {},
   "outputs": [],
   "source": []
  },
  {
   "cell_type": "code",
   "execution_count": null,
   "id": "4aedf964-0b9d-42bb-8257-e610f0794b06",
   "metadata": {},
   "outputs": [],
   "source": []
  }
 ],
 "metadata": {
  "kernelspec": {
   "display_name": "Python 3 (ipykernel)",
   "language": "python",
   "name": "python3"
  },
  "language_info": {
   "codemirror_mode": {
    "name": "ipython",
    "version": 3
   },
   "file_extension": ".py",
   "mimetype": "text/x-python",
   "name": "python",
   "nbconvert_exporter": "python",
   "pygments_lexer": "ipython3",
   "version": "3.12.7"
  }
 },
 "nbformat": 4,
 "nbformat_minor": 5
}
