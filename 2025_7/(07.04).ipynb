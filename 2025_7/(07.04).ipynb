{
 "cells": [
  {
   "cell_type": "code",
   "execution_count": 7,
   "id": "35019989-6995-4405-a2b2-21a100c9857d",
   "metadata": {},
   "outputs": [],
   "source": [
    "import pandas as pd\n",
    "import numpy as np\n",
    "import statsmodels.api as sm\n",
    "import statsmodels.formula.api as smf\n",
    "import seaborn as sns\n",
    "import matplotlib.pyplot as plt\n",
    "from patsy import dmatrices\n",
    "import japanize_matplotlib"
   ]
  },
  {
   "cell_type": "code",
   "execution_count": 8,
   "id": "e1de9505-51d1-46db-b67a-52c6145617a7",
   "metadata": {},
   "outputs": [],
   "source": [
    "# 1. データの入力 -----------------------------------------------------------\n",
    "# Rのc()やdata.frame()の代わりに、Pythonのリストとpandas.DataFrameを使用します。\n",
    "carbohydrate = [33, 40, 37, 27, 30, 43, 34, 48, 30, 38,\n",
    "                50, 51, 30, 36, 41, 42, 46, 24, 35, 37]  # 目的変数 y\n",
    "age          = [33, 47, 49, 35, 46, 52, 62, 23, 32, 42,\n",
    "                31, 61, 63, 40, 50, 64, 56, 61, 48, 28]  # 説明変数 x1\n",
    "weight       = [100, 92, 135, 144, 140, 101, 95, 101, 98, 105,\n",
    "                108, 85, 130, 127, 109, 107, 117, 100, 118, 102] # x2\n",
    "protein      = [14, 15, 18, 12, 15, 15, 14, 17, 15, 14,\n",
    "                17, 19, 19, 20, 15, 16, 18, 13, 18, 14] # x3\n",
    "\n",
    "data_dict = {\n",
    "    'carbohydrate': carbohydrate,\n",
    "    'age': age,\n",
    "    'weight': weight,\n",
    "    'protein': protein\n",
    "}\n",
    "data_tbl = pd.DataFrame(data_dict)"
   ]
  },
  {
   "cell_type": "code",
   "execution_count": 9,
   "id": "8aada2b7-a96e-467d-b9bc-27c5656f23c7",
   "metadata": {},
   "outputs": [
    {
     "data": {
      "text/html": [
       "<div>\n",
       "<style scoped>\n",
       "    .dataframe tbody tr th:only-of-type {\n",
       "        vertical-align: middle;\n",
       "    }\n",
       "\n",
       "    .dataframe tbody tr th {\n",
       "        vertical-align: top;\n",
       "    }\n",
       "\n",
       "    .dataframe thead th {\n",
       "        text-align: right;\n",
       "    }\n",
       "</style>\n",
       "<table border=\"1\" class=\"dataframe\">\n",
       "  <thead>\n",
       "    <tr style=\"text-align: right;\">\n",
       "      <th></th>\n",
       "      <th>carbohydrate</th>\n",
       "      <th>age</th>\n",
       "      <th>weight</th>\n",
       "      <th>protein</th>\n",
       "    </tr>\n",
       "  </thead>\n",
       "  <tbody>\n",
       "    <tr>\n",
       "      <th>0</th>\n",
       "      <td>33</td>\n",
       "      <td>33</td>\n",
       "      <td>100</td>\n",
       "      <td>14</td>\n",
       "    </tr>\n",
       "    <tr>\n",
       "      <th>1</th>\n",
       "      <td>40</td>\n",
       "      <td>47</td>\n",
       "      <td>92</td>\n",
       "      <td>15</td>\n",
       "    </tr>\n",
       "    <tr>\n",
       "      <th>2</th>\n",
       "      <td>37</td>\n",
       "      <td>49</td>\n",
       "      <td>135</td>\n",
       "      <td>18</td>\n",
       "    </tr>\n",
       "    <tr>\n",
       "      <th>3</th>\n",
       "      <td>27</td>\n",
       "      <td>35</td>\n",
       "      <td>144</td>\n",
       "      <td>12</td>\n",
       "    </tr>\n",
       "    <tr>\n",
       "      <th>4</th>\n",
       "      <td>30</td>\n",
       "      <td>46</td>\n",
       "      <td>140</td>\n",
       "      <td>15</td>\n",
       "    </tr>\n",
       "    <tr>\n",
       "      <th>5</th>\n",
       "      <td>43</td>\n",
       "      <td>52</td>\n",
       "      <td>101</td>\n",
       "      <td>15</td>\n",
       "    </tr>\n",
       "    <tr>\n",
       "      <th>6</th>\n",
       "      <td>34</td>\n",
       "      <td>62</td>\n",
       "      <td>95</td>\n",
       "      <td>14</td>\n",
       "    </tr>\n",
       "    <tr>\n",
       "      <th>7</th>\n",
       "      <td>48</td>\n",
       "      <td>23</td>\n",
       "      <td>101</td>\n",
       "      <td>17</td>\n",
       "    </tr>\n",
       "    <tr>\n",
       "      <th>8</th>\n",
       "      <td>30</td>\n",
       "      <td>32</td>\n",
       "      <td>98</td>\n",
       "      <td>15</td>\n",
       "    </tr>\n",
       "    <tr>\n",
       "      <th>9</th>\n",
       "      <td>38</td>\n",
       "      <td>42</td>\n",
       "      <td>105</td>\n",
       "      <td>14</td>\n",
       "    </tr>\n",
       "    <tr>\n",
       "      <th>10</th>\n",
       "      <td>50</td>\n",
       "      <td>31</td>\n",
       "      <td>108</td>\n",
       "      <td>17</td>\n",
       "    </tr>\n",
       "    <tr>\n",
       "      <th>11</th>\n",
       "      <td>51</td>\n",
       "      <td>61</td>\n",
       "      <td>85</td>\n",
       "      <td>19</td>\n",
       "    </tr>\n",
       "    <tr>\n",
       "      <th>12</th>\n",
       "      <td>30</td>\n",
       "      <td>63</td>\n",
       "      <td>130</td>\n",
       "      <td>19</td>\n",
       "    </tr>\n",
       "    <tr>\n",
       "      <th>13</th>\n",
       "      <td>36</td>\n",
       "      <td>40</td>\n",
       "      <td>127</td>\n",
       "      <td>20</td>\n",
       "    </tr>\n",
       "    <tr>\n",
       "      <th>14</th>\n",
       "      <td>41</td>\n",
       "      <td>50</td>\n",
       "      <td>109</td>\n",
       "      <td>15</td>\n",
       "    </tr>\n",
       "    <tr>\n",
       "      <th>15</th>\n",
       "      <td>42</td>\n",
       "      <td>64</td>\n",
       "      <td>107</td>\n",
       "      <td>16</td>\n",
       "    </tr>\n",
       "    <tr>\n",
       "      <th>16</th>\n",
       "      <td>46</td>\n",
       "      <td>56</td>\n",
       "      <td>117</td>\n",
       "      <td>18</td>\n",
       "    </tr>\n",
       "    <tr>\n",
       "      <th>17</th>\n",
       "      <td>24</td>\n",
       "      <td>61</td>\n",
       "      <td>100</td>\n",
       "      <td>13</td>\n",
       "    </tr>\n",
       "    <tr>\n",
       "      <th>18</th>\n",
       "      <td>35</td>\n",
       "      <td>48</td>\n",
       "      <td>118</td>\n",
       "      <td>18</td>\n",
       "    </tr>\n",
       "    <tr>\n",
       "      <th>19</th>\n",
       "      <td>37</td>\n",
       "      <td>28</td>\n",
       "      <td>102</td>\n",
       "      <td>14</td>\n",
       "    </tr>\n",
       "  </tbody>\n",
       "</table>\n",
       "</div>"
      ],
      "text/plain": [
       "    carbohydrate  age  weight  protein\n",
       "0             33   33     100       14\n",
       "1             40   47      92       15\n",
       "2             37   49     135       18\n",
       "3             27   35     144       12\n",
       "4             30   46     140       15\n",
       "5             43   52     101       15\n",
       "6             34   62      95       14\n",
       "7             48   23     101       17\n",
       "8             30   32      98       15\n",
       "9             38   42     105       14\n",
       "10            50   31     108       17\n",
       "11            51   61      85       19\n",
       "12            30   63     130       19\n",
       "13            36   40     127       20\n",
       "14            41   50     109       15\n",
       "15            42   64     107       16\n",
       "16            46   56     117       18\n",
       "17            24   61     100       13\n",
       "18            35   48     118       18\n",
       "19            37   28     102       14"
      ]
     },
     "execution_count": 9,
     "metadata": {},
     "output_type": "execute_result"
    }
   ],
   "source": [
    "data_tbl"
   ]
  },
  {
   "cell_type": "code",
   "execution_count": 10,
   "id": "6ad5da7b-02da-4969-a652-2501d4cab35d",
   "metadata": {},
   "outputs": [
    {
     "name": "stdout",
     "output_type": "stream",
     "text": [
      "--- 2. データの構造 (Rのstr()に相当) ---\n",
      "<class 'pandas.core.frame.DataFrame'>\n",
      "RangeIndex: 20 entries, 0 to 19\n",
      "Data columns (total 4 columns):\n",
      " #   Column        Non-Null Count  Dtype\n",
      "---  ------        --------------  -----\n",
      " 0   carbohydrate  20 non-null     int64\n",
      " 1   age           20 non-null     int64\n",
      " 2   weight        20 non-null     int64\n",
      " 3   protein       20 non-null     int64\n",
      "dtypes: int64(4)\n",
      "memory usage: 772.0 bytes\n",
      "\n",
      "--- 2. データの要約統計量 (Rのsummary()に相当) ---\n",
      "       carbohydrate        age      weight    protein\n",
      "count     20.000000  20.000000   20.000000  20.000000\n",
      "mean      37.600000  46.150000  110.700000  15.900000\n",
      "std        7.583916  12.774461   16.632562   2.221901\n",
      "min       24.000000  23.000000   85.000000  12.000000\n",
      "25%       32.250000  34.500000  100.000000  14.000000\n",
      "50%       37.000000  47.500000  106.000000  15.000000\n",
      "75%       42.250000  57.250000  120.250000  18.000000\n",
      "max       51.000000  64.000000  144.000000  20.000000\n"
     ]
    }
   ],
   "source": [
    "# 2. データの概観 ---------------------------------------------------\n",
    "print(\"--- 2. データの構造 (Rのstr()に相当) ---\")\n",
    "data_tbl.info()      # Rのstr()に似た、データ構造の要約\n",
    "print(\"\\n--- 2. データの要約統計量 (Rのsummary()に相当) ---\")\n",
    "print(data_tbl.describe()) # Rのsummary()に似た、記述統計量の表示"
   ]
  },
  {
   "cell_type": "code",
   "execution_count": 11,
   "id": "354d51c9-3ccb-4afc-9dc1-9cea82c3bb82",
   "metadata": {},
   "outputs": [
    {
     "name": "stdout",
     "output_type": "stream",
     "text": [
      "\n",
      "--- 3. 散布図行列を生成中 ---\n"
     ]
    },
    {
     "data": {
      "text/plain": [
       "[]"
      ]
     },
     "execution_count": 11,
     "metadata": {},
     "output_type": "execute_result"
    },
    {
     "data": {
      "image/png": "[encoded data removed]",
      "text/plain": [
       "<Figure size 1000x1000 with 20 Axes>"
      ]
     },
     "metadata": {},
     "output_type": "display_data"
    }
   ],
   "source": [
    "# 3. 散布図行列 ------------------------------------------------------\n",
    "# Rのpairs()の代わりに、seabornのpairplot()を使用します。\n",
    "print(\"\\n--- 3. 散布図行列を生成中 ---\")\n",
    "pair_plot = sns.pairplot(data_tbl, plot_kws={'color': 'dodgerblue'})\n",
    "pair_plot.fig.suptitle(\"散布図行列 – 炭水化物, 年齢, 体重, タンパク質\", y=1.02) # yでタイトルの位置を調整\n",
    "plt.savefig(\"scatter_plot_matrix_py.png\")\n",
    "plt.plot()"
   ]
  },
  {
   "cell_type": "code",
   "execution_count": 12,
   "id": "6ae43c45-a6d0-4da4-8f6f-2eac7fc2cc56",
   "metadata": {},
   "outputs": [
    {
     "name": "stdout",
     "output_type": "stream",
     "text": [
      "\n",
      "--- 4. 最小二乗法 (OLS) によるモデル適合結果 ---\n",
      "                            OLS Regression Results                            \n",
      "==============================================================================\n",
      "Dep. Variable:           carbohydrate   R-squared:                       0.481\n",
      "Model:                            OLS   Adj. R-squared:                  0.383\n",
      "Method:                 Least Squares   F-statistic:                     4.934\n",
      "Date:                Fri, 04 Jul 2025   Prob (F-statistic):             0.0130\n",
      "Time:                        09:41:19   Log-Likelihood:                -61.837\n",
      "No. Observations:                  20   AIC:                             131.7\n",
      "Df Residuals:                      16   BIC:                             135.7\n",
      "Df Model:                           3                                         \n",
      "Covariance Type:            nonrobust                                         \n",
      "==============================================================================\n",
      "                 coef    std err          t      P>|t|      [0.025      0.975]\n",
      "------------------------------------------------------------------------------\n",
      "Intercept     36.9601     13.071      2.828      0.012       9.250      64.670\n",
      "age           -0.1137      0.109     -1.040      0.314      -0.345       0.118\n",
      "weight        -0.2280      0.083     -2.738      0.015      -0.405      -0.051\n",
      "protein        1.9577      0.635      3.084      0.007       0.612       3.304\n",
      "==============================================================================\n",
      "Omnibus:                        2.146   Durbin-Watson:                   1.875\n",
      "Prob(Omnibus):                  0.342   Jarque-Bera (JB):                1.425\n",
      "Skew:                          -0.417   Prob(JB):                        0.490\n",
      "Kurtosis:                       1.993   Cond. No.                     1.20e+03\n",
      "==============================================================================\n",
      "\n",
      "Notes:\n",
      "[1] Standard Errors assume that the covariance matrix of the errors is correctly specified.\n",
      "[2] The condition number is large, 1.2e+03. This might indicate that there are\n",
      "strong multicollinearity or other numerical problems.\n"
     ]
    }
   ],
   "source": [
    "# 4. 最小二乗法によるモデル構築 -------------------------------------------\n",
    "# Rのlm()の代わりに、statsmodels.formula.apiのols()を使用します。\n",
    "# モデル式はRとほぼ同じ文字列で記述できます。\n",
    "print(\"\\n--- 4. 最小二乗法 (OLS) によるモデル適合結果 ---\")\n",
    "lm_fit = smf.ols('carbohydrate ~ age + weight + protein', data=data_tbl).fit()\n",
    "print(lm_fit.summary()) # Rのsummary(lm_fit)に相当する詳細な結果を表示"
   ]
  },
  {
   "cell_type": "code",
   "execution_count": 13,
   "id": "d544c11e-810a-4b7e-929f-c27f0574be91",
   "metadata": {},
   "outputs": [
    {
     "name": "stdout",
     "output_type": "stream",
     "text": [
      "\n",
      "--- 5. 行列計算による結果の再現 ---\n"
     ]
    }
   ],
   "source": [
    "# 5. 教科書と照合するための手計算（行列計算） -----------------------------\n",
    "# 5·1 計画行列Xと目的変数yの作成\n",
    "# Rのmodel.matrix()の代わりにpatsyのdmatrices()を使用\n",
    "print(\"\\n--- 5. 行列計算による結果の再現 ---\")\n",
    "y, X = dmatrices('carbohydrate ~ age + weight + protein', data=data_tbl, return_type='dataframe')\n",
    "# NumPy配列に変換して計算\n",
    "y_arr = y.values\n",
    "X_arr = X.values"
   ]
  },
  {
   "cell_type": "code",
   "execution_count": 14,
   "id": "474d693c-8b62-4364-9a23-2caa7899f372",
   "metadata": {},
   "outputs": [],
   "source": [
    "# 5·2 X'X と X'y の計算\n",
    "# Rのt(X)は .T、行列積%*%は @演算子 で計算\n",
    "XtX = X_arr.T @ X_arr\n",
    "Xty = X_arr.T @ y_arr"
   ]
  },
  {
   "cell_type": "code",
   "execution_count": 15,
   "id": "48cc517e-2e97-408b-bbdb-8d5208d15a64",
   "metadata": {},
   "outputs": [
    {
     "name": "stdout",
     "output_type": "stream",
     "text": [
      "\n",
      "--- 行列計算による再現結果 ---\n",
      "係数 (β̂):\n",
      " [36.9601 -0.1137 -0.228   1.9577]\n",
      "\n",
      "標準誤差 (se(β̂)):\n",
      " [13.071  0.109  0.083  0.635]\n",
      "\n",
      "残差平方和 (RSS): 567.663\n",
      "残差分散 (σ²): 35.479\n"
     ]
    }
   ],
   "source": [
    "# 5·3 最小二乗推定量: β̂ = (X'X)⁻¹ X'y\n",
    "# Rのsolve(A, b)の代わりに、numpy.linalg.solve(A, b)を使用\n",
    "beta_hat = np.linalg.solve(XtX, Xty)\n",
    "\n",
    "# 5·4 残差平方和 (RSS) と不偏分散σ²\n",
    "yTy = y_arr.T @ y_arr\n",
    "bXty = beta_hat.T @ Xty\n",
    "RSS = yTy - bXty\n",
    "RSS = RSS[0, 0] # 1x1行列からスカラー値を取り出す\n",
    "\n",
    "n_obs = X_arr.shape[0]   # 観測数 (n)\n",
    "n_params = X_arr.shape[1] # パラメータ数 (p)\n",
    "df_res = n_obs - n_params  # 残差の自由度 (n-p)\n",
    "sigma2 = RSS / df_res      # 誤差分散 σ²\n",
    "\n",
    "# 5·5 β̂の分散共分散行列と標準誤差\n",
    "# Rのsolve(XtX)の代わりに、numpy.linalg.inv(XtX)を使用\n",
    "XtX_inv = np.linalg.inv(XtX)\n",
    "vcov_beta = sigma2 * XtX_inv\n",
    "# Rのsqrt(diag(vcov))の代わりに、numpy.sqrt(numpy.diag(vcov))を使用\n",
    "se_beta = np.sqrt(np.diag(vcov_beta))\n",
    "\n",
    "# 5·6 計算結果の表示\n",
    "print(\"\\n--- 行列計算による再現結果 ---\")\n",
    "print(\"係数 (β̂):\\n\", np.round(beta_hat.flatten(), 4))\n",
    "print(\"\\n標準誤差 (se(β̂)):\\n\", np.round(se_beta, 3))\n",
    "print(f\"\\n残差平方和 (RSS): {RSS:.3f}\")\n",
    "print(f\"残差分散 (σ²): {sigma2:.3f}\")"
   ]
  },
  {
   "cell_type": "code",
   "execution_count": 16,
   "id": "a5f72b20-e938-41e4-ac83-8c351642a012",
   "metadata": {},
   "outputs": [
    {
     "name": "stdout",
     "output_type": "stream",
     "text": [
      "\n",
      "--- 6. 最尤法 (GLM) によるモデル適合結果 ---\n",
      "                 Generalized Linear Model Regression Results                  \n",
      "==============================================================================\n",
      "Dep. Variable:           carbohydrate   No. Observations:                   20\n",
      "Model:                            GLM   Df Residuals:                       16\n",
      "Model Family:                Gaussian   Df Model:                            3\n",
      "Link Function:               identity   Scale:                          35.479\n",
      "Method:                          IRLS   Log-Likelihood:                -61.837\n",
      "Date:                Fri, 04 Jul 2025   Deviance:                       567.66\n",
      "Time:                        09:41:55   Pearson chi2:                     568.\n",
      "No. Iterations:                     3   Pseudo R-squ. (CS):             0.5338\n",
      "Covariance Type:            nonrobust                                         \n",
      "==============================================================================\n",
      "                 coef    std err          z      P>|z|      [0.025      0.975]\n",
      "------------------------------------------------------------------------------\n",
      "Intercept     36.9601     13.071      2.828      0.005      11.341      62.579\n",
      "age           -0.1137      0.109     -1.040      0.298      -0.328       0.101\n",
      "weight        -0.2280      0.083     -2.738      0.006      -0.391      -0.065\n",
      "protein        1.9577      0.635      3.084      0.002       0.713       3.202\n",
      "==============================================================================\n"
     ]
    },
    {
     "name": "stderr",
     "output_type": "stream",
     "text": [
      "C:\\Users\\sk062\\miniconda3\\envs\\Study\\Lib\\site-packages\\statsmodels\\genmod\\families\\links.py:13: FutureWarning: The identity link alias is deprecated. Use Identity instead. The identity link alias will be removed after the 0.15.0 release.\n",
      "  warnings.warn(\n"
     ]
    }
   ],
   "source": [
    "# 6. 最尤法によるモデル構築 --------------------\n",
    "# Rのglm()の代わりに、statsmodels.formula.apiのglm()を使用\n",
    "# family=gaussian(link=\"identity\")は、sm.families.Gaussian(link=sm.families.links.identity())と指定\n",
    "print(\"\\n--- 6. 最尤法 (GLM) によるモデル適合結果 ---\")\n",
    "glm_fit = smf.glm('carbohydrate ~ age + weight + protein', data=data_tbl,\n",
    "                  family=sm.families.Gaussian(link=sm.families.links.identity())).fit()\n",
    "print(glm_fit.summary())"
   ]
  },
  {
   "cell_type": "code",
   "execution_count": 18,
   "id": "4a1c5b74-305e-428b-9584-dae9b8b42a9b",
   "metadata": {},
   "outputs": [
    {
     "name": "stdout",
     "output_type": "stream",
     "text": [
      "\n",
      "--- 7. OLSとMLEの係数比較 ---\n",
      "               OLS      MLE\n",
      "Intercept  36.9601  36.9601\n",
      "age        -0.1137  -0.1137\n",
      "weight     -0.2280  -0.2280\n",
      "protein     1.9577   1.9577\n",
      "\n",
      "lm()の結果から取得したσ²: 35.47893\n"
     ]
    }
   ],
   "source": [
    "# 7. OLSとMLEの横並び比較 --------------------------------------------------\n",
    "print(\"\\n--- 7. OLSとMLEの係数比較 ---\")\n",
    "coef_table = pd.DataFrame({\n",
    "    'OLS': lm_fit.params,\n",
    "    'MLE': glm_fit.params\n",
    "})\n",
    "print(np.round(coef_table, 4))\n",
    "# statsmodelsの結果オブジェクトからσ²を取得 (Rのsigma(lm_fit)^2に相当)\n",
    "# .scaleアトリビュートがそれに該当します。\n",
    "sigma2_OLS = lm_fit.scale\n",
    "print(f\"\\nlm()の結果から取得したσ²: {sigma2_OLS:.5f}\")"
   ]
  },
  {
   "cell_type": "code",
   "execution_count": 19,
   "id": "0e084e2f-c3c6-48e6-a1e8-03cc530f7d4c",
   "metadata": {},
   "outputs": [
    {
     "name": "stdout",
     "output_type": "stream",
     "text": [
      "\n",
      "--- 8. 影響診断 (RのTable 6.6に相当) ---\n",
      "    std_resid    dffits       cooks_D\n",
      "0   -0.875557 -0.361523  3.318320e-02\n",
      "1   -0.000959 -0.000343  3.130641e-08\n",
      "2    0.215464  0.101857  2.758587e-03\n",
      "3    0.793565  0.775430  1.540333e-01\n",
      "4    0.158955  0.086383  1.986742e-03\n",
      "5    0.986615  0.304329  2.319511e-02\n",
      "6   -0.316103 -0.165028  7.217096e-03\n",
      "7    0.681106  0.434319  4.884358e-02\n",
      "8   -1.882772 -0.866250  1.557704e-01\n",
      "9    0.413880  0.128787  4.375589e-03\n",
      "10   1.447513  0.652787  9.875380e-02\n",
      "11   0.657594  0.473136  5.808208e-02\n",
      "12  -1.445104 -0.913347  1.934194e-01\n",
      "13  -1.317016 -0.863561  1.773049e-01\n",
      "14   0.905662  0.240347  1.461479e-02\n",
      "15   0.985166  0.423770  4.498336e-02\n",
      "16   1.225227  0.460798  5.131004e-02\n",
      "17  -1.687906 -1.056320  2.445669e-01\n",
      "18  -0.856767 -0.286010  2.081296e-02\n",
      "19  -0.172734 -0.080461  1.723161e-03\n"
     ]
    }
   ],
   "source": [
    "# 8. オプション：影響診断 ------------------------------------------------------\n",
    "# Rのrstandard, dffits, cooks.distanceに相当\n",
    "print(\"\\n--- 8. 影響診断 (RのTable 6.6に相当) ---\")\n",
    "influence = lm_fit.get_influence()\n",
    "\n",
    "# 標準化残差\n",
    "std_resid = influence.resid_studentized_internal\n",
    "# DFFITS\n",
    "dfit = influence.dffits[0]\n",
    "# クックの距離\n",
    "cooks_D = influence.cooks_distance[0]\n",
    "\n",
    "influence_diag = pd.DataFrame({\n",
    "    'std_resid': std_resid,\n",
    "    'dffits': dfit,\n",
    "    'cooks_D': cooks_D\n",
    "}, index=data_tbl.index)\n",
    "\n",
    "print(influence_diag)"
   ]
  },
  {
   "cell_type": "code",
   "execution_count": null,
   "id": "a0fb4d70-8cc0-4da4-9e66-b7d48e924b00",
   "metadata": {},
   "outputs": [],
   "source": []
  }
 ],
 "metadata": {
  "kernelspec": {
   "display_name": "Python 3 (ipykernel)",
   "language": "python",
   "name": "python3"
  },
  "language_info": {
   "codemirror_mode": {
    "name": "ipython",
    "version": 3
   },
   "file_extension": ".py",
   "mimetype": "text/x-python",
   "name": "python",
   "nbconvert_exporter": "python",
   "pygments_lexer": "ipython3",
   "version": "3.12.7"
  }
 },
 "nbformat": 4,
 "nbformat_minor": 5
}
