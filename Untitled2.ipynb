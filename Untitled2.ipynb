{
 "cells": [
  {
   "cell_type": "code",
   "execution_count": 6,
   "id": "5de6eea0-e053-41cd-90ee-8d1299b8e8fc",
   "metadata": {},
   "outputs": [],
   "source": [
    "import pandas as pd\n",
    "import numpy as np"
   ]
  },
  {
   "cell_type": "code",
   "execution_count": 7,
   "id": "ce91df7f-1657-4670-bff5-805097a7448e",
   "metadata": {},
   "outputs": [],
   "source": [
    "df = pd.read_csv(r\"csvfile" , encoding=\"utf-8\" )"
   ]
  },
  {
   "cell_type": "code",
   "execution_count": 8,
   "id": "4f03b62b-c37e-45e4-951d-2d51dd59bbdc",
   "metadata": {},
   "outputs": [
    {
     "name": "stdout",
     "output_type": "stream",
     "text": [
      "保存完了: C:\\Users\\sk062\\Downloads\\弁護士ドットコム_再保存.csv\n"
     ]
    }
   ],
   "source": [
    "# 再保存（utf-8-sigにするとExcelでも文字化けしづらい）\n",
    "output_path = r\"C:\\Users\\sk062\\Downloads\\弁護士ドットコム_再保存.csv\"\n",
    "df.to_csv(output_path, encoding=\"utf-8-sig\", index=False)\n",
    "\n",
    "print(\"保存完了:\", output_path)"
   ]
  },
  {
   "cell_type": "code",
   "execution_count": null,
   "id": "7b2363d0-6e0e-4064-9081-90ab59632ad8",
   "metadata": {},
   "outputs": [],
   "source": []
  }
 ],
 "metadata": {
  "kernelspec": {
   "display_name": "Python 3 (ipykernel)",
   "language": "python",
   "name": "python3"
  },
  "language_info": {
   "codemirror_mode": {
    "name": "ipython",
    "version": 3
   },
   "file_extension": ".py",
   "mimetype": "text/x-python",
   "name": "python",
   "nbconvert_exporter": "python",
   "pygments_lexer": "ipython3",
   "version": "3.12.7"
  }
 },
 "nbformat": 4,
 "nbformat_minor": 5
}
