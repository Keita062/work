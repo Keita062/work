{
 "cells": [
  {
   "cell_type": "code",
   "execution_count": 1,
   "id": "114b7934-0588-46e0-9c42-3a7f18af9e5c",
   "metadata": {},
   "outputs": [],
   "source": [
    "import numpy as np\n",
    "import pandas as pd\n",
    "import matplotlib.pyplot as plt\n",
    "import seaborn as sns"
   ]
  },
  {
   "cell_type": "code",
   "execution_count": 2,
   "id": "cfa7eb28-f07f-4b8e-a776-bf99b212a7d1",
   "metadata": {},
   "outputs": [
    {
     "data": {
      "text/plain": [
       "<Popen: returncode: None args: ['explorer', 'C:\\\\Users\\\\sk062\\\\OneDrive\\\\デスク...>"
      ]
     },
     "execution_count": 2,
     "metadata": {},
     "output_type": "execute_result"
    }
   ],
   "source": [
    "import subprocess\n",
    "\n",
    "path = r\"C:\\Users\\sk062\\OneDrive\\デスクトップ\\ISIC\\ISIC-images\"\n",
    "subprocess.Popen(['explorer', path], shell=True)"
   ]
  },
  {
   "cell_type": "code",
   "execution_count": null,
   "id": "833c7688-add4-45d9-a72e-7f62e132d930",
   "metadata": {},
   "outputs": [],
   "source": [
    "import subprocess\n",
    "import os\n",
    "import matplotlib.pyplot as plt\n",
    "import matplotlib.image as mpimg\n",
    "\n",
    "# 画像が保存されているディレクトリのパス\n",
    "folder_path = r\"C:\\Users\\sk062\\OneDrive\\デスクトップ\\ISIC\\ISIC-images\"\n",
    "\n",
    "# フォルダをエクスプローラーで開く\n",
    "subprocess.Popen(['explorer', folder_path], shell=True)\n",
    "\n",
    "# フォルダ内のjpg画像ファイルをリストアップ\n",
    "image_files = [f for f in os.listdir(folder_path) if f.endswith('.jpg')]\n",
    "\n",
    "# 画像ファイルをリストに格納\n",
    "images = []\n",
    "for image_file in image_files:\n",
    "    image_path = os.path.join(folder_path, image_file)\n",
    "    img = mpimg.imread(image_path)\n",
    "    images.append(img)  # リストに画像を格納\n",
    "\n",
    "# リスト内の画像を表示\n",
    "fig, axes = plt.subplots(1, len(images), figsize=(15, 5))\n",
    "\n",
    "# 各画像を表示\n",
    "for ax, img in zip(axes, images):\n",
    "    ax.imshow(img)\n",
    "    ax.axis('off')  # 軸を非表示にする\n",
    "\n",
    "plt.show()\n"
   ]
  },
  {
   "cell_type": "code",
   "execution_count": null,
   "id": "6e437626-ae58-4091-93bf-9fd9b5fda86b",
   "metadata": {},
   "outputs": [],
   "source": []
  }
 ],
 "metadata": {
  "kernelspec": {
   "display_name": "Python 3 (ipykernel)",
   "language": "python",
   "name": "python3"
  },
  "language_info": {
   "codemirror_mode": {
    "name": "ipython",
    "version": 3
   },
   "file_extension": ".py",
   "mimetype": "text/x-python",
   "name": "python",
   "nbconvert_exporter": "python",
   "pygments_lexer": "ipython3",
   "version": "3.12.7"
  }
 },
 "nbformat": 4,
 "nbformat_minor": 5
}
