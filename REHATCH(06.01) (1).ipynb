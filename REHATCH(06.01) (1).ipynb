{
 "cells": [
  {
   "cell_type": "code",
   "execution_count": 47,
   "id": "5caaa750-7893-483f-94f0-2cb5c818d287",
   "metadata": {},
   "outputs": [],
   "source": [
    "import numpy as np\n",
    "import pandas as pd\n",
    "import matplotlib.pyplot as plt\n",
    "import japanize_matplotlib\n",
    "import matplotlib\n",
    "import statsmodels.api as sm\n",
    "import seaborn as sns"
   ]
  },
  {
   "cell_type": "code",
   "execution_count": 48,
   "id": "a8b75b30-08e5-46c1-a413-4203a24a2f06",
   "metadata": {},
   "outputs": [
    {
     "name": "stdout",
     "output_type": "stream",
     "text": [
      "広告データのデータの格納\n",
      "購買データのデータの格納\n"
     ]
    }
   ],
   "source": [
    "print(\"広告データのデータの格納\")\n",
    "advertisement_df = pd.read_csv(r\"C:\\Users\\sk062\\OneDrive\\デスクトップ\\university\\intern\\就活\\広告データ.csv\")\n",
    "print(\"購買データのデータの格納\")\n",
    "purchasing_df = pd.read_csv(r\"C:\\Users\\sk062\\OneDrive\\デスクトップ\\university\\intern\\就活\\購買データ.csv\")"
   ]
  },
  {
   "cell_type": "code",
   "execution_count": 49,
   "id": "ed858bbb-cdde-4008-88a8-4186d83a8f47",
   "metadata": {},
   "outputs": [
    {
     "data": {
      "text/html": [
       "<div>\n",
       "<style scoped>\n",
       "    .dataframe tbody tr th:only-of-type {\n",
       "        vertical-align: middle;\n",
       "    }\n",
       "\n",
       "    .dataframe tbody tr th {\n",
       "        vertical-align: top;\n",
       "    }\n",
       "\n",
       "    .dataframe thead th {\n",
       "        text-align: right;\n",
       "    }\n",
       "</style>\n",
       "<table border=\"1\" class=\"dataframe\">\n",
       "  <thead>\n",
       "    <tr style=\"text-align: right;\">\n",
       "      <th></th>\n",
       "      <th>日付</th>\n",
       "      <th>広告メディア</th>\n",
       "      <th>クリエイティブ名</th>\n",
       "      <th>費用</th>\n",
       "      <th>表示回数</th>\n",
       "      <th>クリック数</th>\n",
       "      <th>クリック率</th>\n",
       "    </tr>\n",
       "  </thead>\n",
       "  <tbody>\n",
       "    <tr>\n",
       "      <th>0</th>\n",
       "      <td>2025/1/1</td>\n",
       "      <td>Instagram</td>\n",
       "      <td>ランキング訴求バナー</td>\n",
       "      <td>¥5,819</td>\n",
       "      <td>18,476</td>\n",
       "      <td>298</td>\n",
       "      <td>1.61%</td>\n",
       "    </tr>\n",
       "    <tr>\n",
       "      <th>1</th>\n",
       "      <td>2025/1/1</td>\n",
       "      <td>Instagram</td>\n",
       "      <td>セール訴求バナー</td>\n",
       "      <td>¥12,314</td>\n",
       "      <td>12,506</td>\n",
       "      <td>300</td>\n",
       "      <td>2.40%</td>\n",
       "    </tr>\n",
       "    <tr>\n",
       "      <th>2</th>\n",
       "      <td>2025/1/1</td>\n",
       "      <td>Instagram</td>\n",
       "      <td>機能訴求バナー</td>\n",
       "      <td>¥8,358</td>\n",
       "      <td>10,286</td>\n",
       "      <td>479</td>\n",
       "      <td>4.66%</td>\n",
       "    </tr>\n",
       "    <tr>\n",
       "      <th>3</th>\n",
       "      <td>2025/1/1</td>\n",
       "      <td>Instagram</td>\n",
       "      <td>口コミ訴求バナー</td>\n",
       "      <td>¥22,870</td>\n",
       "      <td>19,087</td>\n",
       "      <td>948</td>\n",
       "      <td>4.97%</td>\n",
       "    </tr>\n",
       "    <tr>\n",
       "      <th>4</th>\n",
       "      <td>2025/1/1</td>\n",
       "      <td>Instagram</td>\n",
       "      <td>新作訴求バナー</td>\n",
       "      <td>¥18,825</td>\n",
       "      <td>9,424</td>\n",
       "      <td>396</td>\n",
       "      <td>4.20%</td>\n",
       "    </tr>\n",
       "  </tbody>\n",
       "</table>\n",
       "</div>"
      ],
      "text/plain": [
       "         日付     広告メディア    クリエイティブ名       費用    表示回数  クリック数  クリック率\n",
       "0  2025/1/1  Instagram  ランキング訴求バナー   ¥5,819  18,476    298  1.61%\n",
       "1  2025/1/1  Instagram    セール訴求バナー  ¥12,314  12,506    300  2.40%\n",
       "2  2025/1/1  Instagram     機能訴求バナー   ¥8,358  10,286    479  4.66%\n",
       "3  2025/1/1  Instagram    口コミ訴求バナー  ¥22,870  19,087    948  4.97%\n",
       "4  2025/1/1  Instagram     新作訴求バナー  ¥18,825   9,424    396  4.20%"
      ]
     },
     "execution_count": 49,
     "metadata": {},
     "output_type": "execute_result"
    }
   ],
   "source": [
    "advertisement_df.head()"
   ]
  },
  {
   "cell_type": "code",
   "execution_count": 50,
   "id": "b71283b6-f5ad-4fca-81e2-eed50bc63e52",
   "metadata": {},
   "outputs": [
    {
     "data": {
      "text/html": [
       "<div>\n",
       "<style scoped>\n",
       "    .dataframe tbody tr th:only-of-type {\n",
       "        vertical-align: middle;\n",
       "    }\n",
       "\n",
       "    .dataframe tbody tr th {\n",
       "        vertical-align: top;\n",
       "    }\n",
       "\n",
       "    .dataframe thead th {\n",
       "        text-align: right;\n",
       "    }\n",
       "</style>\n",
       "<table border=\"1\" class=\"dataframe\">\n",
       "  <thead>\n",
       "    <tr style=\"text-align: right;\">\n",
       "      <th></th>\n",
       "      <th>日付</th>\n",
       "      <th>ユーザーID</th>\n",
       "      <th>商品名</th>\n",
       "      <th>売上</th>\n",
       "      <th>購入経路(メディア)</th>\n",
       "      <th>購入経路詳細(クリエイティブ等)</th>\n",
       "    </tr>\n",
       "  </thead>\n",
       "  <tbody>\n",
       "    <tr>\n",
       "      <th>0</th>\n",
       "      <td>2024/12/1</td>\n",
       "      <td>User_0764</td>\n",
       "      <td>バックパック</td>\n",
       "      <td>¥12,000</td>\n",
       "      <td>Email</td>\n",
       "      <td>メルマガ「限定セール」</td>\n",
       "    </tr>\n",
       "    <tr>\n",
       "      <th>1</th>\n",
       "      <td>2024/12/1</td>\n",
       "      <td>User_1178</td>\n",
       "      <td>ショルダーバッグ</td>\n",
       "      <td>¥9,200</td>\n",
       "      <td>NaN</td>\n",
       "      <td>NaN</td>\n",
       "    </tr>\n",
       "    <tr>\n",
       "      <th>2</th>\n",
       "      <td>2024/12/1</td>\n",
       "      <td>User_0804</td>\n",
       "      <td>ショルダーバッグ</td>\n",
       "      <td>¥9,200</td>\n",
       "      <td>NaN</td>\n",
       "      <td>NaN</td>\n",
       "    </tr>\n",
       "    <tr>\n",
       "      <th>3</th>\n",
       "      <td>2024/12/1</td>\n",
       "      <td>User_0650</td>\n",
       "      <td>リュックサック</td>\n",
       "      <td>¥11,000</td>\n",
       "      <td>Instagram広告</td>\n",
       "      <td>セール訴求バナー</td>\n",
       "    </tr>\n",
       "    <tr>\n",
       "      <th>4</th>\n",
       "      <td>2024/12/1</td>\n",
       "      <td>User_1083</td>\n",
       "      <td>ショルダーバッグ</td>\n",
       "      <td>¥9,200</td>\n",
       "      <td>Email</td>\n",
       "      <td>メルマガ「限定セール」</td>\n",
       "    </tr>\n",
       "  </tbody>\n",
       "</table>\n",
       "</div>"
      ],
      "text/plain": [
       "          日付     ユーザーID       商品名       売上   購入経路(メディア) 購入経路詳細(クリエイティブ等)\n",
       "0  2024/12/1  User_0764    バックパック  ¥12,000        Email      メルマガ「限定セール」\n",
       "1  2024/12/1  User_1178  ショルダーバッグ   ¥9,200          NaN              NaN\n",
       "2  2024/12/1  User_0804  ショルダーバッグ   ¥9,200          NaN              NaN\n",
       "3  2024/12/1  User_0650   リュックサック  ¥11,000  Instagram広告         セール訴求バナー\n",
       "4  2024/12/1  User_1083  ショルダーバッグ   ¥9,200        Email      メルマガ「限定セール」"
      ]
     },
     "execution_count": 50,
     "metadata": {},
     "output_type": "execute_result"
    }
   ],
   "source": [
    "purchasing_df.head()"
   ]
  },
  {
   "cell_type": "code",
   "execution_count": 51,
   "id": "a92c3c81-6b77-400b-984b-fbdaecfe343c",
   "metadata": {},
   "outputs": [
    {
     "data": {
      "text/plain": [
       "Index(['日付', '広告メディア', 'クリエイティブ名', '費用', '表示回数', 'クリック数', 'クリック率'], dtype='object')"
      ]
     },
     "execution_count": 51,
     "metadata": {},
     "output_type": "execute_result"
    }
   ],
   "source": [
    "advertisement_df.columns"
   ]
  },
  {
   "cell_type": "code",
   "execution_count": 52,
   "id": "a8661d92-e738-4ec7-b0b0-23d0b973539e",
   "metadata": {},
   "outputs": [
    {
     "data": {
      "text/plain": [
       "Index(['日付', 'ユーザーID', '商品名', '売上', '購入経路(メディア)', '購入経路詳細(クリエイティブ等)'], dtype='object')"
      ]
     },
     "execution_count": 52,
     "metadata": {},
     "output_type": "execute_result"
    }
   ],
   "source": [
    "purchasing_df.columns"
   ]
  },
  {
   "cell_type": "code",
   "execution_count": 53,
   "id": "4699ead3-0481-4d1e-8165-9ee0cb5155f5",
   "metadata": {},
   "outputs": [
    {
     "name": "stdout",
     "output_type": "stream",
     "text": [
      "======================\n",
      "広告データのタイプ確認\n",
      "======================\n",
      "日付          object\n",
      "広告メディア      object\n",
      "クリエイティブ名    object\n",
      "費用          object\n",
      "表示回数        object\n",
      "クリック数        int64\n",
      "クリック率       object\n",
      "dtype: object\n",
      "======================\n",
      "購買データのタイプの確認\n",
      "======================\n",
      "日付                  object\n",
      "ユーザーID              object\n",
      "商品名                 object\n",
      "売上                  object\n",
      "購入経路(メディア)          object\n",
      "購入経路詳細(クリエイティブ等)    object\n",
      "dtype: object\n"
     ]
    }
   ],
   "source": [
    "print(\"======================\")\n",
    "print(\"広告データのタイプ確認\")\n",
    "print(\"======================\")\n",
    "print(advertisement_df.dtypes)\n",
    "print(\"======================\")\n",
    "print(\"購買データのタイプの確認\")\n",
    "print(\"======================\")\n",
    "print(purchasing_df.dtypes)"
   ]
  },
  {
   "cell_type": "code",
   "execution_count": 54,
   "id": "fa69b0dc-2e5c-4cdf-b976-5eddfcfd9dd2",
   "metadata": {},
   "outputs": [],
   "source": [
    "advertisement_df['日付'] = pd.to_datetime(advertisement_df['日付'])\n",
    "purchasing_df['日付'] = pd.to_datetime(purchasing_df['日付'])"
   ]
  },
  {
   "cell_type": "code",
   "execution_count": 55,
   "id": "7d3d8ffc-58d8-420f-ad0d-75f578b7ad4b",
   "metadata": {},
   "outputs": [
    {
     "name": "stdout",
     "output_type": "stream",
     "text": [
      "======================\n",
      "広告データのタイプ確認\n",
      "======================\n",
      "日付          datetime64[ns]\n",
      "広告メディア              object\n",
      "クリエイティブ名            object\n",
      "費用                  object\n",
      "表示回数                object\n",
      "クリック数                int64\n",
      "クリック率               object\n",
      "dtype: object\n",
      "======================\n",
      "購買データのタイプの確認\n",
      "======================\n",
      "日付                  datetime64[ns]\n",
      "ユーザーID                      object\n",
      "商品名                         object\n",
      "売上                          object\n",
      "購入経路(メディア)                  object\n",
      "購入経路詳細(クリエイティブ等)            object\n",
      "dtype: object\n"
     ]
    }
   ],
   "source": [
    "print(\"======================\")\n",
    "print(\"広告データのタイプ確認\")\n",
    "print(\"======================\")\n",
    "print(advertisement_df.dtypes)\n",
    "print(\"======================\")\n",
    "print(\"購買データのタイプの確認\")\n",
    "print(\"======================\")\n",
    "print(purchasing_df.dtypes)"
   ]
  },
  {
   "cell_type": "code",
   "execution_count": 56,
   "id": "f42573bc-2d68-4fb8-9b69-217f623dd092",
   "metadata": {},
   "outputs": [],
   "source": [
    "advertisement_df = advertisement_df.fillna(0)\n",
    "purchasing_df = purchasing_df.fillna(0)"
   ]
  },
  {
   "cell_type": "code",
   "execution_count": 75,
   "id": "bc3c7e10-30d1-47e9-86a0-b482ef6a37b0",
   "metadata": {},
   "outputs": [],
   "source": [
    "# advertisement_df の '費用' を数値に変換\n",
    "advertisement_df['費用'] = (\n",
    "    advertisement_df['費用']\n",
    "    .astype(str)  # 全てを文字列に\n",
    "    .str.replace('¥', '', regex=False)\n",
    "    .str.replace(',', '', regex=False)\n",
    ")\n",
    "\n",
    "# 文字列を整数に変換（エラーが出るものは NaN → 0 に）\n",
    "advertisement_df['費用'] = pd.to_numeric(advertisement_df['費用'], errors='coerce').fillna(0).astype(int)\n",
    "\n",
    "advertisement_df['クリック率'] = (\n",
    "    advertisement_df['クリック率']\n",
    "    .astype(str)  # 全てを文字列に\n",
    "    .str.replace('%', '', regex=False)\n",
    "    .str.replace(',', '', regex=False)\n",
    ")\n",
    "\n",
    "# 文字列を整数に変換（エラーが出るものは NaN → 0 に）\n",
    "advertisement_df['クリック率'] = pd.to_numeric(advertisement_df['クリック率'], errors='coerce').fillna(0).astype(int)\n",
    "\n",
    "# purchasing_df の '売上' も同様に変換\n",
    "purchasing_df['売上'] = (\n",
    "    purchasing_df['売上']\n",
    "    .astype(str)\n",
    "    .str.replace('¥', '', regex=False)\n",
    "    .str.replace(',', '', regex=False)\n",
    ")\n",
    "\n",
    "purchasing_df['売上'] = pd.to_numeric(purchasing_df['売上'], errors='coerce').fillna(0).astype(int)\n"
   ]
  },
  {
   "cell_type": "code",
   "execution_count": 76,
   "id": "288a60a6-fdcb-478f-904b-bc3fdfb6a968",
   "metadata": {},
   "outputs": [
    {
     "data": {
      "text/html": [
       "<div>\n",
       "<style scoped>\n",
       "    .dataframe tbody tr th:only-of-type {\n",
       "        vertical-align: middle;\n",
       "    }\n",
       "\n",
       "    .dataframe tbody tr th {\n",
       "        vertical-align: top;\n",
       "    }\n",
       "\n",
       "    .dataframe thead th {\n",
       "        text-align: right;\n",
       "    }\n",
       "</style>\n",
       "<table border=\"1\" class=\"dataframe\">\n",
       "  <thead>\n",
       "    <tr style=\"text-align: right;\">\n",
       "      <th></th>\n",
       "      <th>日付</th>\n",
       "      <th>広告メディア</th>\n",
       "      <th>クリエイティブ名</th>\n",
       "      <th>費用</th>\n",
       "      <th>表示回数</th>\n",
       "      <th>クリック数</th>\n",
       "      <th>クリック率</th>\n",
       "    </tr>\n",
       "  </thead>\n",
       "  <tbody>\n",
       "    <tr>\n",
       "      <th>0</th>\n",
       "      <td>2025-01-01</td>\n",
       "      <td>Instagram</td>\n",
       "      <td>ランキング訴求バナー</td>\n",
       "      <td>5819</td>\n",
       "      <td>18,476</td>\n",
       "      <td>298</td>\n",
       "      <td>1</td>\n",
       "    </tr>\n",
       "    <tr>\n",
       "      <th>1</th>\n",
       "      <td>2025-01-01</td>\n",
       "      <td>Instagram</td>\n",
       "      <td>セール訴求バナー</td>\n",
       "      <td>12314</td>\n",
       "      <td>12,506</td>\n",
       "      <td>300</td>\n",
       "      <td>2</td>\n",
       "    </tr>\n",
       "    <tr>\n",
       "      <th>2</th>\n",
       "      <td>2025-01-01</td>\n",
       "      <td>Instagram</td>\n",
       "      <td>機能訴求バナー</td>\n",
       "      <td>8358</td>\n",
       "      <td>10,286</td>\n",
       "      <td>479</td>\n",
       "      <td>4</td>\n",
       "    </tr>\n",
       "    <tr>\n",
       "      <th>3</th>\n",
       "      <td>2025-01-01</td>\n",
       "      <td>Instagram</td>\n",
       "      <td>口コミ訴求バナー</td>\n",
       "      <td>22870</td>\n",
       "      <td>19,087</td>\n",
       "      <td>948</td>\n",
       "      <td>4</td>\n",
       "    </tr>\n",
       "    <tr>\n",
       "      <th>4</th>\n",
       "      <td>2025-01-01</td>\n",
       "      <td>Instagram</td>\n",
       "      <td>新作訴求バナー</td>\n",
       "      <td>18825</td>\n",
       "      <td>9,424</td>\n",
       "      <td>396</td>\n",
       "      <td>4</td>\n",
       "    </tr>\n",
       "  </tbody>\n",
       "</table>\n",
       "</div>"
      ],
      "text/plain": [
       "          日付     広告メディア    クリエイティブ名     費用    表示回数  クリック数  クリック率\n",
       "0 2025-01-01  Instagram  ランキング訴求バナー   5819  18,476    298      1\n",
       "1 2025-01-01  Instagram    セール訴求バナー  12314  12,506    300      2\n",
       "2 2025-01-01  Instagram     機能訴求バナー   8358  10,286    479      4\n",
       "3 2025-01-01  Instagram    口コミ訴求バナー  22870  19,087    948      4\n",
       "4 2025-01-01  Instagram     新作訴求バナー  18825   9,424    396      4"
      ]
     },
     "execution_count": 76,
     "metadata": {},
     "output_type": "execute_result"
    }
   ],
   "source": [
    "advertisement_df.head()"
   ]
  },
  {
   "cell_type": "code",
   "execution_count": 77,
   "id": "8ca4396f-966b-4bb7-ba59-387472de75ba",
   "metadata": {},
   "outputs": [
    {
     "data": {
      "text/html": [
       "<div>\n",
       "<style scoped>\n",
       "    .dataframe tbody tr th:only-of-type {\n",
       "        vertical-align: middle;\n",
       "    }\n",
       "\n",
       "    .dataframe tbody tr th {\n",
       "        vertical-align: top;\n",
       "    }\n",
       "\n",
       "    .dataframe thead th {\n",
       "        text-align: right;\n",
       "    }\n",
       "</style>\n",
       "<table border=\"1\" class=\"dataframe\">\n",
       "  <thead>\n",
       "    <tr style=\"text-align: right;\">\n",
       "      <th></th>\n",
       "      <th>日付</th>\n",
       "      <th>ユーザーID</th>\n",
       "      <th>商品名</th>\n",
       "      <th>売上</th>\n",
       "      <th>購入経路(メディア)</th>\n",
       "      <th>購入経路詳細(クリエイティブ等)</th>\n",
       "    </tr>\n",
       "  </thead>\n",
       "  <tbody>\n",
       "    <tr>\n",
       "      <th>0</th>\n",
       "      <td>2024-12-01</td>\n",
       "      <td>User_0764</td>\n",
       "      <td>バックパック</td>\n",
       "      <td>12000</td>\n",
       "      <td>Email</td>\n",
       "      <td>メルマガ「限定セール」</td>\n",
       "    </tr>\n",
       "    <tr>\n",
       "      <th>1</th>\n",
       "      <td>2024-12-01</td>\n",
       "      <td>User_1178</td>\n",
       "      <td>ショルダーバッグ</td>\n",
       "      <td>9200</td>\n",
       "      <td>0</td>\n",
       "      <td>0</td>\n",
       "    </tr>\n",
       "    <tr>\n",
       "      <th>2</th>\n",
       "      <td>2024-12-01</td>\n",
       "      <td>User_0804</td>\n",
       "      <td>ショルダーバッグ</td>\n",
       "      <td>9200</td>\n",
       "      <td>0</td>\n",
       "      <td>0</td>\n",
       "    </tr>\n",
       "    <tr>\n",
       "      <th>3</th>\n",
       "      <td>2024-12-01</td>\n",
       "      <td>User_0650</td>\n",
       "      <td>リュックサック</td>\n",
       "      <td>11000</td>\n",
       "      <td>Instagram広告</td>\n",
       "      <td>セール訴求バナー</td>\n",
       "    </tr>\n",
       "    <tr>\n",
       "      <th>4</th>\n",
       "      <td>2024-12-01</td>\n",
       "      <td>User_1083</td>\n",
       "      <td>ショルダーバッグ</td>\n",
       "      <td>9200</td>\n",
       "      <td>Email</td>\n",
       "      <td>メルマガ「限定セール」</td>\n",
       "    </tr>\n",
       "  </tbody>\n",
       "</table>\n",
       "</div>"
      ],
      "text/plain": [
       "          日付     ユーザーID       商品名     売上   購入経路(メディア) 購入経路詳細(クリエイティブ等)\n",
       "0 2024-12-01  User_0764    バックパック  12000        Email      メルマガ「限定セール」\n",
       "1 2024-12-01  User_1178  ショルダーバッグ   9200            0                0\n",
       "2 2024-12-01  User_0804  ショルダーバッグ   9200            0                0\n",
       "3 2024-12-01  User_0650   リュックサック  11000  Instagram広告         セール訴求バナー\n",
       "4 2024-12-01  User_1083  ショルダーバッグ   9200        Email      メルマガ「限定セール」"
      ]
     },
     "execution_count": 77,
     "metadata": {},
     "output_type": "execute_result"
    }
   ],
   "source": [
    "purchasing_df.head()"
   ]
  },
  {
   "cell_type": "code",
   "execution_count": 78,
   "id": "eb4f9c43-f4c5-473d-aee8-f93b7dcaf48f",
   "metadata": {},
   "outputs": [],
   "source": [
    "advertisement_df_01 = advertisement_df[advertisement_df['日付'].dt.strftime('%Y-%m') == '2025-01']\n",
    "purchasing_df_01 = purchasing_df[purchasing_df['日付'].dt.strftime('%Y-%m') == '2025-01']"
   ]
  },
  {
   "cell_type": "code",
   "execution_count": 79,
   "id": "bd66cfb0-c755-4448-a1bf-dc745777c555",
   "metadata": {},
   "outputs": [
    {
     "name": "stdout",
     "output_type": "stream",
     "text": [
      "(155, 7)\n",
      "(848, 6)\n"
     ]
    }
   ],
   "source": [
    "print(advertisement_df_01.shape)\n",
    "print(purchasing_df_01.shape)"
   ]
  },
  {
   "cell_type": "code",
   "execution_count": 80,
   "id": "66db2e6d-fd67-4bad-90fc-828752cc9f99",
   "metadata": {},
   "outputs": [],
   "source": [
    "# CTR（クリック率）：クリック数 / 表示回数\n",
    "# ROAS（広告費用対効果）：売上 / 費用 × 100（%）"
   ]
  },
  {
   "cell_type": "code",
   "execution_count": 81,
   "id": "70593326-d11c-476c-820e-7c4847fb78df",
   "metadata": {},
   "outputs": [],
   "source": [
    "#クリエイティブ別CTR = 広告のクリエイティブ（画像、動画、テキストなどの広告表現）ごとに測定されたクリック率（CTR: Click Through Rate）"
   ]
  },
  {
   "cell_type": "code",
   "execution_count": 82,
   "id": "62f7c2dd-6a2f-4d6c-b169-81f5aa19aa9e",
   "metadata": {},
   "outputs": [
    {
     "name": "stdout",
     "output_type": "stream",
     "text": [
      "日付          datetime64[ns]\n",
      "広告メディア              object\n",
      "クリエイティブ名            object\n",
      "費用                   int32\n",
      "表示回数                object\n",
      "クリック数                int64\n",
      "クリック率                int32\n",
      "dtype: object\n"
     ]
    }
   ],
   "source": [
    "print(advertisement_df_01.dtypes)"
   ]
  },
  {
   "cell_type": "code",
   "execution_count": 84,
   "id": "4e6d6af2-dd49-433d-a09f-b860f6aa1c76",
   "metadata": {},
   "outputs": [],
   "source": [
    "# カンマや空白などを削除し、数値に変換\n",
    "advertisement_df_01['表示回数'] = (\n",
    "    advertisement_df_01['表示回数']\n",
    "    .astype(str)\n",
    "    .str.replace(',', '')     # カンマ除去\n",
    "    .str.strip()              # 空白除去\n",
    ")\n",
    "\n",
    "# 数値型へ変換（変換できないものはNaN）\n",
    "advertisement_df_01['表示回数'] = pd.to_numeric(advertisement_df_01['表示回数'], errors='coerce')"
   ]
  },
  {
   "cell_type": "code",
   "execution_count": 85,
   "id": "dc2b4a21-94f9-411c-8398-78ef55b842b3",
   "metadata": {},
   "outputs": [],
   "source": [
    "# クリエイティブ別CTR計算\n",
    "creative_ctr = advertisement_df_01.groupby('クリエイティブ名').agg({\n",
    "    '表示回数': 'sum',\n",
    "    'クリック数': 'sum'\n",
    "})\n",
    "creative_ctr['CTR'] = creative_ctr['クリック数'] / creative_ctr['表示回数'] * 100\n",
    "creative_ctr = creative_ctr.sort_values('CTR', ascending=False)"
   ]
  },
  {
   "cell_type": "code",
   "execution_count": 86,
   "id": "a1662402-f5b6-4e7c-847f-e0bcaf3c020d",
   "metadata": {},
   "outputs": [
    {
     "data": {
      "text/html": [
       "<div>\n",
       "<style scoped>\n",
       "    .dataframe tbody tr th:only-of-type {\n",
       "        vertical-align: middle;\n",
       "    }\n",
       "\n",
       "    .dataframe tbody tr th {\n",
       "        vertical-align: top;\n",
       "    }\n",
       "\n",
       "    .dataframe thead th {\n",
       "        text-align: right;\n",
       "    }\n",
       "</style>\n",
       "<table border=\"1\" class=\"dataframe\">\n",
       "  <thead>\n",
       "    <tr style=\"text-align: right;\">\n",
       "      <th></th>\n",
       "      <th>表示回数</th>\n",
       "      <th>クリック数</th>\n",
       "      <th>CTR</th>\n",
       "    </tr>\n",
       "    <tr>\n",
       "      <th>クリエイティブ名</th>\n",
       "      <th></th>\n",
       "      <th></th>\n",
       "      <th></th>\n",
       "    </tr>\n",
       "  </thead>\n",
       "  <tbody>\n",
       "    <tr>\n",
       "      <th>セール訴求バナー</th>\n",
       "      <td>429059</td>\n",
       "      <td>15313</td>\n",
       "      <td>3.568973</td>\n",
       "    </tr>\n",
       "    <tr>\n",
       "      <th>口コミ訴求バナー</th>\n",
       "      <td>432228</td>\n",
       "      <td>13816</td>\n",
       "      <td>3.196461</td>\n",
       "    </tr>\n",
       "    <tr>\n",
       "      <th>ランキング訴求バナー</th>\n",
       "      <td>439897</td>\n",
       "      <td>13802</td>\n",
       "      <td>3.137553</td>\n",
       "    </tr>\n",
       "    <tr>\n",
       "      <th>新作訴求バナー</th>\n",
       "      <td>468370</td>\n",
       "      <td>14221</td>\n",
       "      <td>3.036275</td>\n",
       "    </tr>\n",
       "    <tr>\n",
       "      <th>機能訴求バナー</th>\n",
       "      <td>423257</td>\n",
       "      <td>12536</td>\n",
       "      <td>2.961794</td>\n",
       "    </tr>\n",
       "  </tbody>\n",
       "</table>\n",
       "</div>"
      ],
      "text/plain": [
       "              表示回数  クリック数       CTR\n",
       "クリエイティブ名                           \n",
       "セール訴求バナー    429059  15313  3.568973\n",
       "口コミ訴求バナー    432228  13816  3.196461\n",
       "ランキング訴求バナー  439897  13802  3.137553\n",
       "新作訴求バナー     468370  14221  3.036275\n",
       "機能訴求バナー     423257  12536  2.961794"
      ]
     },
     "execution_count": 86,
     "metadata": {},
     "output_type": "execute_result"
    }
   ],
   "source": [
    "creative_ctr"
   ]
  },
  {
   "cell_type": "code",
   "execution_count": null,
   "id": "228c8f1e-2845-4161-bb47-2b381d3bfb27",
   "metadata": {},
   "outputs": [],
   "source": []
  }
 ],
 "metadata": {
  "kernelspec": {
   "display_name": "Python 3 (ipykernel)",
   "language": "python",
   "name": "python3"
  },
  "language_info": {
   "codemirror_mode": {
    "name": "ipython",
    "version": 3
   },
   "file_extension": ".py",
   "mimetype": "text/x-python",
   "name": "python",
   "nbconvert_exporter": "python",
   "pygments_lexer": "ipython3",
   "version": "3.12.7"
  }
 },
 "nbformat": 4,
 "nbformat_minor": 5
}
