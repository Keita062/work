{
 "cells": [
  {
   "cell_type": "code",
   "execution_count": 22,
   "id": "9f6927e8-5bcb-43f5-bb07-cd803dd4e4b3",
   "metadata": {
    "scrolled": true
   },
   "outputs": [
    {
     "name": "stdout",
     "output_type": "stream",
     "text": [
      "Collecting polars\n",
      "  Downloading polars-1.33.0-cp39-abi3-win_amd64.whl.metadata (15 kB)\n",
      "Downloading polars-1.33.0-cp39-abi3-win_amd64.whl (38.9 MB)\n",
      "   ---------------------------------------- 0.0/38.9 MB ? eta -:--:--\n",
      "   - -------------------------------------- 1.3/38.9 MB 6.7 MB/s eta 0:00:06\n",
      "   -- ------------------------------------- 2.6/38.9 MB 6.0 MB/s eta 0:00:07\n",
      "   ---- ----------------------------------- 4.2/38.9 MB 6.6 MB/s eta 0:00:06\n",
      "   ----- ---------------------------------- 5.5/38.9 MB 6.7 MB/s eta 0:00:05\n",
      "   ------- -------------------------------- 7.1/38.9 MB 6.7 MB/s eta 0:00:05\n",
      "   -------- ------------------------------- 8.4/38.9 MB 6.7 MB/s eta 0:00:05\n",
      "   --------- ------------------------------ 9.7/38.9 MB 6.8 MB/s eta 0:00:05\n",
      "   ----------- ---------------------------- 11.0/38.9 MB 6.5 MB/s eta 0:00:05\n",
      "   ------------- -------------------------- 12.8/38.9 MB 6.8 MB/s eta 0:00:04\n",
      "   --------------- ------------------------ 15.2/38.9 MB 7.2 MB/s eta 0:00:04\n",
      "   ----------------- ---------------------- 17.3/38.9 MB 7.5 MB/s eta 0:00:03\n",
      "   ------------------- -------------------- 19.4/38.9 MB 7.7 MB/s eta 0:00:03\n",
      "   ---------------------- ----------------- 21.5/38.9 MB 7.9 MB/s eta 0:00:03\n",
      "   ------------------------ --------------- 24.1/38.9 MB 8.2 MB/s eta 0:00:02\n",
      "   -------------------------- ------------- 26.2/38.9 MB 8.3 MB/s eta 0:00:02\n",
      "   ---------------------------- ----------- 27.8/38.9 MB 8.3 MB/s eta 0:00:02\n",
      "   ------------------------------ --------- 29.6/38.9 MB 8.3 MB/s eta 0:00:02\n",
      "   -------------------------------- ------- 31.2/38.9 MB 8.3 MB/s eta 0:00:01\n",
      "   --------------------------------- ------ 33.0/38.9 MB 8.3 MB/s eta 0:00:01\n",
      "   ----------------------------------- ---- 34.9/38.9 MB 8.3 MB/s eta 0:00:01\n",
      "   ------------------------------------- -- 37.0/38.9 MB 8.4 MB/s eta 0:00:01\n",
      "   ---------------------------------------  38.8/38.9 MB 8.3 MB/s eta 0:00:01\n",
      "   ---------------------------------------- 38.9/38.9 MB 8.0 MB/s eta 0:00:00\n",
      "Installing collected packages: polars\n",
      "Successfully installed polars-1.33.0\n"
     ]
    }
   ],
   "source": [
    "!pip install polars"
   ]
  },
  {
   "cell_type": "code",
   "execution_count": 102,
   "id": "a4f5e86e-19d0-4518-bd5b-20e82a855669",
   "metadata": {},
   "outputs": [],
   "source": [
    "import pandas as pd\n",
    "import numpy as np\n",
    "import matplotlib.pyplot as plt\n",
    "import seaborn as sns\n",
    "import japanize_matplotlib\n",
    "import polars as pl"
   ]
  },
  {
   "cell_type": "code",
   "execution_count": 103,
   "id": "1c98e43d-2045-44ac-a3b8-36d2aef3dc16",
   "metadata": {},
   "outputs": [],
   "source": [
    "# (a) 最大表示「行数」を増やす（Noneで無制限）\n",
    "pd.set_option('display.max_rows', None)\n",
    "\n",
    "# (b) 最大表示「列数」を増やす（Noneで無制限）\n",
    "pd.set_option('display.max_columns', None)"
   ]
  },
  {
   "cell_type": "code",
   "execution_count": 104,
   "id": "b00e1ac1-6291-4f70-a399-4aa266804f7e",
   "metadata": {},
   "outputs": [],
   "source": [
    "df = pd.read_csv(r\"C:\\Users\\sk062\\Downloads\\歩道_車道の占有の優先度について.csv\\歩道\\車道の占有の優先度について.csv\")"
   ]
  },
  {
   "cell_type": "code",
   "execution_count": 131,
   "id": "d5b8b347-8c50-4e90-9ef2-7c4ff2be259c",
   "metadata": {},
   "outputs": [],
   "source": [
    "#df.columns"
   ]
  },
  {
   "cell_type": "code",
   "execution_count": 106,
   "id": "c1087413-abe5-4486-b029-13f942d89038",
   "metadata": {},
   "outputs": [],
   "source": [
    "# df.head(2)"
   ]
  },
  {
   "cell_type": "code",
   "execution_count": 107,
   "id": "a0664841-baea-4ad8-8fb9-7b8179204dd1",
   "metadata": {},
   "outputs": [],
   "source": [
    "column_mapping = {\n",
    "    '1-1あなたの年代を教えてください': '年代',\n",
    "    '1-2性別を教えてください': '性別',\n",
    "    '2-1　電動キックボードを利用したことがありますか？': '利用経験_電動キックボード',\n",
    "    '2-2　自動配送ロボットを利用したことがありますか？': '利用経験_自動配送ロボット',\n",
    "    '2-3　自動運転バスを利用したことがありますか？': '利用経験_自動運転バス',\n",
    "    '3-1歩道のなかで、これらのプレイヤーに道を利用する優先順位をつけるとしたら、どうなりますか？ [高齢者]': '歩道_優先度_高齢者',\n",
    "    '3-1歩道のなかで、これらのプレイヤーに道を利用する優先順位をつけるとしたら、どうなりますか？ [自動配送ロボット]': '歩道_優先度_自動配送ロボット',\n",
    "    '3-1歩道のなかで、これらのプレイヤーに道を利用する優先順位をつけるとしたら、どうなりますか？ [普通の人]': '歩道_優先度_普通の人',\n",
    "    '3-1歩道のなかで、これらのプレイヤーに道を利用する優先順位をつけるとしたら、どうなりますか？ [自転車]': '歩道_優先度_自転車',\n",
    "    '3-1歩道のなかで、これらのプレイヤーに道を利用する優先順位をつけるとしたら、どうなりますか？ [こども]': '歩道_優先度_こども',\n",
    "    '3-1歩道のなかで、これらのプレイヤーに道を利用する優先順位をつけるとしたら、どうなりますか？ [車椅子]': '歩道_優先度_車椅子',\n",
    "    '3-1歩道のなかで、これらのプレイヤーに道を利用する優先順位をつけるとしたら、どうなりますか？ [電動キックボード]': '歩道_優先度_電動キックボード',\n",
    "    '3-2　「3-1」で回答した理由を書いてみてください': '歩道_理由',\n",
    "    '4-1道路（歩道なし）のなかで、これらのプレイヤーに道を利用する優先順位をつけるとしたら、どうなりますか？ [高齢者]': '道路_優先度_高齢者',\n",
    "    '4-1道路（歩道なし）のなかで、これらのプレイヤーに道を利用する優先順位をつけるとしたら、どうなりますか？ [自動配送ロボット]': '道路_優先度_自動配送ロボット',\n",
    "    '4-1道路（歩道なし）のなかで、これらのプレイヤーに道を利用する優先順位をつけるとしたら、どうなりますか？ [普通の人]': '道路_優先度_普通の人',\n",
    "    '4-1道路（歩道なし）のなかで、これらのプレイヤーに道を利用する優先順位をつけるとしたら、どうなりますか？ [自転車]': '道路_優先度_自転車',\n",
    "    '4-1道路（歩道なし）のなかで、これらのプレイヤーに道を利用する優先順位をつけるとしたら、どうなりますか？ [こども]': '道路_優先度_こども',\n",
    "    '4-1道路（歩道なし）のなかで、これらのプレイヤーに道を利用する優先順位をつけるとしたら、どうなりますか？ [車椅子]': '道路_優先度_車椅子',\n",
    "    '4-1道路（歩道なし）のなかで、これらのプレイヤーに道を利用する優先順位をつけるとしたら、どうなりますか？ [電動キックボード]': '道路_優先度_電動キックボード',\n",
    "    '4-1道路（歩道なし）のなかで、これらのプレイヤーに道を利用する優先順位をつけるとしたら、どうなりますか？ [自動車（一般車）]': '道路_優先度_普通自動車',\n",
    "    '4-1道路（歩道なし）のなかで、これらのプレイヤーに道を利用する優先順位をつけるとしたら、どうなりますか？ [バス（手動）]': '道路_優先度_バス',\n",
    "    '4-1道路（歩道なし）のなかで、これらのプレイヤーに道を利用する優先順位をつけるとしたら、どうなりますか？ [自動運転バス]': '道路_優先度_自動運転バス',\n",
    "    '4-2　「4-1」で回答した理由を書いてみてください': '道路_理由'\n",
    "}\n",
    "df.rename(columns=column_mapping, inplace=True)"
   ]
  },
  {
   "cell_type": "code",
   "execution_count": 108,
   "id": "0a83144f-b149-42f0-9418-62d91417076b",
   "metadata": {},
   "outputs": [],
   "source": [
    "# 午前/午後をAM/PMに置換、タイムゾーンを+0900に\n",
    "df[\"タイムスタンプ\"] = (\n",
    "    df[\"タイムスタンプ\"]\n",
    "    .str.replace(\"午前\", \"AM\")\n",
    "    .str.replace(\"午後\", \"PM\")\n",
    "    .str.replace(\"GMT+9\", \"+0900\")\n",
    ")\n",
    "\n",
    "# datetime型に変換\n",
    "df[\"タイムスタンプ\"] = pd.to_datetime(\n",
    "    df[\"タイムスタンプ\"],\n",
    "    format=\"%Y/%m/%d %I:%M:%S %p %z\"\n",
    ")\n",
    "\n",
    "# タイムゾーンを削除して解析用に扱いやすくする\n",
    "df[\"タイムスタンプ\"] = df[\"タイムスタンプ\"].dt.tz_convert(None)\n",
    "\n",
    "# 確認（秒まで表示）\n",
    "# print(df[\"タイムスタンプ\"].head())\n",
    "# print(df.dtypes)"
   ]
  },
  {
   "cell_type": "code",
   "execution_count": 121,
   "id": "7fd62371-3b42-42c9-8059-d2966a5b6e1e",
   "metadata": {},
   "outputs": [],
   "source": [
    "# df.columns"
   ]
  },
  {
   "cell_type": "code",
   "execution_count": 110,
   "id": "1a92b70d-4a49-4411-8560-98ab9dedb314",
   "metadata": {},
   "outputs": [],
   "source": [
    "# 2. 優先度の列から「位」を除去し、数値型に変換する\n",
    "# 優先度が含まれる列名をリストアップ\n",
    "priority_columns = [col for col in df.columns if '優先度' in col]\n",
    "\n",
    "# 各列に対して処理を適用\n",
    "for col in priority_columns:\n",
    "    df[col] = df[col].str.replace('位', '').astype(int)"
   ]
  },
  {
   "cell_type": "code",
   "execution_count": 111,
   "id": "603b3139-e141-4a3f-9e8c-7da3b9f89dfa",
   "metadata": {},
   "outputs": [],
   "source": [
    "df = pd.get_dummies(df, columns=['性別'], prefix='性別', dtype=int)\n",
    "age_mapping = {\n",
    "    '10代': 10,\n",
    "    '20代': 20,\n",
    "    '30代': 30,\n",
    "    '40代': 40,\n",
    "    '50代': 50,\n",
    "    '60代以上': 60  # '60代以上'は代表値として60を割り当てます\n",
    "}\n",
    "\n",
    "# map関数を使って、定義した辞書に基づいて'年代'列の値を一括で変換します。\n",
    "# 結果は新しい列 '年代_数値' としてデータフレームに追加します。\n",
    "df['年代_数値'] = df['年代'].map(age_mapping)\n",
    "experience_mapping = {\n",
    "    '利用したことがある': 2,\n",
    "    '利用したことはないが、利用しているのを実際に見たことがある': 1,\n",
    "    '利用したこともなく、利用しているのを実際に見たこともない': 0\n",
    "}\n",
    "\n",
    "df['利用経験_電動キックボード_数値'] = df['利用経験_電動キックボード'].map(experience_mapping)\n",
    "df['利用経験_児童配送ロボット_数値'] = df['利用経験_自動配送ロボット'].map(experience_mapping)\n",
    "df['利用経験_自動運転バス_数値'] = df['利用経験_自動運転バス'].map(experience_mapping)"
   ]
  },
  {
   "cell_type": "code",
   "execution_count": 123,
   "id": "a97216d0-5521-47f1-86b5-625fff81a950",
   "metadata": {},
   "outputs": [],
   "source": [
    "hodo_cols = df.filter(like='歩道_優先度_').columns\n",
    "\n",
    "# 各行で、値のユニークな数と、値が存在する数（非NaNの数）を比較\n",
    "# ユニークな数が少なければ、その行には重複が存在する\n",
    "duplicated_hodo_mask = df[hodo_cols].nunique(axis=1) < df[hodo_cols].count(axis=1)\n",
    "\n",
    "# 重複がある行の数を表示\n",
    "# print(f\"歩道の優先度に重複がある回答数: {duplicated_hodo_mask.sum()}件\")\n",
    "\n",
    "if duplicated_hodo_mask.sum() > 0:\n",
    "    # 重複がある行の内容を表示\n",
    "    #print(\"\\n--- 重複が見つかった行（歩道）---\")\n",
    "    #print(df.loc[duplicated_hodo_mask, hodo_cols])\n",
    "\n",
    "    # 重複がある行を削除 (~は否定を意味し、重複していない行だけを残す)\n",
    "    df_cleaned = df[~duplicated_hodo_mask].copy()\n",
    "    #print(f\"\\n重複行を削除しました。残りのデータ数: {len(df_cleaned)}件\")\n",
    "else:\n",
    "    df_cleaned = df.copy()\n",
    "    #print(\"\\n重複は見つかりませんでした。\")"
   ]
  },
  {
   "cell_type": "code",
   "execution_count": 126,
   "id": "5e62ee43-6295-408a-a7d0-27b803587ab6",
   "metadata": {},
   "outputs": [],
   "source": [
    "# '道路_優先度_'で始まる列を選択\n",
    "doro_cols = df_cleaned.filter(like='道路_優先度_').columns\n",
    "\n",
    "# 歩道と同様に重複をチェック\n",
    "duplicated_doro_mask = df_cleaned[doro_cols].nunique(axis=1) < df_cleaned[doro_cols].count(axis=1)\n",
    "\n",
    "# 重複がある行の数を表示\n",
    "#print(f\"道路の優先度に重複がある回答数: {duplicated_doro_mask.sum()}件\")\n",
    "\n",
    "if duplicated_doro_mask.sum() > 0:\n",
    "    # 重複がある行の内容を表示\n",
    "    #print(\"\\n--- 重複が見つかった行（道路）---\")\n",
    "    #print(df_cleaned.loc[duplicated_doro_mask, doro_cols])\n",
    "\n",
    "    # 重複がある行を削除\n",
    "    df_cleaned = df_cleaned[~duplicated_doro_mask].copy()\n",
    "    #print(f\"\\n重複行を削除しました。最終的なデータ数: {len(df_cleaned)}件\")\n",
    "#else:\n",
    "    #print(\"\\n重複は見つかりませんでした。\")\n",
    "#print(\"\\n\" + \"=\"*50 + \"\\n\")"
   ]
  },
  {
   "cell_type": "code",
   "execution_count": 127,
   "id": "010ff114-3d10-4db2-903c-59fc88810044",
   "metadata": {},
   "outputs": [],
   "source": [
    "#df_cleaned.columns"
   ]
  },
  {
   "cell_type": "code",
   "execution_count": 128,
   "id": "505a0314-0ff9-41b4-a683-d9fdba12596b",
   "metadata": {},
   "outputs": [],
   "source": [
    "#df_cleaned.head()"
   ]
  },
  {
   "cell_type": "code",
   "execution_count": 129,
   "id": "e0fcc8a5-b967-4bbc-97b0-a1bdc718ea08",
   "metadata": {},
   "outputs": [],
   "source": [
    "# 1. 削除したい列の名前をリストにまとめる\n",
    "columns_to_drop = [\n",
    "    '利用経験_電動キックボード', \n",
    "    '利用経験_自動配送ロボット', \n",
    "    '利用経験_自動運転バス',\n",
    "    \"年代\"\n",
    "]\n",
    "df_cleaned = df_cleaned.drop(columns=columns_to_drop, axis=1, errors='ignore')\n",
    "#df_cleaned.head()"
   ]
  },
  {
   "cell_type": "code",
   "execution_count": 130,
   "id": "8333b1c9-e22f-4026-a42f-36a6a31f2ede",
   "metadata": {},
   "outputs": [],
   "source": [
    "fill_values = {\n",
    "    '歩道_理由': 'なし',\n",
    "    '道路_理由': 'なし'\n",
    "}\n",
    "df_cleaned = df_cleaned.fillna(value=fill_values)\n",
    "#df_cleaned.head()"
   ]
  },
  {
   "cell_type": "code",
   "execution_count": 120,
   "id": "5f24a022-d822-471d-8266-d4bd7e6ab571",
   "metadata": {},
   "outputs": [],
   "source": [
    "df_cleaned.to_csv(r\"C:\\Users\\sk062\\Downloads\\df_cleaned.csv\", index=False)"
   ]
  },
  {
   "cell_type": "code",
   "execution_count": null,
   "id": "3fce61e5-4554-4a12-8bd6-c477bab7a3c0",
   "metadata": {},
   "outputs": [],
   "source": [
    "missing_values = df.isnull().sum()"
   ]
  }
 ],
 "metadata": {
  "kernelspec": {
   "display_name": "Python 3 (ipykernel)",
   "language": "python",
   "name": "python3"
  },
  "language_info": {
   "codemirror_mode": {
    "name": "ipython",
    "version": 3
   },
   "file_extension": ".py",
   "mimetype": "text/x-python",
   "name": "python",
   "nbconvert_exporter": "python",
   "pygments_lexer": "ipython3",
   "version": "3.12.7"
  }
 },
 "nbformat": 4,
 "nbformat_minor": 5
}
