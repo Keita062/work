{
 "cells": [
  {
   "cell_type": "code",
   "execution_count": 8,
   "id": "4ae97334-9200-4b28-872b-84cd79a82359",
   "metadata": {},
   "outputs": [],
   "source": [
    "import numpy as np\n",
    "import pandas as pd\n",
    "import matplotlib.pyplot as plt\n",
    "from scipy import stats\n",
    "from scipy.stats import spearmanr\n",
    "from scipy.stats import pearsonr\n",
    "from sklearn.preprocessing import StandardScaler"
   ]
  },
  {
   "cell_type": "code",
   "execution_count": 9,
   "id": "b5f6fde0-f9d2-49fe-8a62-68ecb9b9140b",
   "metadata": {},
   "outputs": [],
   "source": [
    "pd.set_option('display.max_rows', None)\n",
    "pd.set_option('display.max_columns', None)"
   ]
  },
  {
   "cell_type": "code",
   "execution_count": 10,
   "id": "8863e27e-a1c7-458f-a7f7-e9111b70784d",
   "metadata": {},
   "outputs": [],
   "source": [
    "df = pd.read_csv(r\"C:\\Users\\sk062\\OneDrive\\デスクトップ\\Analitics\\論文データ\\Data_note.csv\")\n",
    "df[\"timestamp\"] = pd.to_datetime(df[\"timestamp\"], format='%Y-%m-%d %H:%M:%S')\n",
    "scaler = StandardScaler()\n",
    "df[['char_count_z', 'conclusion_char_count_z', 'author_counts_z']] = scaler.fit_transform(df[['char_count', 'conclusion_char_count', 'author_counts']])"
   ]
  },
  {
   "cell_type": "code",
   "execution_count": 11,
   "id": "57126b8f-36f7-451c-b959-bb235a2107d7",
   "metadata": {},
   "outputs": [
    {
     "name": "stdout",
     "output_type": "stream",
     "text": [
      "ピアソン相関係数 0.9539097263459808\n",
      "p_value 1.629499490463859e-13\n"
     ]
    }
   ],
   "source": [
    "g1 = df[\"char_count_z\"]\n",
    "g2 = df[\"conclusion_char_count_z\"]\n",
    "\n",
    "r_pearsoner,p_value_pearsoner = pearsonr(g1,g2)\n",
    "print(\"ピアソン相関係数\",r_pearsoner)\n",
    "print(\"p_value\",p_value_pearsoner)"
   ]
  },
  {
   "cell_type": "code",
   "execution_count": null,
   "id": "c9d7d828-3f14-4c0a-8bbb-524466a086d6",
   "metadata": {},
   "outputs": [],
   "source": []
  }
 ],
 "metadata": {
  "kernelspec": {
   "display_name": "Python 3 (ipykernel)",
   "language": "python",
   "name": "python3"
  },
  "language_info": {
   "codemirror_mode": {
    "name": "ipython",
    "version": 3
   },
   "file_extension": ".py",
   "mimetype": "text/x-python",
   "name": "python",
   "nbconvert_exporter": "python",
   "pygments_lexer": "ipython3",
   "version": "3.12.7"
  }
 },
 "nbformat": 4,
 "nbformat_minor": 5
}
