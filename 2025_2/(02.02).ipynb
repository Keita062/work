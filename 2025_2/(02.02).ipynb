{
 "cells": [
  {
   "cell_type": "code",
   "execution_count": 28,
   "id": "3170612c-bfd0-4e73-be1e-4ee46724a753",
   "metadata": {},
   "outputs": [
    {
     "name": "stdout",
     "output_type": "stream",
     "text": [
      "Requirement already satisfied: transformers in c:\\users\\sk062\\miniconda3\\envs\\study\\lib\\site-packages (4.48.1)\n",
      "Requirement already satisfied: filelock in c:\\users\\sk062\\miniconda3\\envs\\study\\lib\\site-packages (from transformers) (3.17.0)\n",
      "Requirement already satisfied: huggingface-hub<1.0,>=0.24.0 in c:\\users\\sk062\\miniconda3\\envs\\study\\lib\\site-packages (from transformers) (0.27.1)\n",
      "Requirement already satisfied: numpy>=1.17 in c:\\users\\sk062\\miniconda3\\envs\\study\\lib\\site-packages (from transformers) (1.26.4)\n",
      "Requirement already satisfied: packaging>=20.0 in c:\\users\\sk062\\appdata\\roaming\\python\\python312\\site-packages (from transformers) (24.1)\n",
      "Requirement already satisfied: pyyaml>=5.1 in c:\\users\\sk062\\miniconda3\\envs\\study\\lib\\site-packages (from transformers) (6.0.2)\n",
      "Requirement already satisfied: regex!=2019.12.17 in c:\\users\\sk062\\miniconda3\\envs\\study\\lib\\site-packages (from transformers) (2024.11.6)\n",
      "Requirement already satisfied: requests in c:\\users\\sk062\\miniconda3\\envs\\study\\lib\\site-packages (from transformers) (2.32.3)\n",
      "Requirement already satisfied: tokenizers<0.22,>=0.21 in c:\\users\\sk062\\miniconda3\\envs\\study\\lib\\site-packages (from transformers) (0.21.0)\n",
      "Requirement already satisfied: safetensors>=0.4.1 in c:\\users\\sk062\\miniconda3\\envs\\study\\lib\\site-packages (from transformers) (0.5.2)\n",
      "Requirement already satisfied: tqdm>=4.27 in c:\\users\\sk062\\miniconda3\\envs\\study\\lib\\site-packages (from transformers) (4.66.5)\n",
      "Requirement already satisfied: fsspec>=2023.5.0 in c:\\users\\sk062\\miniconda3\\envs\\study\\lib\\site-packages (from huggingface-hub<1.0,>=0.24.0->transformers) (2024.12.0)\n",
      "Requirement already satisfied: typing-extensions>=3.7.4.3 in c:\\users\\sk062\\miniconda3\\envs\\study\\lib\\site-packages (from huggingface-hub<1.0,>=0.24.0->transformers) (4.11.0)\n",
      "Requirement already satisfied: colorama in c:\\users\\sk062\\appdata\\roaming\\python\\python312\\site-packages (from tqdm>=4.27->transformers) (0.4.6)\n",
      "Requirement already satisfied: charset-normalizer<4,>=2 in c:\\users\\sk062\\miniconda3\\envs\\study\\lib\\site-packages (from requests->transformers) (3.3.2)\n",
      "Requirement already satisfied: idna<4,>=2.5 in c:\\users\\sk062\\miniconda3\\envs\\study\\lib\\site-packages (from requests->transformers) (3.7)\n",
      "Requirement already satisfied: urllib3<3,>=1.21.1 in c:\\users\\sk062\\miniconda3\\envs\\study\\lib\\site-packages (from requests->transformers) (2.2.3)\n",
      "Requirement already satisfied: certifi>=2017.4.17 in c:\\users\\sk062\\miniconda3\\envs\\study\\lib\\site-packages (from requests->transformers) (2024.8.30)\n"
     ]
    }
   ],
   "source": [
    "!pip install transformers"
   ]
  },
  {
   "cell_type": "code",
   "execution_count": 29,
   "id": "298d7c6d-5ce8-4c8b-89a9-7b522a819cb6",
   "metadata": {},
   "outputs": [
    {
     "name": "stdout",
     "output_type": "stream",
     "text": [
      "Requirement already satisfied: torch in c:\\users\\sk062\\miniconda3\\envs\\study\\lib\\site-packages (2.5.1)\n",
      "Requirement already satisfied: filelock in c:\\users\\sk062\\miniconda3\\envs\\study\\lib\\site-packages (from torch) (3.17.0)\n",
      "Requirement already satisfied: typing-extensions>=4.8.0 in c:\\users\\sk062\\miniconda3\\envs\\study\\lib\\site-packages (from torch) (4.11.0)\n",
      "Requirement already satisfied: networkx in c:\\users\\sk062\\miniconda3\\envs\\study\\lib\\site-packages (from torch) (3.3)\n",
      "Requirement already satisfied: jinja2 in c:\\users\\sk062\\miniconda3\\envs\\study\\lib\\site-packages (from torch) (3.1.4)\n",
      "Requirement already satisfied: fsspec in c:\\users\\sk062\\miniconda3\\envs\\study\\lib\\site-packages (from torch) (2024.12.0)\n",
      "Requirement already satisfied: setuptools in c:\\users\\sk062\\miniconda3\\envs\\study\\lib\\site-packages (from torch) (72.1.0)\n",
      "Requirement already satisfied: sympy==1.13.1 in c:\\users\\sk062\\miniconda3\\envs\\study\\lib\\site-packages (from torch) (1.13.1)\n",
      "Requirement already satisfied: mpmath<1.4,>=1.1.0 in c:\\users\\sk062\\miniconda3\\envs\\study\\lib\\site-packages (from sympy==1.13.1->torch) (1.3.0)\n",
      "Requirement already satisfied: MarkupSafe>=2.0 in c:\\users\\sk062\\miniconda3\\envs\\study\\lib\\site-packages (from jinja2->torch) (2.1.3)\n"
     ]
    }
   ],
   "source": [
    "!pip install torch"
   ]
  },
  {
   "cell_type": "code",
   "execution_count": 30,
   "id": "e62a0d30-5de7-41e1-8d61-dffae72d55a6",
   "metadata": {},
   "outputs": [
    {
     "name": "stdout",
     "output_type": "stream",
     "text": [
      "Requirement already satisfied: tensorflow in c:\\users\\sk062\\miniconda3\\envs\\study\\lib\\site-packages (2.18.0)\n",
      "Requirement already satisfied: tensorflow-intel==2.18.0 in c:\\users\\sk062\\miniconda3\\envs\\study\\lib\\site-packages (from tensorflow) (2.18.0)\n",
      "Requirement already satisfied: absl-py>=1.0.0 in c:\\users\\sk062\\miniconda3\\envs\\study\\lib\\site-packages (from tensorflow-intel==2.18.0->tensorflow) (2.1.0)\n",
      "Requirement already satisfied: astunparse>=1.6.0 in c:\\users\\sk062\\miniconda3\\envs\\study\\lib\\site-packages (from tensorflow-intel==2.18.0->tensorflow) (1.6.3)\n",
      "Requirement already satisfied: flatbuffers>=24.3.25 in c:\\users\\sk062\\miniconda3\\envs\\study\\lib\\site-packages (from tensorflow-intel==2.18.0->tensorflow) (25.1.24)\n",
      "Requirement already satisfied: gast!=0.5.0,!=0.5.1,!=0.5.2,>=0.2.1 in c:\\users\\sk062\\miniconda3\\envs\\study\\lib\\site-packages (from tensorflow-intel==2.18.0->tensorflow) (0.6.0)\n",
      "Requirement already satisfied: google-pasta>=0.1.1 in c:\\users\\sk062\\miniconda3\\envs\\study\\lib\\site-packages (from tensorflow-intel==2.18.0->tensorflow) (0.2.0)\n",
      "Requirement already satisfied: libclang>=13.0.0 in c:\\users\\sk062\\miniconda3\\envs\\study\\lib\\site-packages (from tensorflow-intel==2.18.0->tensorflow) (18.1.1)\n",
      "Requirement already satisfied: opt-einsum>=2.3.2 in c:\\users\\sk062\\miniconda3\\envs\\study\\lib\\site-packages (from tensorflow-intel==2.18.0->tensorflow) (3.4.0)\n",
      "Requirement already satisfied: packaging in c:\\users\\sk062\\appdata\\roaming\\python\\python312\\site-packages (from tensorflow-intel==2.18.0->tensorflow) (24.1)\n",
      "Requirement already satisfied: protobuf!=4.21.0,!=4.21.1,!=4.21.2,!=4.21.3,!=4.21.4,!=4.21.5,<6.0.0dev,>=3.20.3 in c:\\users\\sk062\\miniconda3\\envs\\study\\lib\\site-packages (from tensorflow-intel==2.18.0->tensorflow) (5.29.3)\n",
      "Requirement already satisfied: requests<3,>=2.21.0 in c:\\users\\sk062\\miniconda3\\envs\\study\\lib\\site-packages (from tensorflow-intel==2.18.0->tensorflow) (2.32.3)\n",
      "Requirement already satisfied: setuptools in c:\\users\\sk062\\miniconda3\\envs\\study\\lib\\site-packages (from tensorflow-intel==2.18.0->tensorflow) (72.1.0)\n",
      "Requirement already satisfied: six>=1.12.0 in c:\\users\\sk062\\appdata\\roaming\\python\\python312\\site-packages (from tensorflow-intel==2.18.0->tensorflow) (1.16.0)\n",
      "Requirement already satisfied: termcolor>=1.1.0 in c:\\users\\sk062\\miniconda3\\envs\\study\\lib\\site-packages (from tensorflow-intel==2.18.0->tensorflow) (2.5.0)\n",
      "Requirement already satisfied: typing-extensions>=3.6.6 in c:\\users\\sk062\\miniconda3\\envs\\study\\lib\\site-packages (from tensorflow-intel==2.18.0->tensorflow) (4.11.0)\n",
      "Requirement already satisfied: wrapt>=1.11.0 in c:\\users\\sk062\\miniconda3\\envs\\study\\lib\\site-packages (from tensorflow-intel==2.18.0->tensorflow) (1.17.2)\n",
      "Requirement already satisfied: grpcio<2.0,>=1.24.3 in c:\\users\\sk062\\miniconda3\\envs\\study\\lib\\site-packages (from tensorflow-intel==2.18.0->tensorflow) (1.70.0)\n",
      "Requirement already satisfied: tensorboard<2.19,>=2.18 in c:\\users\\sk062\\miniconda3\\envs\\study\\lib\\site-packages (from tensorflow-intel==2.18.0->tensorflow) (2.18.0)\n",
      "Requirement already satisfied: keras>=3.5.0 in c:\\users\\sk062\\miniconda3\\envs\\study\\lib\\site-packages (from tensorflow-intel==2.18.0->tensorflow) (3.8.0)\n",
      "Requirement already satisfied: numpy<2.1.0,>=1.26.0 in c:\\users\\sk062\\miniconda3\\envs\\study\\lib\\site-packages (from tensorflow-intel==2.18.0->tensorflow) (1.26.4)\n",
      "Requirement already satisfied: h5py>=3.11.0 in c:\\users\\sk062\\miniconda3\\envs\\study\\lib\\site-packages (from tensorflow-intel==2.18.0->tensorflow) (3.12.1)\n",
      "Requirement already satisfied: ml-dtypes<0.5.0,>=0.4.0 in c:\\users\\sk062\\miniconda3\\envs\\study\\lib\\site-packages (from tensorflow-intel==2.18.0->tensorflow) (0.4.1)\n",
      "Requirement already satisfied: wheel<1.0,>=0.23.0 in c:\\users\\sk062\\miniconda3\\envs\\study\\lib\\site-packages (from astunparse>=1.6.0->tensorflow-intel==2.18.0->tensorflow) (0.44.0)\n",
      "Requirement already satisfied: rich in c:\\users\\sk062\\miniconda3\\envs\\study\\lib\\site-packages (from keras>=3.5.0->tensorflow-intel==2.18.0->tensorflow) (13.9.4)\n",
      "Requirement already satisfied: namex in c:\\users\\sk062\\miniconda3\\envs\\study\\lib\\site-packages (from keras>=3.5.0->tensorflow-intel==2.18.0->tensorflow) (0.0.8)\n",
      "Requirement already satisfied: optree in c:\\users\\sk062\\miniconda3\\envs\\study\\lib\\site-packages (from keras>=3.5.0->tensorflow-intel==2.18.0->tensorflow) (0.14.0)\n",
      "Requirement already satisfied: charset-normalizer<4,>=2 in c:\\users\\sk062\\miniconda3\\envs\\study\\lib\\site-packages (from requests<3,>=2.21.0->tensorflow-intel==2.18.0->tensorflow) (3.3.2)\n",
      "Requirement already satisfied: idna<4,>=2.5 in c:\\users\\sk062\\miniconda3\\envs\\study\\lib\\site-packages (from requests<3,>=2.21.0->tensorflow-intel==2.18.0->tensorflow) (3.7)\n",
      "Requirement already satisfied: urllib3<3,>=1.21.1 in c:\\users\\sk062\\miniconda3\\envs\\study\\lib\\site-packages (from requests<3,>=2.21.0->tensorflow-intel==2.18.0->tensorflow) (2.2.3)\n",
      "Requirement already satisfied: certifi>=2017.4.17 in c:\\users\\sk062\\miniconda3\\envs\\study\\lib\\site-packages (from requests<3,>=2.21.0->tensorflow-intel==2.18.0->tensorflow) (2024.8.30)\n",
      "Requirement already satisfied: markdown>=2.6.8 in c:\\users\\sk062\\miniconda3\\envs\\study\\lib\\site-packages (from tensorboard<2.19,>=2.18->tensorflow-intel==2.18.0->tensorflow) (3.7)\n",
      "Requirement already satisfied: tensorboard-data-server<0.8.0,>=0.7.0 in c:\\users\\sk062\\miniconda3\\envs\\study\\lib\\site-packages (from tensorboard<2.19,>=2.18->tensorflow-intel==2.18.0->tensorflow) (0.7.2)\n",
      "Requirement already satisfied: werkzeug>=1.0.1 in c:\\users\\sk062\\miniconda3\\envs\\study\\lib\\site-packages (from tensorboard<2.19,>=2.18->tensorflow-intel==2.18.0->tensorflow) (3.1.3)\n",
      "Requirement already satisfied: MarkupSafe>=2.1.1 in c:\\users\\sk062\\miniconda3\\envs\\study\\lib\\site-packages (from werkzeug>=1.0.1->tensorboard<2.19,>=2.18->tensorflow-intel==2.18.0->tensorflow) (2.1.3)\n",
      "Requirement already satisfied: markdown-it-py>=2.2.0 in c:\\users\\sk062\\miniconda3\\envs\\study\\lib\\site-packages (from rich->keras>=3.5.0->tensorflow-intel==2.18.0->tensorflow) (2.2.0)\n",
      "Requirement already satisfied: pygments<3.0.0,>=2.13.0 in c:\\users\\sk062\\appdata\\roaming\\python\\python312\\site-packages (from rich->keras>=3.5.0->tensorflow-intel==2.18.0->tensorflow) (2.18.0)\n",
      "Requirement already satisfied: mdurl~=0.1 in c:\\users\\sk062\\miniconda3\\envs\\study\\lib\\site-packages (from markdown-it-py>=2.2.0->rich->keras>=3.5.0->tensorflow-intel==2.18.0->tensorflow) (0.1.0)\n",
      "Note: you may need to restart the kernel to use updated packages.\n"
     ]
    }
   ],
   "source": [
    "pip install tensorflow"
   ]
  },
  {
   "cell_type": "code",
   "execution_count": 31,
   "id": "ffa35e8d-5613-4d37-94fd-bdcc1e987f12",
   "metadata": {},
   "outputs": [],
   "source": [
    "import os\n",
    "import pdfplumber\n",
    "import numpy as np\n",
    "import pandas as pd\n",
    "import matplotlib.pyplot as plt\n",
    "import torch\n",
    "import re\n",
    "import tensorflow as tf\n",
    "from sklearn.feature_extraction.text import TfidfVectorizer\n",
    "from sklearn.metrics.pairwise import cosine_similarity\n",
    "from transformers import pipeline\n",
    "from wordcloud import WordCloud\n",
    "from sklearn.feature_extraction.text import ENGLISH_STOP_WORDS"
   ]
  },
  {
   "cell_type": "code",
   "execution_count": 32,
   "id": "5389e4c7-0e7a-430a-a312-dd78f7a362ea",
   "metadata": {},
   "outputs": [],
   "source": [
    "def extract_text_from_pdfs( folder_path ):\n",
    "    \"\"\"\n",
    "    指定フォルダ内の複数PDFからテキストを抽出する。\n",
    "    \"\"\"\n",
    "    pdf_texts = {}\n",
    "    for file_name in os.listdir( folder_path ):\n",
    "        if file_name.endswith( '.pdf' ):  # PDFファイルのみ対象\n",
    "            with pdfplumber.open(os.path.join( folder_path, file_name) ) as pdf:\n",
    "                text = ''.join([ page.extract_text () for page in pdf.pages if page.extract_text()])\n",
    "                if text.strip():  # テキストが空でない場合のみ\n",
    "                    pdf_texts[file_name] = text\n",
    "    return pdf_texts"
   ]
  },
  {
   "cell_type": "code",
   "execution_count": 33,
   "id": "adbfbe56-8b25-4f7f-bb73-ad49972a8b08",
   "metadata": {},
   "outputs": [],
   "source": [
    "folder_path = r\"C:\\Users\\sk062\\OneDrive\\デスクトップ\\資料\\Note info\"  # 論文PDFを保存しているフォルダ"
   ]
  },
  {
   "cell_type": "code",
   "execution_count": null,
   "id": "9f6b803b-57f2-44fd-b0dc-af3659f1b50f",
   "metadata": {},
   "outputs": [],
   "source": [
    "pdf_texts = extract_text_from_pdfs(folder_path)"
   ]
  },
  {
   "cell_type": "code",
   "execution_count": null,
   "id": "2c34cfb1-8db1-4423-a421-ddf4860c679b",
   "metadata": {},
   "outputs": [],
   "source": [
    "from sklearn.feature_extraction.text import ENGLISH_STOP_WORDS\n",
    "\n",
    "def extract_tfidf_features_with_custom_stopwords(texts, additional_stopwords=None):\n",
    "    \"\"\"\n",
    "    論文テキストをTF-IDFベクトルに変換して特徴量を抽出する。\n",
    "    追加のストップワードを指定することが可能。\n",
    "\n",
    "    パラメータ:\n",
    "    texts : list of str\n",
    "        処理対象のテキストデータのリスト。\n",
    "    additional_stopwords : list of str, optional\n",
    "        追加で除去したいストップワードのリスト（デフォルトはNone）。\n",
    "\n",
    "    戻り値:\n",
    "    tfidf_matrix : scipy.sparse matrix\n",
    "        TF-IDF ベクトル化されたテキストデータ。\n",
    "    vectorizer : TfidfVectorizer\n",
    "        TF-IDF ベクトライザー（後から単語リストを取得可能）。\n",
    "    \"\"\"\n",
    "    # ストップワードの設定\n",
    "    stop_words = list(ENGLISH_STOP_WORDS)\n",
    "    if additional_stopwords:\n",
    "        stop_words.extend(additional_stopwords)  # リストに追加のストップワードを加える\n",
    "\n",
    "    # TF-IDFベクトライザーの定義\n",
    "    vectorizer = TfidfVectorizer(stop_words=stop_words, max_features=5000)\n",
    "    tfidf_matrix = vectorizer.fit_transform(texts)\n",
    "\n",
    "    return tfidf_matrix, vectorizer\n"
   ]
  },
  {
   "cell_type": "code",
   "execution_count": null,
   "id": "cd9d3eb2-a3ce-4c0f-9c36-b353c8cba0f1",
   "metadata": {},
   "outputs": [],
   "source": [
    "texts = list(pdf_texts.values())  # 論文の本文\n",
    "filenames = list(pdf_texts.keys())  # 対応するファイル名"
   ]
  },
  {
   "cell_type": "code",
   "execution_count": null,
   "id": "ca2bcd2c-f2e6-4407-baed-6c1ba746bbbb",
   "metadata": {},
   "outputs": [],
   "source": [
    "# 1. 各論文の文字数をカウント\n",
    "char_counts = {filename: len(text) for filename, text in pdf_texts.items()}\n",
    "\n",
    "# 2. TF-IDF特徴量抽出（カスタムストップワードなし）\n",
    "tfidf_matrix, vectorizer = extract_tfidf_features_with_custom_stopwords(pdf_texts)\n",
    "\n",
    "# 各論文の上位10単語を取得\n",
    "feature_names = np.array(vectorizer.get_feature_names_out())  # 単語リスト\n",
    "top_words_per_doc = {}\n",
    "\n",
    "for i, filename in enumerate(filenames):\n",
    "    # TF-IDFスコアが高い単語のインデックスを取得\n",
    "    sorted_indices = np.argsort(tfidf_matrix[i].toarray()).flatten()[::-1]\n",
    "    top_words = feature_names[sorted_indices[:20]]  # 上位10単語を取得\n",
    "    top_words_per_doc[filename] = top_words\n",
    "\n",
    "# 結果を表示\n",
    "for filename in filenames:\n",
    "    print(f\"論文: {filename}\")\n",
    "    print(f\"文字数: {char_counts[filename]}\")\n",
    "    print(f\"最頻ワードTOP10: {', '.join(top_words_per_doc[filename])}\")\n",
    "    print(\"-\" * 50)\n"
   ]
  },
  {
   "cell_type": "code",
   "execution_count": null,
   "id": "e550e358-4325-4d5f-8240-af2c56338fcd",
   "metadata": {},
   "outputs": [],
   "source": [
    "def count_citations(text):\n",
    "    \"\"\"\n",
    "    論文の引用数をカウントする（IEEEスタイルやAPAスタイルに対応）\n",
    "    \"\"\"\n",
    "    # IEEEスタイルの引用（例: [1], [2,3]）\n",
    "    ieee_citations = re.findall(r'\\[\\d+(?:,\\s*\\d+)*\\]', folder_path)\n",
    "\n",
    "    # APAスタイルの引用（例: (Smith, 2020)）\n",
    "    apa_citations = re.findall(r'\\([A-Za-z]+,?\\s*\\d{4}\\)', folder_path)\n",
    "\n",
    "    # 自然科学系論文のパターン (例: Smith et al., 2020)\n",
    "    nature_citations = re.findall(r'[A-Za-z]+ et al\\.,?\\s*\\d{4}', folder_path)\n",
    "\n",
    "    # 総引用数を合計\n",
    "    total_citations = len(ieee_citations) + len(apa_citations) + len(nature_citations)\n",
    "    return total_citations\n",
    "\n",
    "# 各論文の引用数をカウント\n",
    "citation_counts = {filename: count_citations(text) for filename, text in pdf_texts.items()}\n",
    "\n",
    "# 結果を表示\n",
    "for filename in filenames:\n",
    "    print(f\"論文: {filename}\")\n",
    "    print(f\"引用数: {citation_counts[filename]}\")\n",
    "    print(\"-\" * 50)\n"
   ]
  },
  {
   "cell_type": "code",
   "execution_count": null,
   "id": "28df0c09-c6d9-4f06-ad44-d096b2d04d2e",
   "metadata": {},
   "outputs": [],
   "source": [
    "# CSVファイルの読み込み\n",
    "csv_file_path = r\"C:\\Users\\sk062\\OneDrive\\デスクトップ\\9c2e4d3d-864b-490e-b35a-b141df14fc43_Export-00b74899-a19a-4d27-9b59-9b23b5916742\\Note paper (ai) 174225966a7b8067b3ecd5385709bbb4.csv\"\n",
    "df = pd.read_csv(csv_file_path)"
   ]
  },
  {
   "cell_type": "code",
   "execution_count": null,
   "id": "e3ce3e48-42a8-4e99-9689-eb0f5453fe3f",
   "metadata": {},
   "outputs": [],
   "source": [
    "df"
   ]
  },
  {
   "cell_type": "code",
   "execution_count": null,
   "id": "bbd17322-aef7-4ff4-b8e2-9ec0f45a2711",
   "metadata": {},
   "outputs": [],
   "source": [
    "# ❷ 追加するデータを整理\n",
    "data = []\n",
    "summarizer = pipeline('summarization', model=\"facebook/bart-large-cnn\")  # 要約モデル"
   ]
  },
  {
   "cell_type": "code",
   "execution_count": null,
   "id": "79f01355-076a-47b1-bfce-f8432d19666d",
   "metadata": {},
   "outputs": [],
   "source": []
  },
  {
   "cell_type": "code",
   "execution_count": null,
   "id": "e584a898-1c19-46be-a650-3cacc2bd3d6d",
   "metadata": {},
   "outputs": [],
   "source": []
  },
  {
   "cell_type": "code",
   "execution_count": null,
   "id": "ca20fa91-8a9c-4c85-8936-4d2d89fa56d9",
   "metadata": {},
   "outputs": [],
   "source": []
  },
  {
   "cell_type": "code",
   "execution_count": null,
   "id": "eed84837-224a-4ece-a455-40e78dac2854",
   "metadata": {},
   "outputs": [],
   "source": []
  },
  {
   "cell_type": "code",
   "execution_count": null,
   "id": "25856e7f-8dea-48f6-a817-a05382305cb6",
   "metadata": {},
   "outputs": [],
   "source": []
  }
 ],
 "metadata": {
  "kernelspec": {
   "display_name": "Python 3 (ipykernel)",
   "language": "python",
   "name": "python3"
  },
  "language_info": {
   "codemirror_mode": {
    "name": "ipython",
    "version": 3
   },
   "file_extension": ".py",
   "mimetype": "text/x-python",
   "name": "python",
   "nbconvert_exporter": "python",
   "pygments_lexer": "ipython3",
   "version": "3.12.7"
  }
 },
 "nbformat": 4,
 "nbformat_minor": 5
}
