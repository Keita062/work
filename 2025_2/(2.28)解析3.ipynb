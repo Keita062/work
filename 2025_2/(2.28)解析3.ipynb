{
 "cells": [
  {
   "cell_type": "code",
   "execution_count": 22,
   "id": "46e19f1a-0d6f-4154-b2db-a1af9ef9da1d",
   "metadata": {},
   "outputs": [],
   "source": [
    "import numpy as np\n",
    "import pandas as pd\n",
    "import matplotlib.pyplot as plt\n",
    "from scipy.stats import chi2_contingency\n",
    "import scipy.stats as st\n",
    "import statsmodels.api as sm"
   ]
  },
  {
   "cell_type": "code",
   "execution_count": 16,
   "id": "6b0e0e62-4759-44b3-aff4-ef500bc3094d",
   "metadata": {},
   "outputs": [
    {
     "name": "stderr",
     "output_type": "stream",
     "text": [
      "C:\\Users\\sk062\\AppData\\Local\\Temp\\ipykernel_1548\\1874308237.py:19: FutureWarning: Downcasting behavior in `replace` is deprecated and will be removed in a future version. To retain the old behavior, explicitly call `result.infer_objects(copy=False)`. To opt-in to the future behavior, set `pd.set_option('future.no_silent_downcasting', True)`\n",
      "  df_copy.iloc[:, 6] = df_copy.iloc[:, 6].replace('④希望しない', 4)\n",
      "C:\\Users\\sk062\\AppData\\Local\\Temp\\ipykernel_1548\\1874308237.py:25: FutureWarning: Downcasting behavior in `replace` is deprecated and will be removed in a future version. To retain the old behavior, explicitly call `result.infer_objects(copy=False)`. To opt-in to the future behavior, set `pd.set_option('future.no_silent_downcasting', True)`\n",
      "  df_copy.iloc[:, 9] = df_copy.iloc[:, 9].replace('⑤年に数回以下', 5)\n",
      "C:\\Users\\sk062\\AppData\\Local\\Temp\\ipykernel_1548\\1874308237.py:31: FutureWarning: Downcasting behavior in `replace` is deprecated and will be removed in a future version. To retain the old behavior, explicitly call `result.infer_objects(copy=False)`. To opt-in to the future behavior, set `pd.set_option('future.no_silent_downcasting', True)`\n",
      "  df_copy.iloc[:, 10] = df_copy.iloc[:, 10].replace('⑤３００円', 5)\n",
      "C:\\Users\\sk062\\AppData\\Local\\Temp\\ipykernel_1548\\1874308237.py:34: FutureWarning: Downcasting behavior in `replace` is deprecated and will be removed in a future version. To retain the old behavior, explicitly call `result.infer_objects(copy=False)`. To opt-in to the future behavior, set `pd.set_option('future.no_silent_downcasting', True)`\n",
      "  df_copy.iloc[:, 11] = df_copy.iloc[:, 11].replace('②危険を感じなかった', 2)\n",
      "C:\\Users\\sk062\\AppData\\Local\\Temp\\ipykernel_1548\\1874308237.py:45: FutureWarning: Downcasting behavior in `replace` is deprecated and will be removed in a future version. To retain the old behavior, explicitly call `result.infer_objects(copy=False)`. To opt-in to the future behavior, set `pd.set_option('future.no_silent_downcasting', True)`\n",
      "  df_copy.iloc[:, 13] = df_copy.iloc[:, 13].replace('⑪行政機関利用', 11)\n",
      "C:\\Users\\sk062\\AppData\\Local\\Temp\\ipykernel_1548\\1874308237.py:56: FutureWarning: Downcasting behavior in `replace` is deprecated and will be removed in a future version. To retain the old behavior, explicitly call `result.infer_objects(copy=False)`. To opt-in to the future behavior, set `pd.set_option('future.no_silent_downcasting', True)`\n",
      "  df_copy.iloc[:, 19] = df_copy.iloc[:, 19].replace('⑤全面的に協力できない', 5)\n",
      "C:\\Users\\sk062\\AppData\\Local\\Temp\\ipykernel_1548\\1874308237.py:62: FutureWarning: Downcasting behavior in `replace` is deprecated and will be removed in a future version. To retain the old behavior, explicitly call `result.infer_objects(copy=False)`. To opt-in to the future behavior, set `pd.set_option('future.no_silent_downcasting', True)`\n",
      "  df_copy.iloc[:, 20] = df_copy.iloc[:, 20].replace('⑤全面的に協力できない', 5)\n",
      "C:\\Users\\sk062\\AppData\\Local\\Temp\\ipykernel_1548\\1874308237.py:68: FutureWarning: Downcasting behavior in `replace` is deprecated and will be removed in a future version. To retain the old behavior, explicitly call `result.infer_objects(copy=False)`. To opt-in to the future behavior, set `pd.set_option('future.no_silent_downcasting', True)`\n",
      "  df_copy.iloc[:, 21] = df_copy.iloc[:, 21].replace('⑤全面的に協力できない', 5)\n",
      "C:\\Users\\sk062\\AppData\\Local\\Temp\\ipykernel_1548\\1874308237.py:74: FutureWarning: Downcasting behavior in `replace` is deprecated and will be removed in a future version. To retain the old behavior, explicitly call `result.infer_objects(copy=False)`. To opt-in to the future behavior, set `pd.set_option('future.no_silent_downcasting', True)`\n",
      "  df_copy.iloc[:, 22] = df_copy.iloc[:, 22].replace('⑤全面的に協力できない', 5)\n",
      "C:\\Users\\sk062\\AppData\\Local\\Temp\\ipykernel_1548\\1874308237.py:80: FutureWarning: Downcasting behavior in `replace` is deprecated and will be removed in a future version. To retain the old behavior, explicitly call `result.infer_objects(copy=False)`. To opt-in to the future behavior, set `pd.set_option('future.no_silent_downcasting', True)`\n",
      "  df_copy.iloc[:, 23] = df_copy.iloc[:, 23].replace('⑤全面的に協力できない', 5)\n",
      "C:\\Users\\sk062\\AppData\\Local\\Temp\\ipykernel_1548\\1874308237.py:86: FutureWarning: Downcasting behavior in `replace` is deprecated and will be removed in a future version. To retain the old behavior, explicitly call `result.infer_objects(copy=False)`. To opt-in to the future behavior, set `pd.set_option('future.no_silent_downcasting', True)`\n",
      "  df_copy.iloc[:, 24] = df_copy.iloc[:, 24].replace('⑤全面的に協力できない', 5)\n",
      "C:\\Users\\sk062\\AppData\\Local\\Temp\\ipykernel_1548\\1874308237.py:92: FutureWarning: Downcasting behavior in `replace` is deprecated and will be removed in a future version. To retain the old behavior, explicitly call `result.infer_objects(copy=False)`. To opt-in to the future behavior, set `pd.set_option('future.no_silent_downcasting', True)`\n",
      "  df_copy.iloc[:, 25] = df_copy.iloc[:, 25].replace('⑤全面的に協力できない', 5)\n",
      "C:\\Users\\sk062\\AppData\\Local\\Temp\\ipykernel_1548\\1874308237.py:98: FutureWarning: Downcasting behavior in `replace` is deprecated and will be removed in a future version. To retain the old behavior, explicitly call `result.infer_objects(copy=False)`. To opt-in to the future behavior, set `pd.set_option('future.no_silent_downcasting', True)`\n",
      "  df_copy.iloc[:, 26] = df_copy.iloc[:, 26].replace('⑤全面的に協力できない', 5)\n",
      "C:\\Users\\sk062\\AppData\\Local\\Temp\\ipykernel_1548\\1874308237.py:100: FutureWarning: Downcasting object dtype arrays on .fillna, .ffill, .bfill is deprecated and will change in a future version. Call result.infer_objects(copy=False) instead. To opt-in to the future behavior, set `pd.set_option('future.no_silent_downcasting', True)`\n",
      "  df_copy = df_copy.fillna(0)\n"
     ]
    }
   ],
   "source": [
    "df = pd.read_csv(r\"C:\\Users\\sk062\\OneDrive\\デスクトップ\\西新宿 自動運転アンケート2025.2.21~24.csv　108名バージョン\\西新宿 自動運転アンケート2025.2.21~24.csv\")\n",
    "df_copy = df.copy()\n",
    "df_copy.columns = [\n",
    "    \"timestamp\", \"Q1-1_attribute_Sex\", \"Q1-1_attribute_Age\", \"Q1-2_position\", \"Q1-3_region\",\n",
    "    \"Q1-4_past_autonomous_bus\", \"Q2-1_reuse_intent\", \"Q2-2_reason_reuse\", \"Q2-2_reason_no_reuse\",\n",
    "    \"Q2-3_usage_frequency\", \"Q3-1_fare_willingness\", \"Q4-1_safety_concern\", \"Q4-2_safety_situation\",\n",
    "    \"Q5-1_participation_reason\", \"Q5-2_info_source\", \"Q5-3_riding_comfort\", \"Q5-3_comfort_reason\",\n",
    "    \"Q5-4_expectation_future\", \"Q5-4_expectation_reason\",\n",
    "    \"Q6-1-a_beneficiary_parking\", \"Q6-1-b_non_beneficiary_parking\",\n",
    "    \"Q6-2-a_beneficiary_pedestrian\", \"Q6-2-b_non_beneficiary_pedestrian\",\n",
    "    \"Q6-3-a_beneficiary_speed_adjust\", \"Q6-3-b_non_beneficiary_speed_adjust\",\n",
    "    \"Q6-4-a_beneficiary_financial_burden\", \"Q6-4-b_non_beneficiary_financial_burden\",\n",
    "    \"Q7-1_self_service_acceptance\"\n",
    "]\n",
    "\n",
    "df_copy.iloc[:, 6] = df_copy.iloc[:, 6].replace('①希望する', 1)\n",
    "df_copy.iloc[:, 6] = df_copy.iloc[:, 6].replace('②どちらかというと希望する', 2)\n",
    "df_copy.iloc[:, 6] = df_copy.iloc[:, 6].replace('③どちらかというと希望しない', 3)\n",
    "df_copy.iloc[:, 6] = df_copy.iloc[:, 6].replace('④希望しない', 4)\n",
    "\n",
    "df_copy.iloc[:, 9] = df_copy.iloc[:, 9].replace('①週５回以上', 1)\n",
    "df_copy.iloc[:, 9] = df_copy.iloc[:, 9].replace('②週３～４回', 2)\n",
    "df_copy.iloc[:, 9] = df_copy.iloc[:, 9].replace('③週１～２回', 3)\n",
    "df_copy.iloc[:, 9] = df_copy.iloc[:, 9].replace('④月に１～３回', 4)\n",
    "df_copy.iloc[:, 9] = df_copy.iloc[:, 9].replace('⑤年に数回以下', 5)\n",
    "\n",
    "df_copy.iloc[:, 10] = df_copy.iloc[:, 10].replace('①１００円以下', 1)\n",
    "df_copy.iloc[:, 10] = df_copy.iloc[:, 10].replace('②１５０円', 2)\n",
    "df_copy.iloc[:, 10] = df_copy.iloc[:, 10].replace('③２００円', 3)\n",
    "df_copy.iloc[:, 10] = df_copy.iloc[:, 10].replace('④２５０円', 4)\n",
    "df_copy.iloc[:, 10] = df_copy.iloc[:, 10].replace('⑤３００円', 5)\n",
    "\n",
    "df_copy.iloc[:, 11] = df_copy.iloc[:, 11].replace('①危険を感じた', 1)\n",
    "df_copy.iloc[:, 11] = df_copy.iloc[:, 11].replace('②危険を感じなかった', 2)\n",
    "\n",
    "df_copy.iloc[:, 13] = df_copy.iloc[:, 13].replace('①興味本位', 1)\n",
    "df_copy.iloc[:, 13] = df_copy.iloc[:, 13].replace('②家族・友人に誘われたから', 2)\n",
    "df_copy.iloc[:, 13] = df_copy.iloc[:, 13].replace('③試しに乗ってみた（視察含む）', 3)\n",
    "df_copy.iloc[:, 13] = df_copy.iloc[:, 13].replace('⑤自動運動システムに興味があった', 5)\n",
    "df_copy.iloc[:, 13] = df_copy.iloc[:, 13].replace('⑥通勤（都庁）', 6)\n",
    "df_copy.iloc[:, 13] = df_copy.iloc[:, 13].replace('⑦通勤（都庁以外）', 7)\n",
    "df_copy.iloc[:, 13] = df_copy.iloc[:, 13].replace('⑧業務', 8)\n",
    "df_copy.iloc[:, 13] = df_copy.iloc[:, 13].replace('⑨趣味・コミュニティ活動', 9)\n",
    "df_copy.iloc[:, 13] = df_copy.iloc[:, 13].replace('⑩通院/健康関係', 10)\n",
    "df_copy.iloc[:, 13] = df_copy.iloc[:, 13].replace('⑪行政機関利用', 11)\n",
    "df_copy.iloc[:, 13] = df_copy.iloc[:, 13].replace('⑫金融/郵便関係利用', 12)\n",
    "df_copy.iloc[:, 13] = df_copy.iloc[:, 13].replace('⑬外食', 13)\n",
    "df_copy.iloc[:, 13] = df_copy.iloc[:, 13].replace('⑭日用品の購入', 14)\n",
    "df_copy.iloc[:, 13] = df_copy.iloc[:, 13].replace('⑮（日用品を除く）物品の購入/サービス契約', 15)\n",
    "df_copy.iloc[:, 13] = df_copy.iloc[:, 13].replace('⑯仕事以外の方（知人/友人/家族等）の面会', 16)\n",
    "\n",
    "df_copy.iloc[:, 19] = df_copy.iloc[:, 19].replace('①全面的に協力できる', 1)\n",
    "df_copy.iloc[:, 19] = df_copy.iloc[:, 19].replace('②やや協力できる', 2)\n",
    "df_copy.iloc[:, 19] = df_copy.iloc[:, 19].replace('③普通', 3)\n",
    "df_copy.iloc[:, 19] = df_copy.iloc[:, 19].replace('④やや協力できない', 4)\n",
    "df_copy.iloc[:, 19] = df_copy.iloc[:, 19].replace('⑤全面的に協力できない', 5)\n",
    "\n",
    "df_copy.iloc[:, 20] = df_copy.iloc[:, 20].replace('①全面的に協力できる', 1)\n",
    "df_copy.iloc[:, 20] = df_copy.iloc[:, 20].replace('②やや協力できる', 2)\n",
    "df_copy.iloc[:, 20] = df_copy.iloc[:, 20].replace('③普通', 3)\n",
    "df_copy.iloc[:, 20] = df_copy.iloc[:, 20].replace('④やや協力できない', 4)\n",
    "df_copy.iloc[:, 20] = df_copy.iloc[:, 20].replace('⑤全面的に協力できない', 5)\n",
    "\n",
    "df_copy.iloc[:, 21] = df_copy.iloc[:, 21].replace('①全面的に協力できる', 1)\n",
    "df_copy.iloc[:, 21] = df_copy.iloc[:, 21].replace('②やや協力できる', 2)\n",
    "df_copy.iloc[:, 21] = df_copy.iloc[:, 21].replace('③普通', 3)\n",
    "df_copy.iloc[:, 21] = df_copy.iloc[:, 21].replace('④やや協力できない', 4)\n",
    "df_copy.iloc[:, 21] = df_copy.iloc[:, 21].replace('⑤全面的に協力できない', 5)\n",
    "\n",
    "df_copy.iloc[:, 22] = df_copy.iloc[:, 22].replace('①全面的に協力できる', 1)\n",
    "df_copy.iloc[:, 22] = df_copy.iloc[:, 22].replace('②やや協力できる', 2)\n",
    "df_copy.iloc[:, 22] = df_copy.iloc[:, 22].replace('③普通', 3)\n",
    "df_copy.iloc[:, 22] = df_copy.iloc[:, 22].replace('④やや協力できない', 4)\n",
    "df_copy.iloc[:, 22] = df_copy.iloc[:, 22].replace('⑤全面的に協力できない', 5)\n",
    "\n",
    "df_copy.iloc[:, 23] = df_copy.iloc[:, 23].replace('①全面的に協力できる', 1)\n",
    "df_copy.iloc[:, 23] = df_copy.iloc[:, 23].replace('②やや協力できる', 2)\n",
    "df_copy.iloc[:, 23] = df_copy.iloc[:, 23].replace('③普通', 3)\n",
    "df_copy.iloc[:, 23] = df_copy.iloc[:, 23].replace('④やや協力できない', 4)\n",
    "df_copy.iloc[:, 23] = df_copy.iloc[:, 23].replace('⑤全面的に協力できない', 5)\n",
    "\n",
    "df_copy.iloc[:, 24] = df_copy.iloc[:, 24].replace('①全面的に協力できる', 1)\n",
    "df_copy.iloc[:, 24] = df_copy.iloc[:, 24].replace('②やや協力できる', 2)\n",
    "df_copy.iloc[:, 24] = df_copy.iloc[:, 24].replace('③普通', 3)\n",
    "df_copy.iloc[:, 24] = df_copy.iloc[:, 24].replace('④やや協力できない', 4)\n",
    "df_copy.iloc[:, 24] = df_copy.iloc[:, 24].replace('⑤全面的に協力できない', 5)\n",
    "\n",
    "df_copy.iloc[:, 25] = df_copy.iloc[:, 25].replace('①全面的に協力できる', 1)\n",
    "df_copy.iloc[:, 25] = df_copy.iloc[:, 25].replace('②やや協力できる', 2)\n",
    "df_copy.iloc[:, 25] = df_copy.iloc[:, 25].replace('③普通', 3)\n",
    "df_copy.iloc[:, 25] = df_copy.iloc[:, 25].replace('④やや協力できない', 4)\n",
    "df_copy.iloc[:, 25] = df_copy.iloc[:, 25].replace('⑤全面的に協力できない', 5)\n",
    "\n",
    "df_copy.iloc[:, 26] = df_copy.iloc[:, 26].replace('①全面的に協力できる', 1)\n",
    "df_copy.iloc[:, 26] = df_copy.iloc[:, 26].replace('②やや協力できる', 2)\n",
    "df_copy.iloc[:, 26] = df_copy.iloc[:, 26].replace('③普通', 3)\n",
    "df_copy.iloc[:, 26] = df_copy.iloc[:, 26].replace('④やや協力できない', 4)\n",
    "df_copy.iloc[:, 26] = df_copy.iloc[:, 26].replace('⑤全面的に協力できない', 5)\n",
    "\n",
    "df_copy = df_copy.fillna(0)"
   ]
  },
  {
   "cell_type": "code",
   "execution_count": 17,
   "id": "0e19288f-4e06-48b8-a893-c857f336f6f7",
   "metadata": {},
   "outputs": [],
   "source": [
    "# df_copy.iloc[:,20] #受益者_追い抜きを控える\n",
    "# df_copy.iloc[:,21] #非受益者_追い抜きを控える\n",
    "\n",
    "# 1または2のデータを抽出\n",
    "df_selected = df_copy[df_copy.iloc[:, 20].isin([1, 2])]\n",
    "\n",
    "# それ以外のデータを抽出\n",
    "df_other = df_copy[~df_copy.iloc[:, 20].isin([1, 2])]\n"
   ]
  },
  {
   "cell_type": "code",
   "execution_count": 18,
   "id": "6c40a5ef-51fc-4a66-8872-93f8b8b54ac2",
   "metadata": {},
   "outputs": [
    {
     "data": {
      "text/plain": [
       "array([2, 1], dtype=int64)"
      ]
     },
     "execution_count": 18,
     "metadata": {},
     "output_type": "execute_result"
    }
   ],
   "source": [
    "df_selected.iloc[:, 20].unique()"
   ]
  },
  {
   "cell_type": "code",
   "execution_count": 19,
   "id": "9209ff38-8c7e-4809-afa8-ef01ac1c75d5",
   "metadata": {},
   "outputs": [
    {
     "data": {
      "text/plain": [
       "array([4, 3, 5], dtype=int64)"
      ]
     },
     "execution_count": 19,
     "metadata": {},
     "output_type": "execute_result"
    }
   ],
   "source": [
    "df_other.iloc[:, 20].unique()"
   ]
  },
  {
   "cell_type": "code",
   "execution_count": 21,
   "id": "4c314074-33b9-4be5-8eaa-7eb0c6f91a37",
   "metadata": {},
   "outputs": [],
   "source": [
    "df_selected.iloc[:, 20] = 1\n",
    "df_other.iloc[:, 20] = 0"
   ]
  },
  {
   "cell_type": "code",
   "execution_count": 23,
   "id": "8ddc6ab9-7368-4f57-bae2-973bb2a787ba",
   "metadata": {},
   "outputs": [
    {
     "ename": "ValueError",
     "evalue": "Pandas data cast to numpy dtype of object. Check input data with np.asarray(data).",
     "output_type": "error",
     "traceback": [
      "\u001b[1;31m---------------------------------------------------------------------------\u001b[0m",
      "\u001b[1;31mValueError\u001b[0m                                Traceback (most recent call last)",
      "Cell \u001b[1;32mIn[23], line 9\u001b[0m\n\u001b[0;32m      6\u001b[0m y \u001b[38;5;241m=\u001b[39m df_other\u001b[38;5;241m.\u001b[39miloc[:,\u001b[38;5;241m20\u001b[39m]\n\u001b[0;32m      8\u001b[0m \u001b[38;5;66;03m# ロジスティック回帰モデル\u001b[39;00m\n\u001b[1;32m----> 9\u001b[0m model \u001b[38;5;241m=\u001b[39m \u001b[43msm\u001b[49m\u001b[38;5;241;43m.\u001b[39;49m\u001b[43mLogit\u001b[49m\u001b[43m(\u001b[49m\u001b[43my\u001b[49m\u001b[43m,\u001b[49m\u001b[43m \u001b[49m\u001b[43mX\u001b[49m\u001b[43m)\u001b[49m\n\u001b[0;32m     10\u001b[0m result \u001b[38;5;241m=\u001b[39m model\u001b[38;5;241m.\u001b[39mfit()\n\u001b[0;32m     12\u001b[0m \u001b[38;5;28mprint\u001b[39m(result\u001b[38;5;241m.\u001b[39msummary())  \u001b[38;5;66;03m# 回帰結果の表示\u001b[39;00m\n",
      "File \u001b[1;32m~\\miniconda3\\envs\\Study\\Lib\\site-packages\\statsmodels\\discrete\\discrete_model.py:475\u001b[0m, in \u001b[0;36mBinaryModel.__init__\u001b[1;34m(self, endog, exog, offset, check_rank, **kwargs)\u001b[0m\n\u001b[0;32m    472\u001b[0m \u001b[38;5;28;01mdef\u001b[39;00m \u001b[38;5;21m__init__\u001b[39m(\u001b[38;5;28mself\u001b[39m, endog, exog, offset\u001b[38;5;241m=\u001b[39m\u001b[38;5;28;01mNone\u001b[39;00m, check_rank\u001b[38;5;241m=\u001b[39m\u001b[38;5;28;01mTrue\u001b[39;00m, \u001b[38;5;241m*\u001b[39m\u001b[38;5;241m*\u001b[39mkwargs):\n\u001b[0;32m    473\u001b[0m     \u001b[38;5;66;03m# unconditional check, requires no extra kwargs added by subclasses\u001b[39;00m\n\u001b[0;32m    474\u001b[0m     \u001b[38;5;28mself\u001b[39m\u001b[38;5;241m.\u001b[39m_check_kwargs(kwargs)\n\u001b[1;32m--> 475\u001b[0m     \u001b[38;5;28;43msuper\u001b[39;49m\u001b[43m(\u001b[49m\u001b[43m)\u001b[49m\u001b[38;5;241;43m.\u001b[39;49m\u001b[38;5;21;43m__init__\u001b[39;49m\u001b[43m(\u001b[49m\u001b[43mendog\u001b[49m\u001b[43m,\u001b[49m\u001b[43m \u001b[49m\u001b[43mexog\u001b[49m\u001b[43m,\u001b[49m\u001b[43m \u001b[49m\u001b[43moffset\u001b[49m\u001b[38;5;241;43m=\u001b[39;49m\u001b[43moffset\u001b[49m\u001b[43m,\u001b[49m\u001b[43m \u001b[49m\u001b[43mcheck_rank\u001b[49m\u001b[38;5;241;43m=\u001b[39;49m\u001b[43mcheck_rank\u001b[49m\u001b[43m,\u001b[49m\n\u001b[0;32m    476\u001b[0m \u001b[43m                     \u001b[49m\u001b[38;5;241;43m*\u001b[39;49m\u001b[38;5;241;43m*\u001b[39;49m\u001b[43mkwargs\u001b[49m\u001b[43m)\u001b[49m\n\u001b[0;32m    477\u001b[0m     \u001b[38;5;28;01mif\u001b[39;00m \u001b[38;5;129;01mnot\u001b[39;00m \u001b[38;5;28missubclass\u001b[39m(\u001b[38;5;28mself\u001b[39m\u001b[38;5;241m.\u001b[39m\u001b[38;5;18m__class__\u001b[39m, MultinomialModel):\n\u001b[0;32m    478\u001b[0m         \u001b[38;5;28;01mif\u001b[39;00m \u001b[38;5;129;01mnot\u001b[39;00m np\u001b[38;5;241m.\u001b[39mall((\u001b[38;5;28mself\u001b[39m\u001b[38;5;241m.\u001b[39mendog \u001b[38;5;241m>\u001b[39m\u001b[38;5;241m=\u001b[39m \u001b[38;5;241m0\u001b[39m) \u001b[38;5;241m&\u001b[39m (\u001b[38;5;28mself\u001b[39m\u001b[38;5;241m.\u001b[39mendog \u001b[38;5;241m<\u001b[39m\u001b[38;5;241m=\u001b[39m \u001b[38;5;241m1\u001b[39m)):\n",
      "File \u001b[1;32m~\\miniconda3\\envs\\Study\\Lib\\site-packages\\statsmodels\\discrete\\discrete_model.py:185\u001b[0m, in \u001b[0;36mDiscreteModel.__init__\u001b[1;34m(self, endog, exog, check_rank, **kwargs)\u001b[0m\n\u001b[0;32m    183\u001b[0m \u001b[38;5;28;01mdef\u001b[39;00m \u001b[38;5;21m__init__\u001b[39m(\u001b[38;5;28mself\u001b[39m, endog, exog, check_rank\u001b[38;5;241m=\u001b[39m\u001b[38;5;28;01mTrue\u001b[39;00m, \u001b[38;5;241m*\u001b[39m\u001b[38;5;241m*\u001b[39mkwargs):\n\u001b[0;32m    184\u001b[0m     \u001b[38;5;28mself\u001b[39m\u001b[38;5;241m.\u001b[39m_check_rank \u001b[38;5;241m=\u001b[39m check_rank\n\u001b[1;32m--> 185\u001b[0m     \u001b[38;5;28;43msuper\u001b[39;49m\u001b[43m(\u001b[49m\u001b[43m)\u001b[49m\u001b[38;5;241;43m.\u001b[39;49m\u001b[38;5;21;43m__init__\u001b[39;49m\u001b[43m(\u001b[49m\u001b[43mendog\u001b[49m\u001b[43m,\u001b[49m\u001b[43m \u001b[49m\u001b[43mexog\u001b[49m\u001b[43m,\u001b[49m\u001b[43m \u001b[49m\u001b[38;5;241;43m*\u001b[39;49m\u001b[38;5;241;43m*\u001b[39;49m\u001b[43mkwargs\u001b[49m\u001b[43m)\u001b[49m\n\u001b[0;32m    186\u001b[0m     \u001b[38;5;28mself\u001b[39m\u001b[38;5;241m.\u001b[39mraise_on_perfect_prediction \u001b[38;5;241m=\u001b[39m \u001b[38;5;28;01mFalse\u001b[39;00m  \u001b[38;5;66;03m# keep for backwards compat\u001b[39;00m\n\u001b[0;32m    187\u001b[0m     \u001b[38;5;28mself\u001b[39m\u001b[38;5;241m.\u001b[39mk_extra \u001b[38;5;241m=\u001b[39m \u001b[38;5;241m0\u001b[39m\n",
      "File \u001b[1;32m~\\miniconda3\\envs\\Study\\Lib\\site-packages\\statsmodels\\base\\model.py:270\u001b[0m, in \u001b[0;36mLikelihoodModel.__init__\u001b[1;34m(self, endog, exog, **kwargs)\u001b[0m\n\u001b[0;32m    269\u001b[0m \u001b[38;5;28;01mdef\u001b[39;00m \u001b[38;5;21m__init__\u001b[39m(\u001b[38;5;28mself\u001b[39m, endog, exog\u001b[38;5;241m=\u001b[39m\u001b[38;5;28;01mNone\u001b[39;00m, \u001b[38;5;241m*\u001b[39m\u001b[38;5;241m*\u001b[39mkwargs):\n\u001b[1;32m--> 270\u001b[0m     \u001b[38;5;28;43msuper\u001b[39;49m\u001b[43m(\u001b[49m\u001b[43m)\u001b[49m\u001b[38;5;241;43m.\u001b[39;49m\u001b[38;5;21;43m__init__\u001b[39;49m\u001b[43m(\u001b[49m\u001b[43mendog\u001b[49m\u001b[43m,\u001b[49m\u001b[43m \u001b[49m\u001b[43mexog\u001b[49m\u001b[43m,\u001b[49m\u001b[43m \u001b[49m\u001b[38;5;241;43m*\u001b[39;49m\u001b[38;5;241;43m*\u001b[39;49m\u001b[43mkwargs\u001b[49m\u001b[43m)\u001b[49m\n\u001b[0;32m    271\u001b[0m     \u001b[38;5;28mself\u001b[39m\u001b[38;5;241m.\u001b[39minitialize()\n",
      "File \u001b[1;32m~\\miniconda3\\envs\\Study\\Lib\\site-packages\\statsmodels\\base\\model.py:95\u001b[0m, in \u001b[0;36mModel.__init__\u001b[1;34m(self, endog, exog, **kwargs)\u001b[0m\n\u001b[0;32m     93\u001b[0m missing \u001b[38;5;241m=\u001b[39m kwargs\u001b[38;5;241m.\u001b[39mpop(\u001b[38;5;124m'\u001b[39m\u001b[38;5;124mmissing\u001b[39m\u001b[38;5;124m'\u001b[39m, \u001b[38;5;124m'\u001b[39m\u001b[38;5;124mnone\u001b[39m\u001b[38;5;124m'\u001b[39m)\n\u001b[0;32m     94\u001b[0m hasconst \u001b[38;5;241m=\u001b[39m kwargs\u001b[38;5;241m.\u001b[39mpop(\u001b[38;5;124m'\u001b[39m\u001b[38;5;124mhasconst\u001b[39m\u001b[38;5;124m'\u001b[39m, \u001b[38;5;28;01mNone\u001b[39;00m)\n\u001b[1;32m---> 95\u001b[0m \u001b[38;5;28mself\u001b[39m\u001b[38;5;241m.\u001b[39mdata \u001b[38;5;241m=\u001b[39m \u001b[38;5;28;43mself\u001b[39;49m\u001b[38;5;241;43m.\u001b[39;49m\u001b[43m_handle_data\u001b[49m\u001b[43m(\u001b[49m\u001b[43mendog\u001b[49m\u001b[43m,\u001b[49m\u001b[43m \u001b[49m\u001b[43mexog\u001b[49m\u001b[43m,\u001b[49m\u001b[43m \u001b[49m\u001b[43mmissing\u001b[49m\u001b[43m,\u001b[49m\u001b[43m \u001b[49m\u001b[43mhasconst\u001b[49m\u001b[43m,\u001b[49m\n\u001b[0;32m     96\u001b[0m \u001b[43m                              \u001b[49m\u001b[38;5;241;43m*\u001b[39;49m\u001b[38;5;241;43m*\u001b[39;49m\u001b[43mkwargs\u001b[49m\u001b[43m)\u001b[49m\n\u001b[0;32m     97\u001b[0m \u001b[38;5;28mself\u001b[39m\u001b[38;5;241m.\u001b[39mk_constant \u001b[38;5;241m=\u001b[39m \u001b[38;5;28mself\u001b[39m\u001b[38;5;241m.\u001b[39mdata\u001b[38;5;241m.\u001b[39mk_constant\n\u001b[0;32m     98\u001b[0m \u001b[38;5;28mself\u001b[39m\u001b[38;5;241m.\u001b[39mexog \u001b[38;5;241m=\u001b[39m \u001b[38;5;28mself\u001b[39m\u001b[38;5;241m.\u001b[39mdata\u001b[38;5;241m.\u001b[39mexog\n",
      "File \u001b[1;32m~\\miniconda3\\envs\\Study\\Lib\\site-packages\\statsmodels\\base\\model.py:135\u001b[0m, in \u001b[0;36mModel._handle_data\u001b[1;34m(self, endog, exog, missing, hasconst, **kwargs)\u001b[0m\n\u001b[0;32m    134\u001b[0m \u001b[38;5;28;01mdef\u001b[39;00m \u001b[38;5;21m_handle_data\u001b[39m(\u001b[38;5;28mself\u001b[39m, endog, exog, missing, hasconst, \u001b[38;5;241m*\u001b[39m\u001b[38;5;241m*\u001b[39mkwargs):\n\u001b[1;32m--> 135\u001b[0m     data \u001b[38;5;241m=\u001b[39m \u001b[43mhandle_data\u001b[49m\u001b[43m(\u001b[49m\u001b[43mendog\u001b[49m\u001b[43m,\u001b[49m\u001b[43m \u001b[49m\u001b[43mexog\u001b[49m\u001b[43m,\u001b[49m\u001b[43m \u001b[49m\u001b[43mmissing\u001b[49m\u001b[43m,\u001b[49m\u001b[43m \u001b[49m\u001b[43mhasconst\u001b[49m\u001b[43m,\u001b[49m\u001b[43m \u001b[49m\u001b[38;5;241;43m*\u001b[39;49m\u001b[38;5;241;43m*\u001b[39;49m\u001b[43mkwargs\u001b[49m\u001b[43m)\u001b[49m\n\u001b[0;32m    136\u001b[0m     \u001b[38;5;66;03m# kwargs arrays could have changed, easier to just attach here\u001b[39;00m\n\u001b[0;32m    137\u001b[0m     \u001b[38;5;28;01mfor\u001b[39;00m key \u001b[38;5;129;01min\u001b[39;00m kwargs:\n",
      "File \u001b[1;32m~\\miniconda3\\envs\\Study\\Lib\\site-packages\\statsmodels\\base\\data.py:675\u001b[0m, in \u001b[0;36mhandle_data\u001b[1;34m(endog, exog, missing, hasconst, **kwargs)\u001b[0m\n\u001b[0;32m    672\u001b[0m     exog \u001b[38;5;241m=\u001b[39m np\u001b[38;5;241m.\u001b[39masarray(exog)\n\u001b[0;32m    674\u001b[0m klass \u001b[38;5;241m=\u001b[39m handle_data_class_factory(endog, exog)\n\u001b[1;32m--> 675\u001b[0m \u001b[38;5;28;01mreturn\u001b[39;00m \u001b[43mklass\u001b[49m\u001b[43m(\u001b[49m\u001b[43mendog\u001b[49m\u001b[43m,\u001b[49m\u001b[43m \u001b[49m\u001b[43mexog\u001b[49m\u001b[38;5;241;43m=\u001b[39;49m\u001b[43mexog\u001b[49m\u001b[43m,\u001b[49m\u001b[43m \u001b[49m\u001b[43mmissing\u001b[49m\u001b[38;5;241;43m=\u001b[39;49m\u001b[43mmissing\u001b[49m\u001b[43m,\u001b[49m\u001b[43m \u001b[49m\u001b[43mhasconst\u001b[49m\u001b[38;5;241;43m=\u001b[39;49m\u001b[43mhasconst\u001b[49m\u001b[43m,\u001b[49m\n\u001b[0;32m    676\u001b[0m \u001b[43m             \u001b[49m\u001b[38;5;241;43m*\u001b[39;49m\u001b[38;5;241;43m*\u001b[39;49m\u001b[43mkwargs\u001b[49m\u001b[43m)\u001b[49m\n",
      "File \u001b[1;32m~\\miniconda3\\envs\\Study\\Lib\\site-packages\\statsmodels\\base\\data.py:84\u001b[0m, in \u001b[0;36mModelData.__init__\u001b[1;34m(self, endog, exog, missing, hasconst, **kwargs)\u001b[0m\n\u001b[0;32m     82\u001b[0m     \u001b[38;5;28mself\u001b[39m\u001b[38;5;241m.\u001b[39morig_endog \u001b[38;5;241m=\u001b[39m endog\n\u001b[0;32m     83\u001b[0m     \u001b[38;5;28mself\u001b[39m\u001b[38;5;241m.\u001b[39morig_exog \u001b[38;5;241m=\u001b[39m exog\n\u001b[1;32m---> 84\u001b[0m     \u001b[38;5;28mself\u001b[39m\u001b[38;5;241m.\u001b[39mendog, \u001b[38;5;28mself\u001b[39m\u001b[38;5;241m.\u001b[39mexog \u001b[38;5;241m=\u001b[39m \u001b[38;5;28;43mself\u001b[39;49m\u001b[38;5;241;43m.\u001b[39;49m\u001b[43m_convert_endog_exog\u001b[49m\u001b[43m(\u001b[49m\u001b[43mendog\u001b[49m\u001b[43m,\u001b[49m\u001b[43m \u001b[49m\u001b[43mexog\u001b[49m\u001b[43m)\u001b[49m\n\u001b[0;32m     86\u001b[0m \u001b[38;5;28mself\u001b[39m\u001b[38;5;241m.\u001b[39mconst_idx \u001b[38;5;241m=\u001b[39m \u001b[38;5;28;01mNone\u001b[39;00m\n\u001b[0;32m     87\u001b[0m \u001b[38;5;28mself\u001b[39m\u001b[38;5;241m.\u001b[39mk_constant \u001b[38;5;241m=\u001b[39m \u001b[38;5;241m0\u001b[39m\n",
      "File \u001b[1;32m~\\miniconda3\\envs\\Study\\Lib\\site-packages\\statsmodels\\base\\data.py:509\u001b[0m, in \u001b[0;36mPandasData._convert_endog_exog\u001b[1;34m(self, endog, exog)\u001b[0m\n\u001b[0;32m    507\u001b[0m exog \u001b[38;5;241m=\u001b[39m exog \u001b[38;5;28;01mif\u001b[39;00m exog \u001b[38;5;129;01mis\u001b[39;00m \u001b[38;5;28;01mNone\u001b[39;00m \u001b[38;5;28;01melse\u001b[39;00m np\u001b[38;5;241m.\u001b[39masarray(exog)\n\u001b[0;32m    508\u001b[0m \u001b[38;5;28;01mif\u001b[39;00m endog\u001b[38;5;241m.\u001b[39mdtype \u001b[38;5;241m==\u001b[39m \u001b[38;5;28mobject\u001b[39m \u001b[38;5;129;01mor\u001b[39;00m exog \u001b[38;5;129;01mis\u001b[39;00m \u001b[38;5;129;01mnot\u001b[39;00m \u001b[38;5;28;01mNone\u001b[39;00m \u001b[38;5;129;01mand\u001b[39;00m exog\u001b[38;5;241m.\u001b[39mdtype \u001b[38;5;241m==\u001b[39m \u001b[38;5;28mobject\u001b[39m:\n\u001b[1;32m--> 509\u001b[0m     \u001b[38;5;28;01mraise\u001b[39;00m \u001b[38;5;167;01mValueError\u001b[39;00m(\u001b[38;5;124m\"\u001b[39m\u001b[38;5;124mPandas data cast to numpy dtype of object. \u001b[39m\u001b[38;5;124m\"\u001b[39m\n\u001b[0;32m    510\u001b[0m                      \u001b[38;5;124m\"\u001b[39m\u001b[38;5;124mCheck input data with np.asarray(data).\u001b[39m\u001b[38;5;124m\"\u001b[39m)\n\u001b[0;32m    511\u001b[0m \u001b[38;5;28;01mreturn\u001b[39;00m \u001b[38;5;28msuper\u001b[39m()\u001b[38;5;241m.\u001b[39m_convert_endog_exog(endog, exog)\n",
      "\u001b[1;31mValueError\u001b[0m: Pandas data cast to numpy dtype of object. Check input data with np.asarray(data)."
     ]
    }
   ],
   "source": [
    "# ダミー変数化\n",
    "\n",
    "# 説明変数と目的変数\n",
    "X = df_other.iloc[:, [1, 2, 4]]\n",
    "X = sm.add_constant(X)  # 切片を追加\n",
    "y = df_other.iloc[:,20]\n",
    "\n",
    "# ロジスティック回帰モデル\n",
    "model = sm.Logit(y, X)\n",
    "result = model.fit()\n",
    "\n",
    "print(result.summary())  # 回帰結果の表示\n"
   ]
  },
  {
   "cell_type": "code",
   "execution_count": null,
   "id": "8b07c8aa-c601-43e3-a6d2-80884c3d5483",
   "metadata": {},
   "outputs": [],
   "source": [
    "# 協力なのを重回帰をかける"
   ]
  }
 ],
 "metadata": {
  "kernelspec": {
   "display_name": "Python 3 (ipykernel)",
   "language": "python",
   "name": "python3"
  },
  "language_info": {
   "codemirror_mode": {
    "name": "ipython",
    "version": 3
   },
   "file_extension": ".py",
   "mimetype": "text/x-python",
   "name": "python",
   "nbconvert_exporter": "python",
   "pygments_lexer": "ipython3",
   "version": "3.12.7"
  }
 },
 "nbformat": 4,
 "nbformat_minor": 5
}
