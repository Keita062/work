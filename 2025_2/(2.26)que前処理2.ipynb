{
 "cells": [
  {
   "cell_type": "code",
   "execution_count": 52,
   "id": "f292244e-59a6-4425-8d55-7ad2e58a4a55",
   "metadata": {},
   "outputs": [],
   "source": [
    "import numpy as np\n",
    "import pandas as pd\n",
    "import matplotlib.pyplot as plt"
   ]
  },
  {
   "cell_type": "code",
   "execution_count": 86,
   "id": "7434c4d4-7637-4f0d-b5bb-3706140f2eb8",
   "metadata": {},
   "outputs": [],
   "source": [
    "df = pd.read_csv(r\"C:\\Users\\sk062\\OneDrive\\デスクトップ\\西新宿 自動運転アンケート2025.2.21~24.csv　108名バージョン\\西新宿 自動運転アンケート2025.2.21~24.csv\")\n",
    "df_copy = df.copy()"
   ]
  },
  {
   "cell_type": "code",
   "execution_count": 87,
   "id": "8d749044-7d8a-4984-bbbf-4898b24e62bc",
   "metadata": {},
   "outputs": [],
   "source": [
    "# df_copy.columns"
   ]
  },
  {
   "cell_type": "code",
   "execution_count": 88,
   "id": "f8dc99d3-9abf-48e4-9ffc-a4b47b7cbf8c",
   "metadata": {},
   "outputs": [],
   "source": [
    "df_copy.columns = [\n",
    "    \"timestamp\", \"Q1-1_attribute_Sex\", \"Q1-1_attribute_Age\", \"Q1-2_position\", \"Q1-3_region\",\n",
    "    \"Q1-4_past_autonomous_bus\", \"Q2-1_reuse_intent\", \"Q2-2_reason_reuse\", \"Q2-2_reason_no_reuse\",\n",
    "    \"Q2-3_usage_frequency\", \"Q3-1_fare_willingness\", \"Q4-1_safety_concern\", \"Q4-2_safety_situation\",\n",
    "    \"Q5-1_participation_reason\", \"Q5-2_info_source\", \"Q5-3_riding_comfort\", \"Q5-3_comfort_reason\",\n",
    "    \"Q5-4_expectation_future\", \"Q5-4_expectation_reason\",\n",
    "    \"Q6-1-a_beneficiary_parking\", \"Q6-1-b_non_beneficiary_parking\",\n",
    "    \"Q6-2-a_beneficiary_pedestrian\", \"Q6-2-b_non_beneficiary_pedestrian\",\n",
    "    \"Q6-3-a_beneficiary_speed_adjust\", \"Q6-3-b_non_beneficiary_speed_adjust\",\n",
    "    \"Q6-4-a_beneficiary_financial_burden\", \"Q6-4-b_non_beneficiary_financial_burden\",\n",
    "    \"Q7-1_self_service_acceptance\"\n",
    "]\n",
    "\n",
    "# df_copy.head()"
   ]
  },
  {
   "cell_type": "code",
   "execution_count": 89,
   "id": "c2754083-b6a1-4531-bff2-423f8c74a57c",
   "metadata": {
    "scrolled": true
   },
   "outputs": [],
   "source": [
    "# for column in df_copy.columns:\n",
    "#    print(f\"列 '{column}' のユニークな値:\")\n",
    "#    print(df_copy[column].unique())\n",
    "#    print()"
   ]
  },
  {
   "cell_type": "code",
   "execution_count": 90,
   "id": "3c17f73d-8127-4b0e-9fd8-e0ce4bf13c44",
   "metadata": {},
   "outputs": [],
   "source": [
    "#print(df_copy.iloc[:, 1].unique())\n",
    "#print(df_copy.iloc[:, 2].unique())\n",
    "#print(df_copy.iloc[:, 3].unique())\n",
    "#print(df_copy.iloc[:, 4].unique())\n",
    "#print(df_copy.iloc[:, 5].unique())\n",
    "#print(df_copy.iloc[:, 6].unique())\n",
    "#print(df_copy.iloc[:, 7].unique())\n",
    "#print(df_copy.iloc[:, 8].unique())\n",
    "#print(df_copy.iloc[:, 9].unique())\n",
    "#print(df_copy.iloc[:, 10].unique())\n",
    "#print(df_copy.iloc[:, 11].unique())"
   ]
  },
  {
   "cell_type": "code",
   "execution_count": 91,
   "id": "4cd26238-8588-43fa-815a-6c47003bef02",
   "metadata": {},
   "outputs": [
    {
     "name": "stderr",
     "output_type": "stream",
     "text": [
      "C:\\Users\\sk062\\AppData\\Local\\Temp\\ipykernel_7332\\1514456383.py:4: FutureWarning: Downcasting behavior in `replace` is deprecated and will be removed in a future version. To retain the old behavior, explicitly call `result.infer_objects(copy=False)`. To opt-in to the future behavior, set `pd.set_option('future.no_silent_downcasting', True)`\n",
      "  df_copy.iloc[:, 6] = df_copy.iloc[:, 6].replace('④希望しない', 4)\n"
     ]
    },
    {
     "data": {
      "text/plain": [
       "array([4.0, 1.0, 2.0, 3.0, nan], dtype=object)"
      ]
     },
     "execution_count": 91,
     "metadata": {},
     "output_type": "execute_result"
    }
   ],
   "source": [
    "df_copy.iloc[:, 6] = df_copy.iloc[:, 6].replace('①希望する', 1)\n",
    "df_copy.iloc[:, 6] = df_copy.iloc[:, 6].replace('②どちらかというと希望する', 2)\n",
    "df_copy.iloc[:, 6] = df_copy.iloc[:, 6].replace('③どちらかというと希望しない', 3)\n",
    "df_copy.iloc[:, 6] = df_copy.iloc[:, 6].replace('④希望しない', 4)\n",
    "df_copy.iloc[:, 6] = df_copy.iloc[:, 6].replace(\"nan\", 0)\n",
    "df_copy.iloc[:, 6].unique()"
   ]
  },
  {
   "cell_type": "code",
   "execution_count": 92,
   "id": "1b8d9faa-e2a5-4241-92cd-c05ec96ab23c",
   "metadata": {},
   "outputs": [
    {
     "data": {
      "text/plain": [
       "array([nan, '①週５回以上', '⑤年に数回以下', '④月に１～３回', '③週１～２回', '②週３～４回'],\n",
       "      dtype=object)"
      ]
     },
     "execution_count": 92,
     "metadata": {},
     "output_type": "execute_result"
    }
   ],
   "source": [
    "df_copy.iloc[:, 9].unique()"
   ]
  },
  {
   "cell_type": "code",
   "execution_count": 93,
   "id": "c551bd74-3c72-4ede-8a6c-699f6c035a9f",
   "metadata": {},
   "outputs": [
    {
     "data": {
      "text/plain": [
       "array([nan, 1, 5, '④月に１～３回', 3, 2], dtype=object)"
      ]
     },
     "execution_count": 93,
     "metadata": {},
     "output_type": "execute_result"
    }
   ],
   "source": [
    "df_copy.iloc[:, 9] = df_copy.iloc[:, 9].replace('①週５回以上', 1)\n",
    "df_copy.iloc[:, 9] = df_copy.iloc[:, 9].replace('②週３～４回', 2)\n",
    "df_copy.iloc[:, 9] = df_copy.iloc[:, 9].replace('③週１～２回', 3)\n",
    "df_copy.iloc[:, 9] = df_copy.iloc[:, 9].replace('④希望しない', 4)\n",
    "df_copy.iloc[:, 9] = df_copy.iloc[:, 9].replace('⑤年に数回以下', 5)\n",
    "df_copy.iloc[:, 9] = df_copy.iloc[:, 9].replace(\"nan\", 0)\n",
    "df_copy.iloc[:, 9].unique()"
   ]
  },
  {
   "cell_type": "code",
   "execution_count": 94,
   "id": "87883933-bc53-4530-b649-d40223fb54db",
   "metadata": {},
   "outputs": [],
   "source": [
    "## ここから選択肢がある場合は数字の選択式にする"
   ]
  },
  {
   "cell_type": "code",
   "execution_count": 95,
   "id": "8e5654fc-9121-41d5-aeae-751227251dc9",
   "metadata": {},
   "outputs": [
    {
     "data": {
      "text/plain": [
       "array(['②１５０円', '①１００円以下', '③２００円', nan, '④２５０円', '⑤３００円'], dtype=object)"
      ]
     },
     "execution_count": 95,
     "metadata": {},
     "output_type": "execute_result"
    }
   ],
   "source": [
    "df_copy.iloc[:, 10].unique()"
   ]
  },
  {
   "cell_type": "code",
   "execution_count": 96,
   "id": "2fa72852-414e-4d0d-a580-4429c8940377",
   "metadata": {
    "scrolled": true
   },
   "outputs": [
    {
     "name": "stderr",
     "output_type": "stream",
     "text": [
      "C:\\Users\\sk062\\AppData\\Local\\Temp\\ipykernel_7332\\1016292228.py:5: FutureWarning: Downcasting behavior in `replace` is deprecated and will be removed in a future version. To retain the old behavior, explicitly call `result.infer_objects(copy=False)`. To opt-in to the future behavior, set `pd.set_option('future.no_silent_downcasting', True)`\n",
      "  df_copy.iloc[:, 10] = df_copy.iloc[:, 10].replace('⑤３００円', 5)\n"
     ]
    },
    {
     "data": {
      "text/plain": [
       "array([2.0, 1.0, 3.0, nan, 4.0, 5.0], dtype=object)"
      ]
     },
     "execution_count": 96,
     "metadata": {},
     "output_type": "execute_result"
    }
   ],
   "source": [
    "df_copy.iloc[:, 10] = df_copy.iloc[:, 10].replace('①１００円以下', 1)\n",
    "df_copy.iloc[:, 10] = df_copy.iloc[:, 10].replace('②１５０円', 2)\n",
    "df_copy.iloc[:, 10] = df_copy.iloc[:, 10].replace('③２００円', 3)\n",
    "df_copy.iloc[:, 10] = df_copy.iloc[:, 10].replace('④２５０円', 4)\n",
    "df_copy.iloc[:, 10] = df_copy.iloc[:, 10].replace('⑤３００円', 5)\n",
    "df_copy.iloc[:, 10] = df_copy.iloc[:, 10].replace(\"nan\", 0)\n",
    "df_copy.iloc[:, 10].unique()"
   ]
  },
  {
   "cell_type": "code",
   "execution_count": 97,
   "id": "d08dcccc-3579-414d-8f07-48765cec6ed9",
   "metadata": {},
   "outputs": [
    {
     "data": {
      "text/plain": [
       "array(['②危険を感じなかった', '①危険を感じた', nan], dtype=object)"
      ]
     },
     "execution_count": 97,
     "metadata": {},
     "output_type": "execute_result"
    }
   ],
   "source": [
    "df_copy.iloc[:, 11].unique()"
   ]
  },
  {
   "cell_type": "code",
   "execution_count": 98,
   "id": "9b7ab484-969f-461e-88d9-b469de935e54",
   "metadata": {},
   "outputs": [
    {
     "name": "stderr",
     "output_type": "stream",
     "text": [
      "C:\\Users\\sk062\\AppData\\Local\\Temp\\ipykernel_7332\\3817273922.py:2: FutureWarning: Downcasting behavior in `replace` is deprecated and will be removed in a future version. To retain the old behavior, explicitly call `result.infer_objects(copy=False)`. To opt-in to the future behavior, set `pd.set_option('future.no_silent_downcasting', True)`\n",
      "  df_copy.iloc[:, 11] = df_copy.iloc[:, 11].replace('②危険を感じなかった', 2)\n"
     ]
    },
    {
     "data": {
      "text/plain": [
       "array([2.0, 1.0, nan], dtype=object)"
      ]
     },
     "execution_count": 98,
     "metadata": {},
     "output_type": "execute_result"
    }
   ],
   "source": [
    "df_copy.iloc[:, 11] = df_copy.iloc[:, 11].replace('①危険を感じた', 1)\n",
    "df_copy.iloc[:, 11] = df_copy.iloc[:, 11].replace('②危険を感じなかった', 2)\n",
    "df_copy.iloc[:, 11] = df_copy.iloc[:, 11].replace(\"nan\", 0)\n",
    "df_copy.iloc[:, 11].unique()"
   ]
  },
  {
   "cell_type": "code",
   "execution_count": 99,
   "id": "91076c9e-4804-48ad-a23e-c2dc53fa03cd",
   "metadata": {
    "scrolled": true
   },
   "outputs": [
    {
     "data": {
      "text/plain": [
       "['③試しに乗ってみた（視察含む）',\n",
       " '⑪行政機関利用',\n",
       " '⑤自動運動システムに興味があった',\n",
       " '⑧業務',\n",
       " '①興味本位',\n",
       " '⑨趣味・コミュニティ活動',\n",
       " nan,\n",
       " '②家族・友人に誘われたから']"
      ]
     },
     "execution_count": 99,
     "metadata": {},
     "output_type": "execute_result"
    }
   ],
   "source": [
    "list(df_copy.iloc[:, 13].unique())"
   ]
  },
  {
   "cell_type": "code",
   "execution_count": 103,
   "id": "55b4c8e4-afd9-426f-bf6a-99963ba3d42f",
   "metadata": {},
   "outputs": [
    {
     "name": "stderr",
     "output_type": "stream",
     "text": [
      "C:\\Users\\sk062\\AppData\\Local\\Temp\\ipykernel_7332\\2695788101.py:3: FutureWarning: Downcasting behavior in `replace` is deprecated and will be removed in a future version. To retain the old behavior, explicitly call `result.infer_objects(copy=False)`. To opt-in to the future behavior, set `pd.set_option('future.no_silent_downcasting', True)`\n",
      "  df_copy.iloc[:, 13] = df_copy.iloc[:, 13].replace('③試しに乗ってみた（視察含む）', 3)\n"
     ]
    },
    {
     "data": {
      "text/plain": [
       "array([3.0, 11.0, 5.0, 8.0, 1.0, 9.0, nan, 2.0], dtype=object)"
      ]
     },
     "execution_count": 103,
     "metadata": {},
     "output_type": "execute_result"
    }
   ],
   "source": [
    "df_copy.iloc[:, 13] = df_copy.iloc[:, 13].replace('①興味本位', 1)\n",
    "df_copy.iloc[:, 13] = df_copy.iloc[:, 13].replace('②家族・友人に誘われたから', 2)\n",
    "df_copy.iloc[:, 13] = df_copy.iloc[:, 13].replace('③試しに乗ってみた（視察含む）', 3)\n",
    "df_copy.iloc[:, 13] = df_copy.iloc[:, 13].replace('⑤自動運動システムに興味があった', 5)\n",
    "df_copy.iloc[:, 13] = df_copy.iloc[:, 13].replace('⑥通勤（都庁）', 6)\n",
    "df_copy.iloc[:, 13] = df_copy.iloc[:, 13].replace('⑦通勤（都庁以外）', 7)\n",
    "df_copy.iloc[:, 13] = df_copy.iloc[:, 13].replace('⑧業務', 8)\n",
    "df_copy.iloc[:, 13] = df_copy.iloc[:, 13].replace('⑨趣味・コミュニティ活動', 9)\n",
    "df_copy.iloc[:, 13] = df_copy.iloc[:, 13].replace('⑩通院/健康関係', 10)\n",
    "df_copy.iloc[:, 13] = df_copy.iloc[:, 13].replace('⑪行政機関利用', 11)\n",
    "df_copy.iloc[:, 13] = df_copy.iloc[:, 13].replace('⑫金融/郵便関係利用', 12)\n",
    "df_copy.iloc[:, 13] = df_copy.iloc[:, 13].replace('⑬外食', 13)\n",
    "df_copy.iloc[:, 13] = df_copy.iloc[:, 13].replace('⑭日用品の購入', 14)\n",
    "df_copy.iloc[:, 13] = df_copy.iloc[:, 13].replace('⑮（日用品を除く）物品の購入/サービス契約', 15)\n",
    "df_copy.iloc[:, 13] = df_copy.iloc[:, 13].replace('⑯仕事以外の方（知人/友人/家族等）の面会', 16)\n",
    "df_copy.iloc[:, 13] = df_copy.iloc[:, 13].replace(\"nan\", 0)\n",
    "df_copy.iloc[:, 13].unique()"
   ]
  },
  {
   "cell_type": "code",
   "execution_count": 105,
   "id": "f7b430a4-5e73-4ede-9c30-7bcce0119024",
   "metadata": {},
   "outputs": [
    {
     "data": {
      "text/plain": [
       "array(['②やや協力できる', '③普通', '①全面的に協力できる', '⑤全面的に協力できない', '④やや協力できない'],\n",
       "      dtype=object)"
      ]
     },
     "execution_count": 105,
     "metadata": {},
     "output_type": "execute_result"
    }
   ],
   "source": [
    "df_copy.iloc[:, 19].unique()"
   ]
  },
  {
   "cell_type": "code",
   "execution_count": 122,
   "id": "ddd7df07-5f4c-4b48-b9b8-67493a11c51c",
   "metadata": {},
   "outputs": [
    {
     "name": "stdout",
     "output_type": "stream",
     "text": [
      "[4.0 1.0 2.0 3.0 nan]\n",
      "[2 4 1 3 5]\n",
      "[4 3 1 2 5]\n",
      "[4 5 1 3 2]\n",
      "[4 3 1 2 5]\n",
      "[4 5 1 3 2]\n",
      "[3 5 2 4 1]\n",
      "[3 5 4 2 1]\n"
     ]
    },
    {
     "name": "stderr",
     "output_type": "stream",
     "text": [
      "C:\\Users\\sk062\\AppData\\Local\\Temp\\ipykernel_7332\\3722213738.py:47: FutureWarning: Downcasting behavior in `replace` is deprecated and will be removed in a future version. To retain the old behavior, explicitly call `result.infer_objects(copy=False)`. To opt-in to the future behavior, set `pd.set_option('future.no_silent_downcasting', True)`\n",
      "  df_copy.iloc[:, 26] = df_copy.iloc[:, 26].replace('⑤全面的に協力できない', 5)\n"
     ]
    }
   ],
   "source": [
    "df_copy.iloc[:, 19] = df_copy.iloc[:, 19].replace('①全面的に協力できる', 1)\n",
    "df_copy.iloc[:, 19] = df_copy.iloc[:, 19].replace('②やや協力できる', 2)\n",
    "df_copy.iloc[:, 19] = df_copy.iloc[:, 19].replace('③普通', 3)\n",
    "df_copy.iloc[:, 19] = df_copy.iloc[:, 19].replace('④やや協力できない', 4)\n",
    "df_copy.iloc[:, 19] = df_copy.iloc[:, 19].replace('⑤全面的に協力できない', 5)\n",
    "df_copy.iloc[:, 19] = df_copy.iloc[:, 19].replace(\"nan\", 0)\n",
    "df_copy.iloc[:, 20] = df_copy.iloc[:, 20].replace('①全面的に協力できる', 1)\n",
    "df_copy.iloc[:, 20] = df_copy.iloc[:, 20].replace('②やや協力できる', 2)\n",
    "df_copy.iloc[:, 20] = df_copy.iloc[:, 20].replace('③普通', 3)\n",
    "df_copy.iloc[:, 20] = df_copy.iloc[:, 20].replace('④やや協力できない', 4)\n",
    "df_copy.iloc[:, 20] = df_copy.iloc[:, 20].replace('⑤全面的に協力できない', 5)\n",
    "df_copy.iloc[:, 20] = df_copy.iloc[:, 20].replace(\"nan\", 0)\n",
    "df_copy.iloc[:, 21] = df_copy.iloc[:, 21].replace('①全面的に協力できる', 1)\n",
    "df_copy.iloc[:, 21] = df_copy.iloc[:, 21].replace('②やや協力できる', 2)\n",
    "df_copy.iloc[:, 21] = df_copy.iloc[:, 21].replace('③普通', 3)\n",
    "df_copy.iloc[:, 21] = df_copy.iloc[:, 21].replace('④やや協力できない', 4)\n",
    "df_copy.iloc[:, 21] = df_copy.iloc[:, 21].replace('⑤全面的に協力できない', 5)\n",
    "df_copy.iloc[:, 21] = df_copy.iloc[:, 21].replace(\"nan\", 0)\n",
    "df_copy.iloc[:, 22] = df_copy.iloc[:, 22].replace('①全面的に協力できる', 1)\n",
    "df_copy.iloc[:, 22] = df_copy.iloc[:, 22].replace('②やや協力できる', 2)\n",
    "df_copy.iloc[:, 22] = df_copy.iloc[:, 22].replace('③普通', 3)\n",
    "df_copy.iloc[:, 22] = df_copy.iloc[:, 22].replace('④やや協力できない', 4)\n",
    "df_copy.iloc[:, 22] = df_copy.iloc[:, 22].replace('⑤全面的に協力できない', 5)\n",
    "df_copy.iloc[:, 22] = df_copy.iloc[:, 22].replace(\"nan\", 0)\n",
    "df_copy.iloc[:, 23] = df_copy.iloc[:, 23].replace('①全面的に協力できる', 1)\n",
    "df_copy.iloc[:, 23] = df_copy.iloc[:, 23].replace('②やや協力できる', 2)\n",
    "df_copy.iloc[:, 23] = df_copy.iloc[:, 23].replace('③普通', 3)\n",
    "df_copy.iloc[:, 23] = df_copy.iloc[:, 23].replace('④やや協力できない', 4)\n",
    "df_copy.iloc[:, 23] = df_copy.iloc[:, 23].replace('⑤全面的に協力できない', 5)\n",
    "df_copy.iloc[:, 23] = df_copy.iloc[:, 23].replace(\"nan\", 0)\n",
    "df_copy.iloc[:, 24] = df_copy.iloc[:, 24].replace('①全面的に協力できる', 1)\n",
    "df_copy.iloc[:, 24] = df_copy.iloc[:, 24].replace('②やや協力できる', 2)\n",
    "df_copy.iloc[:, 24] = df_copy.iloc[:, 24].replace('③普通', 3)\n",
    "df_copy.iloc[:, 24] = df_copy.iloc[:, 24].replace('④やや協力できない', 4)\n",
    "df_copy.iloc[:, 24] = df_copy.iloc[:, 24].replace('⑤全面的に協力できない', 5)\n",
    "df_copy.iloc[:, 24] = df_copy.iloc[:, 24].replace(\"nan\", 0)\n",
    "df_copy.iloc[:, 25] = df_copy.iloc[:, 25].replace('①全面的に協力できる', 1)\n",
    "df_copy.iloc[:, 25] = df_copy.iloc[:, 25].replace('②やや協力できる', 2)\n",
    "df_copy.iloc[:, 25] = df_copy.iloc[:, 25].replace('③普通', 3)\n",
    "df_copy.iloc[:, 25] = df_copy.iloc[:, 25].replace('④やや協力できない', 4)\n",
    "df_copy.iloc[:, 25] = df_copy.iloc[:, 25].replace('⑤全面的に協力できない', 5)\n",
    "df_copy.iloc[:, 25] = df_copy.iloc[:, 25].replace(\"nan\", 0)\n",
    "df_copy.iloc[:, 26] = df_copy.iloc[:, 26].replace('①全面的に協力できる', 1)\n",
    "df_copy.iloc[:, 26] = df_copy.iloc[:, 26].replace('②やや協力できる', 2)\n",
    "df_copy.iloc[:, 26] = df_copy.iloc[:, 26].replace('③普通', 3)\n",
    "df_copy.iloc[:, 26] = df_copy.iloc[:, 26].replace('④やや協力できない', 4)\n",
    "df_copy.iloc[:, 26] = df_copy.iloc[:, 26].replace('⑤全面的に協力できない', 5)\n",
    "df_copy.iloc[:, 26] = df_copy.iloc[:, 26].replace(\"nan\", 0)\n",
    "print(df_copy.iloc[:, 19].unique())\n",
    "print(df_copy.iloc[:, 20].unique())\n",
    "print(df_copy.iloc[:, 21].unique())\n",
    "print(df_copy.iloc[:, 22].unique())\n",
    "print(df_copy.iloc[:, 23].unique())\n",
    "print(df_copy.iloc[:, 24].unique())\n",
    "print(df_copy.iloc[:, 25].unique())\n",
    "print(df_copy.iloc[:, 26].unique())"
   ]
  },
  {
   "cell_type": "code",
   "execution_count": 123,
   "id": "3a8b710f-3cf3-4a66-b8eb-381731b4aaa4",
   "metadata": {
    "scrolled": true
   },
   "outputs": [
    {
     "data": {
      "text/plain": [
       "array(['②緊急時の通報;③車内の温度調節や窓の開閉;④行先や経路の確認（質問できない）;⑤扉の開閉;⑥チャージ含めた完全キャッシュレス',\n",
       "       '②緊急時の通報;③車内の温度調節や窓の開閉;⑤扉の開閉;⑥チャージ含めた完全キャッシュレス',\n",
       "       '②緊急時の通報;③車内の温度調節や窓の開閉;⑥チャージ含めた完全キャッシュレス', '④行先や経路の確認（質問できない）',\n",
       "       '③車内の温度調節や窓の開閉;④行先や経路の確認（質問できない）;⑥チャージ含めた完全キャッシュレス',\n",
       "       '④行先や経路の確認（質問できない）;⑤扉の開閉;⑥チャージ含めた完全キャッシュレス',\n",
       "       '①乗車にサポートが必要な方へ他の乗客によるサポート;②緊急時の通報;⑤扉の開閉',\n",
       "       '②緊急時の通報;⑥チャージ含めた完全キャッシュレス',\n",
       "       '①乗車にサポートが必要な方へ他の乗客によるサポート;②緊急時の通報;③車内の温度調節や窓の開閉;④行先や経路の確認（質問できない）;⑤扉の開閉;⑥チャージ含めた完全キャッシュレス',\n",
       "       '①乗車にサポートが必要な方へ他の乗客によるサポート;②緊急時の通報;④行先や経路の確認（質問できない）;⑤扉の開閉;⑥チャージ含めた完全キャッシュレス',\n",
       "       '②緊急時の通報;④行先や経路の確認（質問できない）;⑤扉の開閉;⑥チャージ含めた完全キャッシュレス',\n",
       "       '②緊急時の通報;④行先や経路の確認（質問できない）;⑥チャージ含めた完全キャッシュレス',\n",
       "       '②緊急時の通報;③車内の温度調節や窓の開閉;④行先や経路の確認（質問できない）;⑥チャージ含めた完全キャッシュレス',\n",
       "       '④行先や経路の確認（質問できない）;⑥チャージ含めた完全キャッシュレス', '②緊急時の通報',\n",
       "       '①乗車にサポートが必要な方へ他の乗客によるサポート;②緊急時の通報;⑤扉の開閉;⑥チャージ含めた完全キャッシュレス',\n",
       "       '①乗車にサポートが必要な方へ他の乗客によるサポート;②緊急時の通報;④行先や経路の確認（質問できない）;⑥チャージ含めた完全キャッシュレス',\n",
       "       '①乗車にサポートが必要な方へ他の乗客によるサポート;②緊急時の通報;⑥チャージ含めた完全キャッシュレス',\n",
       "       '②緊急時の通報;⑤扉の開閉;⑥チャージ含めた完全キャッシュレス',\n",
       "       '①乗車にサポートが必要な方へ他の乗客によるサポート;②緊急時の通報;③車内の温度調節や窓の開閉;⑤扉の開閉;⑥チャージ含めた完全キャッシュレス',\n",
       "       '①乗車にサポートが必要な方へ他の乗客によるサポート;②緊急時の通報',\n",
       "       '①乗車にサポートが必要な方へ他の乗客によるサポート;②緊急時の通報;③車内の温度調節や窓の開閉;⑥チャージ含めた完全キャッシュレス',\n",
       "       '①乗車にサポートが必要な方へ他の乗客によるサポート;②緊急時の通報;③車内の温度調節や窓の開閉',\n",
       "       '⑥チャージ含めた完全キャッシュレス', '②緊急時の通報;③車内の温度調節や窓の開閉',\n",
       "       '①乗車にサポートが必要な方へ他の乗客によるサポート;②緊急時の通報;③車内の温度調節や窓の開閉;④行先や経路の確認（質問できない）;⑥チャージ含めた完全キャッシュレス',\n",
       "       '②緊急時の通報;⑤扉の開閉', '③車内の温度調節や窓の開閉;⑤扉の開閉;⑥チャージ含めた完全キャッシュレス',\n",
       "       '①乗車にサポートが必要な方へ他の乗客によるサポート;②緊急時の通報;③車内の温度調節や窓の開閉;④行先や経路の確認（質問できない）;⑤扉の開閉',\n",
       "       '①乗車にサポートが必要な方へ他の乗客によるサポート;⑥チャージ含めた完全キャッシュレス', '⑤扉の開閉',\n",
       "       '①乗車にサポートが必要な方へ他の乗客によるサポート', '⑦いずれも許容できない', '③車内の温度調節や窓の開閉;⑤扉の開閉',\n",
       "       '①乗車にサポートが必要な方へ他の乗客によるサポート;②緊急時の通報;③車内の温度調節や窓の開閉;⑤扉の開閉',\n",
       "       '④行先や経路の確認（質問できない）;⑤扉の開閉',\n",
       "       '①乗車にサポートが必要な方へ他の乗客によるサポート;③車内の温度調節や窓の開閉;⑥チャージ含めた完全キャッシュレス'],\n",
       "      dtype=object)"
      ]
     },
     "execution_count": 123,
     "metadata": {},
     "output_type": "execute_result"
    }
   ],
   "source": [
    "df_copy.iloc[:, 27].unique()"
   ]
  },
  {
   "cell_type": "code",
   "execution_count": 135,
   "id": "c105a4ea-5a48-4b08-b35d-0827204eae7b",
   "metadata": {},
   "outputs": [],
   "source": [
    "pd.set_option('display.max_columns', 40)"
   ]
  },
  {
   "cell_type": "code",
   "execution_count": 136,
   "id": "3c9686f4-cf2b-466e-8c86-7cf10ed5fdb3",
   "metadata": {},
   "outputs": [
    {
     "data": {
      "text/html": [
       "<div>\n",
       "<style scoped>\n",
       "    .dataframe tbody tr th:only-of-type {\n",
       "        vertical-align: middle;\n",
       "    }\n",
       "\n",
       "    .dataframe tbody tr th {\n",
       "        vertical-align: top;\n",
       "    }\n",
       "\n",
       "    .dataframe thead th {\n",
       "        text-align: right;\n",
       "    }\n",
       "</style>\n",
       "<table border=\"1\" class=\"dataframe\">\n",
       "  <thead>\n",
       "    <tr style=\"text-align: right;\">\n",
       "      <th></th>\n",
       "      <th>timestamp</th>\n",
       "      <th>Q1-1_attribute_Sex</th>\n",
       "      <th>Q1-1_attribute_Age</th>\n",
       "      <th>Q1-2_position</th>\n",
       "      <th>Q1-3_region</th>\n",
       "      <th>Q1-4_past_autonomous_bus</th>\n",
       "      <th>Q2-1_reuse_intent</th>\n",
       "      <th>Q2-2_reason_reuse</th>\n",
       "      <th>Q2-2_reason_no_reuse</th>\n",
       "      <th>Q2-3_usage_frequency</th>\n",
       "      <th>Q3-1_fare_willingness</th>\n",
       "      <th>Q4-1_safety_concern</th>\n",
       "      <th>Q4-2_safety_situation</th>\n",
       "      <th>Q5-1_participation_reason</th>\n",
       "      <th>Q5-2_info_source</th>\n",
       "      <th>Q5-3_riding_comfort</th>\n",
       "      <th>Q5-3_comfort_reason</th>\n",
       "      <th>Q5-4_expectation_future</th>\n",
       "      <th>Q5-4_expectation_reason</th>\n",
       "      <th>Q6-1-a_beneficiary_parking</th>\n",
       "      <th>Q6-1-b_non_beneficiary_parking</th>\n",
       "      <th>Q6-2-a_beneficiary_pedestrian</th>\n",
       "      <th>Q6-2-b_non_beneficiary_pedestrian</th>\n",
       "      <th>Q6-3-a_beneficiary_speed_adjust</th>\n",
       "      <th>Q6-3-b_non_beneficiary_speed_adjust</th>\n",
       "      <th>Q6-4-a_beneficiary_financial_burden</th>\n",
       "      <th>Q6-4-b_non_beneficiary_financial_burden</th>\n",
       "      <th>Q7-1_self_service_acceptance</th>\n",
       "    </tr>\n",
       "  </thead>\n",
       "  <tbody>\n",
       "    <tr>\n",
       "      <th>0</th>\n",
       "      <td>2025/02/21 12:49:00 午後 GMT+9</td>\n",
       "      <td>男性</td>\n",
       "      <td>40代</td>\n",
       "      <td>関係者</td>\n",
       "      <td>神奈川県</td>\n",
       "      <td>初めて参加した</td>\n",
       "      <td>4.0</td>\n",
       "      <td>0</td>\n",
       "      <td>大半が手動運転だった。</td>\n",
       "      <td>0</td>\n",
       "      <td>2.0</td>\n",
       "      <td>2.0</td>\n",
       "      <td>0</td>\n",
       "      <td>3.0</td>\n",
       "      <td>⑧関係者から聞いて</td>\n",
       "      <td>④やや不満</td>\n",
       "      <td>自動と手動の切替時にカクカクしていた。</td>\n",
       "      <td>①運行便数（ダイヤ）の増加</td>\n",
       "      <td>0</td>\n",
       "      <td>4.0</td>\n",
       "      <td>2</td>\n",
       "      <td>4</td>\n",
       "      <td>4</td>\n",
       "      <td>4</td>\n",
       "      <td>4</td>\n",
       "      <td>3</td>\n",
       "      <td>3</td>\n",
       "      <td>②緊急時の通報;③車内の温度調節や窓の開閉;④行先や経路の確認（質問できない）;⑤扉の開閉;...</td>\n",
       "    </tr>\n",
       "  </tbody>\n",
       "</table>\n",
       "</div>"
      ],
      "text/plain": [
       "                      timestamp Q1-1_attribute_Sex Q1-1_attribute_Age  \\\n",
       "0  2025/02/21 12:49:00 午後 GMT+9                 男性                40代   \n",
       "\n",
       "  Q1-2_position Q1-3_region Q1-4_past_autonomous_bus  Q2-1_reuse_intent  \\\n",
       "0           関係者        神奈川県                  初めて参加した                4.0   \n",
       "\n",
       "  Q2-2_reason_reuse Q2-2_reason_no_reuse Q2-3_usage_frequency  \\\n",
       "0                 0          大半が手動運転だった。                    0   \n",
       "\n",
       "   Q3-1_fare_willingness  Q4-1_safety_concern Q4-2_safety_situation  \\\n",
       "0                    2.0                  2.0                     0   \n",
       "\n",
       "   Q5-1_participation_reason Q5-2_info_source Q5-3_riding_comfort  \\\n",
       "0                        3.0        ⑧関係者から聞いて               ④やや不満   \n",
       "\n",
       "   Q5-3_comfort_reason Q5-4_expectation_future Q5-4_expectation_reason  \\\n",
       "0  自動と手動の切替時にカクカクしていた。           ①運行便数（ダイヤ）の増加                       0   \n",
       "\n",
       "   Q6-1-a_beneficiary_parking  Q6-1-b_non_beneficiary_parking  \\\n",
       "0                         4.0                               2   \n",
       "\n",
       "   Q6-2-a_beneficiary_pedestrian  Q6-2-b_non_beneficiary_pedestrian  \\\n",
       "0                              4                                  4   \n",
       "\n",
       "   Q6-3-a_beneficiary_speed_adjust  Q6-3-b_non_beneficiary_speed_adjust  \\\n",
       "0                                4                                    4   \n",
       "\n",
       "   Q6-4-a_beneficiary_financial_burden  \\\n",
       "0                                    3   \n",
       "\n",
       "   Q6-4-b_non_beneficiary_financial_burden  \\\n",
       "0                                        3   \n",
       "\n",
       "                        Q7-1_self_service_acceptance  \n",
       "0  ②緊急時の通報;③車内の温度調節や窓の開閉;④行先や経路の確認（質問できない）;⑤扉の開閉;...  "
      ]
     },
     "execution_count": 136,
     "metadata": {},
     "output_type": "execute_result"
    }
   ],
   "source": [
    "df_copy = df_copy.fillna(0)\n",
    "df_copy.head(1)"
   ]
  },
  {
   "cell_type": "code",
   "execution_count": 127,
   "id": "95ccb9da-5c06-4f04-9dcc-1c7938c89bf8",
   "metadata": {},
   "outputs": [
    {
     "data": {
      "text/plain": [
       "timestamp                                   object\n",
       "Q1-1_attribute_Sex                          object\n",
       "Q1-1_attribute_Age                          object\n",
       "Q1-2_position                               object\n",
       "Q1-3_region                                 object\n",
       "Q1-4_past_autonomous_bus                    object\n",
       "Q2-1_reuse_intent                          float64\n",
       "Q2-2_reason_reuse                           object\n",
       "Q2-2_reason_no_reuse                        object\n",
       "Q2-3_usage_frequency                        object\n",
       "Q3-1_fare_willingness                      float64\n",
       "Q4-1_safety_concern                        float64\n",
       "Q4-2_safety_situation                       object\n",
       "Q5-1_participation_reason                  float64\n",
       "Q5-2_info_source                            object\n",
       "Q5-3_riding_comfort                         object\n",
       "Q5-3_comfort_reason                         object\n",
       "Q5-4_expectation_future                     object\n",
       "Q5-4_expectation_reason                     object\n",
       "Q6-1-a_beneficiary_parking                 float64\n",
       "Q6-1-b_non_beneficiary_parking               int64\n",
       "Q6-2-a_beneficiary_pedestrian                int64\n",
       "Q6-2-b_non_beneficiary_pedestrian            int64\n",
       "Q6-3-a_beneficiary_speed_adjust              int64\n",
       "Q6-3-b_non_beneficiary_speed_adjust          int64\n",
       "Q6-4-a_beneficiary_financial_burden          int64\n",
       "Q6-4-b_non_beneficiary_financial_burden      int64\n",
       "Q7-1_self_service_acceptance                object\n",
       "dtype: object"
      ]
     },
     "execution_count": 127,
     "metadata": {},
     "output_type": "execute_result"
    }
   ],
   "source": [
    "df_copy.dtypes"
   ]
  },
  {
   "cell_type": "code",
   "execution_count": 152,
   "id": "e7b5c6cf-e82f-4fba-a920-c42cc60870d9",
   "metadata": {},
   "outputs": [
    {
     "data": {
      "text/plain": [
       "array(['初めて参加した', '1回参加した', '複数回参加した', '今回試乗していない'], dtype=object)"
      ]
     },
     "execution_count": 152,
     "metadata": {},
     "output_type": "execute_result"
    }
   ],
   "source": [
    "df_copy.iloc[:, 5].unique()"
   ]
  },
  {
   "cell_type": "code",
   "execution_count": 157,
   "id": "621627e9-f9c3-4774-9602-8cb2267ebb6b",
   "metadata": {},
   "outputs": [
    {
     "name": "stdout",
     "output_type": "stream",
     "text": [
      "27\n",
      "81\n"
     ]
    }
   ],
   "source": [
    "# '今回試乗していない' の行のみを含むデータフレーム\n",
    "df_not_tested = df_copy[df_copy.iloc[:, 5] == '今回試乗していない']\n",
    "\n",
    "# '今回試乗していない' の行を除外したデータフレーム\n",
    "df_tested = df_copy[df_copy.iloc[:, 5] != '今回試乗していない']\n",
    "\n",
    "print(len(df_not_tested))\n",
    "print(len(df_tested))"
   ]
  },
  {
   "cell_type": "code",
   "execution_count": 148,
   "id": "f3159b42-85c4-4e45-a8a3-43c7b661cf29",
   "metadata": {},
   "outputs": [
    {
     "name": "stdout",
     "output_type": "stream",
     "text": [
      "[4. 1. 2. 3. 0.]\n"
     ]
    }
   ],
   "source": [
    "print(df_copy.iloc[:, 6].unique())"
   ]
  },
  {
   "cell_type": "code",
   "execution_count": 146,
   "id": "d3951d42-b807-48b1-8e21-d61641fcbbbb",
   "metadata": {},
   "outputs": [
    {
     "name": "stdout",
     "output_type": "stream",
     "text": [
      "0            神奈川県\n",
      "1             その他\n",
      "2      東京都（23区以外）\n",
      "3      23区（新宿区以外）\n",
      "4      23区（新宿区以外）\n",
      "          ...    \n",
      "103    23区（新宿区以外）\n",
      "104    東京都（23区以外）\n",
      "105           その他\n",
      "106          神奈川県\n",
      "107    23区（新宿区以外）\n",
      "Name: Q1-3_region, Length: 108, dtype: object\n",
      "-------------------\n",
      "0      4.0\n",
      "1      4.0\n",
      "2      1.0\n",
      "3      2.0\n",
      "4      3.0\n",
      "      ... \n",
      "103    2.0\n",
      "104    1.0\n",
      "105    2.0\n",
      "106    0.0\n",
      "107    3.0\n",
      "Name: Q2-1_reuse_intent, Length: 108, dtype: float64\n"
     ]
    }
   ],
   "source": [
    "print(df_copy.iloc[:, 4])\n",
    "print(\"-------------------\")\n",
    "print(df_copy.iloc[:, 6])"
   ]
  },
  {
   "cell_type": "code",
   "execution_count": 143,
   "id": "3ddc97ed-d1f5-4d9e-af62-f4436f6bc3f6",
   "metadata": {},
   "outputs": [
    {
     "name": "stdout",
     "output_type": "stream",
     "text": [
      "Q1-3_region  Q2-1_reuse_intent\n",
      "23区（新宿区以外）   0.0                   8\n",
      "             1.0                  13\n",
      "             2.0                  11\n",
      "             3.0                   5\n",
      "その他          0.0                   3\n",
      "             1.0                   5\n",
      "             2.0                   9\n",
      "             3.0                   2\n",
      "             4.0                   1\n",
      "新宿区          0.0                   1\n",
      "             1.0                   1\n",
      "             3.0                   2\n",
      "東京都（23区以外）   0.0                   5\n",
      "             1.0                   9\n",
      "             2.0                   8\n",
      "             3.0                   3\n",
      "神奈川県         0.0                  10\n",
      "             1.0                   3\n",
      "             2.0                   5\n",
      "             3.0                   3\n",
      "             4.0                   1\n",
      "dtype: int64\n"
     ]
    }
   ],
   "source": [
    "print(df_copy.groupby([df_copy.iloc[:, 4], df_copy.iloc[:, 6]]).size())"
   ]
  },
  {
   "cell_type": "code",
   "execution_count": 160,
   "id": "ef9f4151-ad25-4915-9b4a-c274245740a7",
   "metadata": {},
   "outputs": [],
   "source": [
    "# 絶対パスまたは相対パスを指定して保存\n",
    "df_copy.to_csv(r\"C:\\Users\\sk062\\OneDrive\\デスクトップ\\変換後データ1.csv\", index=False)  # インデックスなし\n",
    "df_not_tested.to_csv(r\"C:\\Users\\sk062\\OneDrive\\デスクトップ\\変換後データ1.csv\", index=False)  # インデックスなし"
   ]
  },
  {
   "cell_type": "code",
   "execution_count": null,
   "id": "940105e4-cfb8-4683-ac6d-13ad652cdb3a",
   "metadata": {},
   "outputs": [],
   "source": []
  }
 ],
 "metadata": {
  "kernelspec": {
   "display_name": "Python 3 (ipykernel)",
   "language": "python",
   "name": "python3"
  },
  "language_info": {
   "codemirror_mode": {
    "name": "ipython",
    "version": 3
   },
   "file_extension": ".py",
   "mimetype": "text/x-python",
   "name": "python",
   "nbconvert_exporter": "python",
   "pygments_lexer": "ipython3",
   "version": "3.12.7"
  }
 },
 "nbformat": 4,
 "nbformat_minor": 5
}
