{
 "cells": [
  {
   "cell_type": "code",
   "execution_count": 1,
   "id": "441de379-204b-4ee7-b809-800972d7b031",
   "metadata": {
    "collapsed": true,
    "jupyter": {
     "outputs_hidden": true
    }
   },
   "outputs": [
    {
     "name": "stdout",
     "output_type": "stream",
     "text": [
      "Requirement already satisfied: transformers in c:\\users\\sk062\\miniconda3\\envs\\study\\lib\\site-packages (4.48.1)\n",
      "Requirement already satisfied: torch in c:\\users\\sk062\\miniconda3\\envs\\study\\lib\\site-packages (2.5.1)\n",
      "Requirement already satisfied: filelock in c:\\users\\sk062\\miniconda3\\envs\\study\\lib\\site-packages (from transformers) (3.17.0)\n",
      "Requirement already satisfied: huggingface-hub<1.0,>=0.24.0 in c:\\users\\sk062\\miniconda3\\envs\\study\\lib\\site-packages (from transformers) (0.27.1)\n",
      "Requirement already satisfied: numpy>=1.17 in c:\\users\\sk062\\miniconda3\\envs\\study\\lib\\site-packages (from transformers) (1.26.4)\n",
      "Requirement already satisfied: packaging>=20.0 in c:\\users\\sk062\\appdata\\roaming\\python\\python312\\site-packages (from transformers) (24.1)\n",
      "Requirement already satisfied: pyyaml>=5.1 in c:\\users\\sk062\\miniconda3\\envs\\study\\lib\\site-packages (from transformers) (6.0.2)\n",
      "Requirement already satisfied: regex!=2019.12.17 in c:\\users\\sk062\\miniconda3\\envs\\study\\lib\\site-packages (from transformers) (2024.11.6)\n",
      "Requirement already satisfied: requests in c:\\users\\sk062\\miniconda3\\envs\\study\\lib\\site-packages (from transformers) (2.32.3)\n",
      "Requirement already satisfied: tokenizers<0.22,>=0.21 in c:\\users\\sk062\\miniconda3\\envs\\study\\lib\\site-packages (from transformers) (0.21.0)\n",
      "Requirement already satisfied: safetensors>=0.4.1 in c:\\users\\sk062\\miniconda3\\envs\\study\\lib\\site-packages (from transformers) (0.5.2)\n",
      "Requirement already satisfied: tqdm>=4.27 in c:\\users\\sk062\\miniconda3\\envs\\study\\lib\\site-packages (from transformers) (4.66.5)\n",
      "Requirement already satisfied: typing-extensions>=4.8.0 in c:\\users\\sk062\\miniconda3\\envs\\study\\lib\\site-packages (from torch) (4.11.0)\n",
      "Requirement already satisfied: networkx in c:\\users\\sk062\\miniconda3\\envs\\study\\lib\\site-packages (from torch) (3.3)\n",
      "Requirement already satisfied: jinja2 in c:\\users\\sk062\\miniconda3\\envs\\study\\lib\\site-packages (from torch) (3.1.4)\n",
      "Requirement already satisfied: fsspec in c:\\users\\sk062\\miniconda3\\envs\\study\\lib\\site-packages (from torch) (2024.12.0)\n",
      "Requirement already satisfied: setuptools in c:\\users\\sk062\\miniconda3\\envs\\study\\lib\\site-packages (from torch) (72.1.0)\n",
      "Requirement already satisfied: sympy==1.13.1 in c:\\users\\sk062\\miniconda3\\envs\\study\\lib\\site-packages (from torch) (1.13.1)\n",
      "Requirement already satisfied: mpmath<1.4,>=1.1.0 in c:\\users\\sk062\\miniconda3\\envs\\study\\lib\\site-packages (from sympy==1.13.1->torch) (1.3.0)\n",
      "Requirement already satisfied: colorama in c:\\users\\sk062\\appdata\\roaming\\python\\python312\\site-packages (from tqdm>=4.27->transformers) (0.4.6)\n",
      "Requirement already satisfied: MarkupSafe>=2.0 in c:\\users\\sk062\\miniconda3\\envs\\study\\lib\\site-packages (from jinja2->torch) (2.1.3)\n",
      "Requirement already satisfied: charset-normalizer<4,>=2 in c:\\users\\sk062\\miniconda3\\envs\\study\\lib\\site-packages (from requests->transformers) (3.3.2)\n",
      "Requirement already satisfied: idna<4,>=2.5 in c:\\users\\sk062\\miniconda3\\envs\\study\\lib\\site-packages (from requests->transformers) (3.7)\n",
      "Requirement already satisfied: urllib3<3,>=1.21.1 in c:\\users\\sk062\\miniconda3\\envs\\study\\lib\\site-packages (from requests->transformers) (2.2.3)\n",
      "Requirement already satisfied: certifi>=2017.4.17 in c:\\users\\sk062\\miniconda3\\envs\\study\\lib\\site-packages (from requests->transformers) (2024.8.30)\n"
     ]
    }
   ],
   "source": [
    "!pip install transformers torch"
   ]
  },
  {
   "cell_type": "code",
   "execution_count": 11,
   "id": "4303687b-d9e0-476d-a906-c8805f3c49ba",
   "metadata": {},
   "outputs": [],
   "source": [
    "import os\n",
    "import re\n",
    "import torch\n",
    "import pdfplumber\n",
    "import numpy as np\n",
    "import pandas as pd\n",
    "import tensorflow as tf\n",
    "import matplotlib.pyplot as plt\n",
    "from scipy import stats\n",
    "from scipy.stats import spearmanr\n",
    "from scipy.stats import pearsonr\n",
    "from sklearn.preprocessing import StandardScaler\n",
    "from sklearn.feature_extraction.text import TfidfVectorizer\n",
    "from sklearn.metrics.pairwise import cosine_similarity\n",
    "from transformers import pipeline\n",
    "from wordcloud import WordCloud\n",
    "from collections import Counter\n",
    "from sklearn.feature_extraction.text import ENGLISH_STOP_WORDS"
   ]
  },
  {
   "cell_type": "code",
   "execution_count": 28,
   "id": "cc8b78d8-ec14-4b99-a1a4-b4dd6064126f",
   "metadata": {},
   "outputs": [
    {
     "data": {
      "text/plain": [
       "FileSystemPathPointer('C:\\\\Users\\\\sk062\\\\AppData\\\\Roaming\\\\nltk_data\\\\tokenizers\\\\punkt')"
      ]
     },
     "execution_count": 28,
     "metadata": {},
     "output_type": "execute_result"
    }
   ],
   "source": [
    "from nltk.corpus import stopwords\n",
    "from nltk.tokenize import word_tokenize\n",
    "import nltk\n",
    "nltk.data.find('tokenizers/punkt')"
   ]
  },
  {
   "cell_type": "code",
   "execution_count": 19,
   "id": "6c4321b0-6a02-435f-94d4-8141a9ad36b9",
   "metadata": {},
   "outputs": [],
   "source": [
    "df1 = pd.read_csv(r\"C:\\Users\\sk062\\OneDrive\\デスクトップ\\output.csv\")"
   ]
  },
  {
   "cell_type": "code",
   "execution_count": 20,
   "id": "3a825ad6-38f7-4693-8c14-ab22a29597e7",
   "metadata": {},
   "outputs": [],
   "source": [
    "pdf_files = r\"C:\\Users\\sk062\\OneDrive\\デスクトップ\\資料\\Note info\""
   ]
  },
  {
   "cell_type": "code",
   "execution_count": 21,
   "id": "ad1856a4-48a1-470a-8672-3b159db64a97",
   "metadata": {},
   "outputs": [],
   "source": [
    "stop_words = set(stopwords.words(\"english\"))\n",
    "# PDFファイルの一覧を取得\n",
    "pdf_files = [f for f in os.listdir(folder_path) if f.endswith(\".pdf\")]"
   ]
  },
  {
   "cell_type": "code",
   "execution_count": 22,
   "id": "91ca19b4-d1c7-4836-8f80-c4f43e5eecde",
   "metadata": {},
   "outputs": [],
   "source": [
    "df = pd.DataFrame(columns = [\"file\",\"summary\"])"
   ]
  },
  {
   "cell_type": "code",
   "execution_count": 23,
   "id": "f908305e-2f95-4ad6-af5c-696f08a18b40",
   "metadata": {},
   "outputs": [],
   "source": [
    "custom_words = {\"dr\", \"ci\", \"tn\", \"tp\", \"fp\", \"et\", \"al\", \"fn\", \"apt\", \"ee\", \"ij\", \"na\", \"er\", \n",
    "                \"te\", \"rn\", \"ie\", \"en\", \"oe\", \"se\", \"td\", \"ro\", \"ne\", \"rq\"} "
   ]
  },
  {
   "cell_type": "code",
   "execution_count": 24,
   "id": "9d9b0193-f74c-4291-9351-dfc66720628f",
   "metadata": {},
   "outputs": [],
   "source": [
    "def simple_summary(text, num_sentences=3):\n",
    "    sentences = nltk.sent_tokenize(text)\n",
    "    words = word_tokenize(text.lower())\n",
    "    word_freq = Counter(word for word in words if word.isalnum() and word not in stop_words and word not in custom_words)\n",
    "    ranked_sentences = sorted(sentences, key=lambda s: sum(word_freq.get(w, 0) for w in word_tokenize(s)), reverse=True)\n",
    "    return \" \".join(ranked_sentences[:num_sentences])"
   ]
  },
  {
   "cell_type": "code",
   "execution_count": 30,
   "id": "229c87ed-e82c-4ddb-a56f-ad379528173b",
   "metadata": {},
   "outputs": [],
   "source": [
    "import nltk\n",
    "nltk.data.clear_cache()\n"
   ]
  },
  {
   "cell_type": "code",
   "execution_count": 32,
   "id": "b6b7c2c9-7161-4ca6-9d75-24eca82cf13c",
   "metadata": {},
   "outputs": [
    {
     "name": "stderr",
     "output_type": "stream",
     "text": [
      "[nltk_data] Downloading package punkt to\n",
      "[nltk_data]     C:\\Users\\sk062\\AppData\\Roaming\\nltk_data...\n",
      "[nltk_data]   Package punkt is already up-to-date!\n"
     ]
    },
    {
     "data": {
      "text/plain": [
       "True"
      ]
     },
     "execution_count": 32,
     "metadata": {},
     "output_type": "execute_result"
    }
   ],
   "source": [
    "import nltk\n",
    "nltk.download('punkt')\n"
   ]
  },
  {
   "cell_type": "code",
   "execution_count": 34,
   "id": "1efb57e4-0117-484f-a74a-fc8c8e467f2e",
   "metadata": {},
   "outputs": [
    {
     "name": "stderr",
     "output_type": "stream",
     "text": [
      "[nltk_data] Downloading package punkt_tab to\n",
      "[nltk_data]     C:\\Users\\sk062\\AppData\\Roaming\\nltk_data...\n",
      "[nltk_data]   Unzipping tokenizers\\punkt_tab.zip.\n"
     ]
    },
    {
     "data": {
      "text/plain": [
       "True"
      ]
     },
     "execution_count": 34,
     "metadata": {},
     "output_type": "execute_result"
    }
   ],
   "source": [
    "import nltk\n",
    "nltk.download('punkt_tab')\n"
   ]
  },
  {
   "cell_type": "code",
   "execution_count": null,
   "id": "5a7380e7-8313-4a00-8854-f4908bb6bfcf",
   "metadata": {},
   "outputs": [],
   "source": [
    "# PDFごとに処理\n",
    "for pdf_file in pdf_files:\n",
    "    pdf_path = os.path.join(folder_path, pdf_file)\n",
    "    text = \"\"\n",
    "    \n",
    "    # PDFを読み込む\n",
    "    with pdfplumber.open(pdf_path) as pdf:\n",
    "        for page in pdf.pages:\n",
    "            text += page.extract_text() + \" \" if page.extract_text() else \"\"\n",
    "\n",
    "    # 前処理\n",
    "    tokens = word_tokenize(text.lower())  # トークン化 & 小文字化\n",
    "    filtered_tokens = [word for word in tokens if word.isalnum() and word not in stop_words and word not in custom_words]\n",
    "    clean_text = \" \".join(filtered_tokens)\n",
    "\n",
    "    # 要約を作成\n",
    "    summary = simple_summary(clean_text)\n",
    "\n",
    "    # DataFrameに追加\n",
    "    df = pd.concat([df, pd.DataFrame({\"フォルダ名\": [folder_path], \"要約\": [summary]})], ignore_index=True)\n"
   ]
  },
  {
   "cell_type": "code",
   "execution_count": null,
   "id": "2d18824a-bf72-475b-a263-24d0ad380545",
   "metadata": {},
   "outputs": [],
   "source": [
    "df"
   ]
  },
  {
   "cell_type": "code",
   "execution_count": null,
   "id": "1b4c8f09-141c-493c-9a15-9d1d79b56cb6",
   "metadata": {},
   "outputs": [],
   "source": []
  }
 ],
 "metadata": {
  "kernelspec": {
   "display_name": "Python 3 (ipykernel)",
   "language": "python",
   "name": "python3"
  },
  "language_info": {
   "codemirror_mode": {
    "name": "ipython",
    "version": 3
   },
   "file_extension": ".py",
   "mimetype": "text/x-python",
   "name": "python",
   "nbconvert_exporter": "python",
   "pygments_lexer": "ipython3",
   "version": "3.12.7"
  }
 },
 "nbformat": 4,
 "nbformat_minor": 5
}
