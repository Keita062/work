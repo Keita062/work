{
 "cells": [
  {
   "cell_type": "code",
   "execution_count": 19,
   "id": "f292244e-59a6-4425-8d55-7ad2e58a4a55",
   "metadata": {},
   "outputs": [],
   "source": [
    "import numpy as np\n",
    "import pandas as pd\n",
    "import matplotlib.pyplot as plt"
   ]
  },
  {
   "cell_type": "code",
   "execution_count": 34,
   "id": "7434c4d4-7637-4f0d-b5bb-3706140f2eb8",
   "metadata": {},
   "outputs": [],
   "source": [
    "df = pd.read_csv(r\"C:\\Users\\sk062\\OneDrive\\デスクトップ\\西新宿 自動運転アンケート2025.2.21~24.csv　108名バージョン\\西新宿 自動運転アンケート2025.2.21~24.csv\")\n",
    "df_copy = df.copy()"
   ]
  },
  {
   "cell_type": "code",
   "execution_count": 35,
   "id": "8d749044-7d8a-4984-bbbf-4898b24e62bc",
   "metadata": {},
   "outputs": [
    {
     "data": {
      "text/plain": [
       "Index(['タイムスタンプ', '問１-１　個人属性について教えてください。', '問１-１　個人属性について教えてください。.1',\n",
       "       '問１-２　あなたの立場に最も当てはまるものに〇をつけてください 。', '問１-３　あなたが住んでいる地域について〇をつけてください 。',\n",
       "       '問１-４　過去に京王電鉄バスで行った自動運転バスの走行に乗車したことはありますか。',\n",
       "       '問２-１　本日の自動運転車両を再度利用したいと思いますか？', '問２-２　再度の利用を希望する場合：理由を教えてください。（複数回答可）',\n",
       "       '問２-２　再度の利用を希望しない場合：理由を教えてください。（複数回答可）',\n",
       "       '問２-３　再度の利用を希望する場合：想定利用頻度を教えてください。',\n",
       "       '問３-１　１回の利用について、運賃はいくらまでであれば支払うことが出来ますか？',\n",
       "       '問４-１　普通の車両と比較して、乗車中に危険を感じる場面はありましたか？',\n",
       "       '問４-２　危険を感じた場面：その場面を教えてください。（複数回答可）', '問5-１　今回の自動運転運行に参加した理由を教えてください。',\n",
       "       '問5-２   今回の自動運転運行を何で知りましたか？',\n",
       "       '問5-３　自動運転車両に乗った乗り心地の感想について、最もあてはまるものを選んでください',\n",
       "       '問5-３　（上で選んだ）自動運転車両に乗った乗り心地の感想について、理由を教えてください',\n",
       "       '問5-4　将来、地域公共交通として自動運転サービスがご自身の地域で実装される場合、期待することはなんですか？',\n",
       "       '問5-4　（上で選んだ）将来、地域公共交通として自動運転サービスがご自身の地域で実装される場合、期待することについての、理由を教えてください',\n",
       "       '問6-１-a　あなたは受益者（自動運転バス利用者）です。センサー（車両を検知するシステム）の誤作動防止のため、（あなたが車や自転車などの車両を運転している場合に）路上駐車や自転車での追い抜きを控える。',\n",
       "       '問6-１-b　あなたは非受益者（自動運転バスを利用しない）です。センサー（車両や人を検知するシステム）の誤作動防止のため、（あなたが車や自転車などの車両を運転している場合に）路上駐車や自転車での追い抜きを控える。',\n",
       "       '問6-２- a あなたは受益者（自動運転バス利用者）です。センサー（人を検知するシステム）の誤作動防止のため、車道寄りの歩道を歩かないようにしたり、信号待ちの際に内側に立ったり、車道にはみ出している物体（自転車等）などを内側に移動させたりなどの、サポートをする。',\n",
       "       '問6-２-b あなたは非受益者（自動運転バスを利用しない）です。センサー（人を検知するシステム）の誤作動防止のため、車道寄りの歩道を歩かないようにしたり、信号待ちの際に内側に立ったり、車道にはみ出している物体（自転車等）などを内側に移動させたりなどの、サポートをする。',\n",
       "       '問6-３-a　あなたは受益者（自動運転バス利用者）です。自動運転バスは安全のために一般車両よりも低速で運行するため、（あなたが車両を運転している場合に）スピードを調整し、自動運転バスの低速に合わせてあげる',\n",
       "       '問6-３-b　あなたは非受益者（自動運転バスを利用しない）です。自動運転バスは安全のために一般車両よりも低速で運行するため、（あなたが車両を運転している場合に）スピードを調整し、自動運転バスの低速に合わせてあげる',\n",
       "       '問6-４-a　あなたは受益者（自動運転バス利用者）です。技術発展・導入および自動運転の運行を維持するためには、税金や運賃などの何らかの形態での財政的な負担（たとえば、月額1000円）が発生する',\n",
       "       '問6-４-b　あなたは非受益者（自動運転バスを利用しない）です。技術発展・導入および自動運転の運行を維持するためには、税金や運賃などの何らかの形態での財政的な負担（たとえば、月額1000円）が発生する',\n",
       "       '問7-１運転士も車掌もいない完全無人自動運転バスが将来的に実装された際、セルフサービス化を許容できるものは何ですか？（複数選択可）'],\n",
       "      dtype='object')"
      ]
     },
     "execution_count": 35,
     "metadata": {},
     "output_type": "execute_result"
    }
   ],
   "source": [
    "df_copy.columns"
   ]
  },
  {
   "cell_type": "code",
   "execution_count": 36,
   "id": "f8dc99d3-9abf-48e4-9ffc-a4b47b7cbf8c",
   "metadata": {},
   "outputs": [
    {
     "data": {
      "text/html": [
       "<div>\n",
       "<style scoped>\n",
       "    .dataframe tbody tr th:only-of-type {\n",
       "        vertical-align: middle;\n",
       "    }\n",
       "\n",
       "    .dataframe tbody tr th {\n",
       "        vertical-align: top;\n",
       "    }\n",
       "\n",
       "    .dataframe thead th {\n",
       "        text-align: right;\n",
       "    }\n",
       "</style>\n",
       "<table border=\"1\" class=\"dataframe\">\n",
       "  <thead>\n",
       "    <tr style=\"text-align: right;\">\n",
       "      <th></th>\n",
       "      <th>timestamp</th>\n",
       "      <th>Q1-1_attribute_Sex</th>\n",
       "      <th>Q1-1_attribute_Age</th>\n",
       "      <th>Q1-2_position</th>\n",
       "      <th>Q1-3_region</th>\n",
       "      <th>Q1-4_past_autonomous_bus</th>\n",
       "      <th>Q2-1_reuse_intent</th>\n",
       "      <th>Q2-2_reason_reuse</th>\n",
       "      <th>Q2-2_reason_no_reuse</th>\n",
       "      <th>Q2-3_usage_frequency</th>\n",
       "      <th>...</th>\n",
       "      <th>Q5-4_expectation_reason</th>\n",
       "      <th>Q6-1-a_beneficiary_parking</th>\n",
       "      <th>Q6-1-b_non_beneficiary_parking</th>\n",
       "      <th>Q6-2-a_beneficiary_pedestrian</th>\n",
       "      <th>Q6-2-b_non_beneficiary_pedestrian</th>\n",
       "      <th>Q6-3-a_beneficiary_speed_adjust</th>\n",
       "      <th>Q6-3-b_non_beneficiary_speed_adjust</th>\n",
       "      <th>Q6-4-a_beneficiary_financial_burden</th>\n",
       "      <th>Q6-4-b_non_beneficiary_financial_burden</th>\n",
       "      <th>Q7-1_self_service_acceptance</th>\n",
       "    </tr>\n",
       "  </thead>\n",
       "  <tbody>\n",
       "    <tr>\n",
       "      <th>0</th>\n",
       "      <td>2025/02/21 12:49:00 午後 GMT+9</td>\n",
       "      <td>男性</td>\n",
       "      <td>40代</td>\n",
       "      <td>関係者</td>\n",
       "      <td>神奈川県</td>\n",
       "      <td>初めて参加した</td>\n",
       "      <td>④希望しない</td>\n",
       "      <td>NaN</td>\n",
       "      <td>大半が手動運転だった。</td>\n",
       "      <td>NaN</td>\n",
       "      <td>...</td>\n",
       "      <td>NaN</td>\n",
       "      <td>②やや協力できる</td>\n",
       "      <td>②やや協力できる</td>\n",
       "      <td>④やや協力できない</td>\n",
       "      <td>④やや協力できない</td>\n",
       "      <td>④やや協力できない</td>\n",
       "      <td>④やや協力できない</td>\n",
       "      <td>③普通</td>\n",
       "      <td>③普通</td>\n",
       "      <td>②緊急時の通報;③車内の温度調節や窓の開閉;④行先や経路の確認（質問できない）;⑤扉の開閉;...</td>\n",
       "    </tr>\n",
       "    <tr>\n",
       "      <th>1</th>\n",
       "      <td>2025/02/21 1:39:50 午後 GMT+9</td>\n",
       "      <td>男性</td>\n",
       "      <td>30代</td>\n",
       "      <td>関係者</td>\n",
       "      <td>その他</td>\n",
       "      <td>初めて参加した</td>\n",
       "      <td>④希望しない</td>\n",
       "      <td>NaN</td>\n",
       "      <td>実証化には時間がかかるように感じた。</td>\n",
       "      <td>NaN</td>\n",
       "      <td>...</td>\n",
       "      <td>運転士不足への補完</td>\n",
       "      <td>③普通</td>\n",
       "      <td>④やや協力できない</td>\n",
       "      <td>③普通</td>\n",
       "      <td>⑤全面的に協力できない</td>\n",
       "      <td>③普通</td>\n",
       "      <td>⑤全面的に協力できない</td>\n",
       "      <td>⑤全面的に協力できない</td>\n",
       "      <td>⑤全面的に協力できない</td>\n",
       "      <td>②緊急時の通報;③車内の温度調節や窓の開閉;⑤扉の開閉;⑥チャージ含めた完全キャッシュレス</td>\n",
       "    </tr>\n",
       "    <tr>\n",
       "      <th>2</th>\n",
       "      <td>2025/02/21 1:43:16 午後 GMT+9</td>\n",
       "      <td>男性</td>\n",
       "      <td>50代</td>\n",
       "      <td>関係者</td>\n",
       "      <td>東京都（23区以外）</td>\n",
       "      <td>初めて参加した</td>\n",
       "      <td>①希望する</td>\n",
       "      <td>③希望する停留所がある</td>\n",
       "      <td>NaN</td>\n",
       "      <td>①週５回以上</td>\n",
       "      <td>...</td>\n",
       "      <td>NaN</td>\n",
       "      <td>①全面的に協力できる</td>\n",
       "      <td>①全面的に協力できる</td>\n",
       "      <td>①全面的に協力できる</td>\n",
       "      <td>①全面的に協力できる</td>\n",
       "      <td>①全面的に協力できる</td>\n",
       "      <td>①全面的に協力できる</td>\n",
       "      <td>②やや協力できる</td>\n",
       "      <td>③普通</td>\n",
       "      <td>②緊急時の通報;③車内の温度調節や窓の開閉;⑥チャージ含めた完全キャッシュレス</td>\n",
       "    </tr>\n",
       "    <tr>\n",
       "      <th>3</th>\n",
       "      <td>2025/02/21 1:45:08 午後 GMT+9</td>\n",
       "      <td>男性</td>\n",
       "      <td>40代</td>\n",
       "      <td>関係者</td>\n",
       "      <td>23区（新宿区以外）</td>\n",
       "      <td>初めて参加した</td>\n",
       "      <td>②どちらかというと希望する</td>\n",
       "      <td>④他の交通手段より便利/早い</td>\n",
       "      <td>NaN</td>\n",
       "      <td>⑤年に数回以下</td>\n",
       "      <td>...</td>\n",
       "      <td>NaN</td>\n",
       "      <td>③普通</td>\n",
       "      <td>③普通</td>\n",
       "      <td>③普通</td>\n",
       "      <td>③普通</td>\n",
       "      <td>③普通</td>\n",
       "      <td>③普通</td>\n",
       "      <td>③普通</td>\n",
       "      <td>③普通</td>\n",
       "      <td>④行先や経路の確認（質問できない）</td>\n",
       "    </tr>\n",
       "    <tr>\n",
       "      <th>4</th>\n",
       "      <td>2025/02/21 1:54:50 午後 GMT+9</td>\n",
       "      <td>男性</td>\n",
       "      <td>40代</td>\n",
       "      <td>関係者</td>\n",
       "      <td>23区（新宿区以外）</td>\n",
       "      <td>初めて参加した</td>\n",
       "      <td>③どちらかというと希望しない</td>\n",
       "      <td>NaN</td>\n",
       "      <td>⑤他の交通手段の方が便利/早い</td>\n",
       "      <td>NaN</td>\n",
       "      <td>...</td>\n",
       "      <td>NaN</td>\n",
       "      <td>③普通</td>\n",
       "      <td>④やや協力できない</td>\n",
       "      <td>②やや協力できる</td>\n",
       "      <td>④やや協力できない</td>\n",
       "      <td>②やや協力できる</td>\n",
       "      <td>④やや協力できない</td>\n",
       "      <td>②やや協力できる</td>\n",
       "      <td>④やや協力できない</td>\n",
       "      <td>③車内の温度調節や窓の開閉;④行先や経路の確認（質問できない）;⑥チャージ含めた完全キャッシュレス</td>\n",
       "    </tr>\n",
       "  </tbody>\n",
       "</table>\n",
       "<p>5 rows × 28 columns</p>\n",
       "</div>"
      ],
      "text/plain": [
       "                      timestamp Q1-1_attribute_Sex Q1-1_attribute_Age  \\\n",
       "0  2025/02/21 12:49:00 午後 GMT+9                 男性                40代   \n",
       "1   2025/02/21 1:39:50 午後 GMT+9                 男性                30代   \n",
       "2   2025/02/21 1:43:16 午後 GMT+9                 男性                50代   \n",
       "3   2025/02/21 1:45:08 午後 GMT+9                 男性                40代   \n",
       "4   2025/02/21 1:54:50 午後 GMT+9                 男性                40代   \n",
       "\n",
       "  Q1-2_position Q1-3_region Q1-4_past_autonomous_bus Q2-1_reuse_intent  \\\n",
       "0           関係者        神奈川県                  初めて参加した            ④希望しない   \n",
       "1           関係者         その他                  初めて参加した            ④希望しない   \n",
       "2           関係者  東京都（23区以外）                  初めて参加した             ①希望する   \n",
       "3           関係者  23区（新宿区以外）                  初めて参加した     ②どちらかというと希望する   \n",
       "4           関係者  23区（新宿区以外）                  初めて参加した    ③どちらかというと希望しない   \n",
       "\n",
       "  Q2-2_reason_reuse Q2-2_reason_no_reuse Q2-3_usage_frequency  ...  \\\n",
       "0               NaN          大半が手動運転だった。                  NaN  ...   \n",
       "1               NaN   実証化には時間がかかるように感じた。                  NaN  ...   \n",
       "2       ③希望する停留所がある                  NaN               ①週５回以上  ...   \n",
       "3    ④他の交通手段より便利/早い                  NaN              ⑤年に数回以下  ...   \n",
       "4               NaN      ⑤他の交通手段の方が便利/早い                  NaN  ...   \n",
       "\n",
       "  Q5-4_expectation_reason Q6-1-a_beneficiary_parking  \\\n",
       "0                     NaN                   ②やや協力できる   \n",
       "1               運転士不足への補完                        ③普通   \n",
       "2                     NaN                 ①全面的に協力できる   \n",
       "3                     NaN                        ③普通   \n",
       "4                     NaN                        ③普通   \n",
       "\n",
       "  Q6-1-b_non_beneficiary_parking Q6-2-a_beneficiary_pedestrian  \\\n",
       "0                       ②やや協力できる                     ④やや協力できない   \n",
       "1                      ④やや協力できない                           ③普通   \n",
       "2                     ①全面的に協力できる                    ①全面的に協力できる   \n",
       "3                            ③普通                           ③普通   \n",
       "4                      ④やや協力できない                      ②やや協力できる   \n",
       "\n",
       "  Q6-2-b_non_beneficiary_pedestrian Q6-3-a_beneficiary_speed_adjust  \\\n",
       "0                         ④やや協力できない                       ④やや協力できない   \n",
       "1                       ⑤全面的に協力できない                             ③普通   \n",
       "2                        ①全面的に協力できる                      ①全面的に協力できる   \n",
       "3                               ③普通                             ③普通   \n",
       "4                         ④やや協力できない                        ②やや協力できる   \n",
       "\n",
       "  Q6-3-b_non_beneficiary_speed_adjust Q6-4-a_beneficiary_financial_burden  \\\n",
       "0                           ④やや協力できない                                 ③普通   \n",
       "1                         ⑤全面的に協力できない                         ⑤全面的に協力できない   \n",
       "2                          ①全面的に協力できる                            ②やや協力できる   \n",
       "3                                 ③普通                                 ③普通   \n",
       "4                           ④やや協力できない                            ②やや協力できる   \n",
       "\n",
       "  Q6-4-b_non_beneficiary_financial_burden  \\\n",
       "0                                     ③普通   \n",
       "1                             ⑤全面的に協力できない   \n",
       "2                                     ③普通   \n",
       "3                                     ③普通   \n",
       "4                               ④やや協力できない   \n",
       "\n",
       "                        Q7-1_self_service_acceptance  \n",
       "0  ②緊急時の通報;③車内の温度調節や窓の開閉;④行先や経路の確認（質問できない）;⑤扉の開閉;...  \n",
       "1      ②緊急時の通報;③車内の温度調節や窓の開閉;⑤扉の開閉;⑥チャージ含めた完全キャッシュレス  \n",
       "2            ②緊急時の通報;③車内の温度調節や窓の開閉;⑥チャージ含めた完全キャッシュレス  \n",
       "3                                  ④行先や経路の確認（質問できない）  \n",
       "4  ③車内の温度調節や窓の開閉;④行先や経路の確認（質問できない）;⑥チャージ含めた完全キャッシュレス  \n",
       "\n",
       "[5 rows x 28 columns]"
      ]
     },
     "execution_count": 36,
     "metadata": {},
     "output_type": "execute_result"
    }
   ],
   "source": [
    "df_copy.columns = [\n",
    "    \"timestamp\", \"Q1-1_attribute_Sex\", \"Q1-1_attribute_Age\", \"Q1-2_position\", \"Q1-3_region\",\n",
    "    \"Q1-4_past_autonomous_bus\", \"Q2-1_reuse_intent\", \"Q2-2_reason_reuse\", \"Q2-2_reason_no_reuse\",\n",
    "    \"Q2-3_usage_frequency\", \"Q3-1_fare_willingness\", \"Q4-1_safety_concern\", \"Q4-2_safety_situation\",\n",
    "    \"Q5-1_participation_reason\", \"Q5-2_info_source\", \"Q5-3_riding_comfort\", \"Q5-3_comfort_reason\",\n",
    "    \"Q5-4_expectation_future\", \"Q5-4_expectation_reason\",\n",
    "    \"Q6-1-a_beneficiary_parking\", \"Q6-1-b_non_beneficiary_parking\",\n",
    "    \"Q6-2-a_beneficiary_pedestrian\", \"Q6-2-b_non_beneficiary_pedestrian\",\n",
    "    \"Q6-3-a_beneficiary_speed_adjust\", \"Q6-3-b_non_beneficiary_speed_adjust\",\n",
    "    \"Q6-4-a_beneficiary_financial_burden\", \"Q6-4-b_non_beneficiary_financial_burden\",\n",
    "    \"Q7-1_self_service_acceptance\"\n",
    "]\n",
    "\n",
    "df_copy.head()"
   ]
  },
  {
   "cell_type": "code",
   "execution_count": 48,
   "id": "c2754083-b6a1-4531-bff2-423f8c74a57c",
   "metadata": {
    "scrolled": true
   },
   "outputs": [],
   "source": [
    "# for column in df_copy.columns:\n",
    "#    print(f\"列 '{column}' のユニークな値:\")\n",
    "#    print(df_copy[column].unique())\n",
    "#    print()"
   ]
  },
  {
   "cell_type": "code",
   "execution_count": 44,
   "id": "3c17f73d-8127-4b0e-9fd8-e0ce4bf13c44",
   "metadata": {},
   "outputs": [
    {
     "name": "stdout",
     "output_type": "stream",
     "text": [
      "['男性' '女性' '無回答']\n",
      "['40代' '30代' '50代' '20代' '60代' '10代' '10代未満' '70代以上']\n",
      "['関係者' '他地域からの来訪者' '地域住民']\n",
      "['神奈川県' 'その他' '東京都（23区以外）' '23区（新宿区以外）' '新宿区']\n",
      "['初めて参加した' '1回参加した' '複数回参加した' '今回試乗していない']\n",
      "[4.0 1.0 2.0 3.0 nan]\n",
      "[nan '③希望する停留所がある' '④他の交通手段より便利/早い' '①安全性を感じる' '②乗り方が簡単(予約等)'\n",
      " '②乗り方が簡単(予約等);③希望する停留所がある;④他の交通手段より便利/早い' '技術の進展を見届けたいから'\n",
      " '①安全性を感じる;②乗り方が簡単(予約等)' 'レベルが上がったらまた試乗してみたい' '乗っていてワクワクする'\n",
      " 'どの程度、進化されたかを感じてみたいです' '精度が高まって実用化に近づくのを実感したい' 'おもしろい。'\n",
      " '②乗り方が簡単(予約等);③希望する停留所がある;⑤運行時間帯が適切' '今後の自動運転技術の向上を期待しているから。' '⑤運行時間帯が適切'\n",
      " '自動運転が興味深い' '昨年も乗らせていただいたが徐々に良くなっていると感じている。先が楽しみ'\n",
      " '自動運転技術進歩のため利用することで需要があることを示したいです' '③希望する停留所がある;④他の交通手段より便利/早い;⑤運行時間帯が適切'\n",
      " '①安全性を感じる;④他の交通手段より便利/早い' '予約無し希望' '自動運転バスの再乗車による評価'\n",
      " '①安全性を感じる;③希望する停留所がある' '技術の進歩を感じて面白い'\n",
      " 'システムの解説が面白かったが、後部座席であったためモニターの表示を詳細に確認できなかった'\n",
      " '①安全性を感じる;運転士不足が今後影響が大きくなるので必要性を強く感じている' '③希望する停留所がある;新しいシステムに興味がある'\n",
      " '①安全性を感じる;③希望する停留所がある;まだ、自動運転が一般的ではないので興味本位'\n",
      " '①安全性を感じる;②乗り方が簡単(予約等);③希望する停留所がある;④他の交通手段より便利/早い' '①安全性を感じる;⑤運行時間帯が適切'\n",
      " '①安全性を感じる;自動運転をまた体験してみたい' '実験経過の実査']\n",
      "['大半が手動運転だった。' '実証化には時間がかかるように感じた。' nan '⑤他の交通手段の方が便利/早い'\n",
      " '自動の割合がもう少し増えたら利用したい' '②料金が高い;③乗り方が難しい(予約等);④希望する停留所が無い'\n",
      " '③乗り方が難しい(予約等);⑤他の交通手段の方が便利/早い;⑥運行時間帯が不適切' '①安全性を感じない' '④希望する停留所が無い'\n",
      " '④希望する停留所が無い;⑤他の交通手段の方が便利/早い' '③乗り方が難しい(予約等)' '⑥運行時間帯が不適切'\n",
      " '今回は自動運転バスに乗りたいから乗ってみた。普段はこの区間なら歩いてしまう。それより系統や本数をもっと増やしてもらえば乗る機会が増えると思う。'\n",
      " '④希望する停留所が無い;歩いていける' '県外のため' '短距離を乗るのに予約が必要なので、生活の足にはまだならない。'\n",
      " '③乗り方が難しい(予約等);⑤他の交通手段の方が便利/早い' 'この距離なら健康のため歩きます']\n",
      "[nan '①週５回以上' '⑤年に数回以下' '④月に１～３回' '③週１～２回' '②週３～４回']\n",
      "['②１５０円' '①１００円以下' '③２００円' nan '④２５０円' '⑤３００円']\n",
      "['②危険を感じなかった' '①危険を感じた' nan]\n"
     ]
    }
   ],
   "source": [
    "print(df_copy.iloc[:, 1].unique())\n",
    "print(df_copy.iloc[:, 2].unique())\n",
    "print(df_copy.iloc[:, 3].unique())\n",
    "print(df_copy.iloc[:, 4].unique())\n",
    "print(df_copy.iloc[:, 5].unique())\n",
    "print(df_copy.iloc[:, 6].unique())\n",
    "print(df_copy.iloc[:, 7].unique())\n",
    "print(df_copy.iloc[:, 8].unique())\n",
    "print(df_copy.iloc[:, 9].unique())\n",
    "print(df_copy.iloc[:, 10].unique())\n",
    "print(df_copy.iloc[:, 11].unique())"
   ]
  },
  {
   "cell_type": "code",
   "execution_count": 45,
   "id": "4cd26238-8588-43fa-815a-6c47003bef02",
   "metadata": {},
   "outputs": [
    {
     "data": {
      "text/plain": [
       "array([4.0, 1.0, 2.0, 3.0, nan], dtype=object)"
      ]
     },
     "execution_count": 45,
     "metadata": {},
     "output_type": "execute_result"
    }
   ],
   "source": [
    "df_copy.iloc[:, 6] = df_copy.iloc[:, 6].replace('①希望する', 1)\n",
    "df_copy.iloc[:, 6] = df_copy.iloc[:, 6].replace('②どちらかというと希望する', 2)\n",
    "df_copy.iloc[:, 6] = df_copy.iloc[:, 6].replace('③どちらかというと希望しない', 3)\n",
    "df_copy.iloc[:, 6] = df_copy.iloc[:, 6].replace('④希望しない', 4)\n",
    "df_copy.iloc[:, 6] = df_copy.iloc[:, 6].replace(\"nan\", 0)\n",
    "df_copy.iloc[:, 6].unique()"
   ]
  },
  {
   "cell_type": "code",
   "execution_count": 42,
   "id": "1b8d9faa-e2a5-4241-92cd-c05ec96ab23c",
   "metadata": {},
   "outputs": [
    {
     "data": {
      "text/plain": [
       "array([nan, '①週５回以上', '⑤年に数回以下', '④月に１～３回', '③週１～２回', '②週３～４回'],\n",
       "      dtype=object)"
      ]
     },
     "execution_count": 42,
     "metadata": {},
     "output_type": "execute_result"
    }
   ],
   "source": [
    "df_copy.iloc[:, 9].unique()"
   ]
  },
  {
   "cell_type": "code",
   "execution_count": 46,
   "id": "c551bd74-3c72-4ede-8a6c-699f6c035a9f",
   "metadata": {},
   "outputs": [
    {
     "data": {
      "text/plain": [
       "array([nan, 1, 5, '④月に１～３回', 3, 2], dtype=object)"
      ]
     },
     "execution_count": 46,
     "metadata": {},
     "output_type": "execute_result"
    }
   ],
   "source": [
    "df_copy.iloc[:, 9] = df_copy.iloc[:, 9].replace('①週５回以上', 1)\n",
    "df_copy.iloc[:, 9] = df_copy.iloc[:, 9].replace('②週３～４回', 2)\n",
    "df_copy.iloc[:, 9] = df_copy.iloc[:, 9].replace('③週１～２回', 3)\n",
    "df_copy.iloc[:, 9] = df_copy.iloc[:, 9].replace('④希望しない', 4)\n",
    "df_copy.iloc[:, 9] = df_copy.iloc[:, 9].replace('⑤年に数回以下', 5)\n",
    "df_copy.iloc[:, 9] = df_copy.iloc[:, 9].replace(\"nan\", 0)\n",
    "df_copy.iloc[:, 9].unique()"
   ]
  },
  {
   "cell_type": "code",
   "execution_count": 47,
   "id": "87883933-bc53-4530-b649-d40223fb54db",
   "metadata": {},
   "outputs": [],
   "source": [
    "## ここから選択肢がある場合は数字の選択式にする"
   ]
  },
  {
   "cell_type": "code",
   "execution_count": null,
   "id": "8e5654fc-9121-41d5-aeae-751227251dc9",
   "metadata": {},
   "outputs": [],
   "source": []
  }
 ],
 "metadata": {
  "kernelspec": {
   "display_name": "Python 3 (ipykernel)",
   "language": "python",
   "name": "python3"
  },
  "language_info": {
   "codemirror_mode": {
    "name": "ipython",
    "version": 3
   },
   "file_extension": ".py",
   "mimetype": "text/x-python",
   "name": "python",
   "nbconvert_exporter": "python",
   "pygments_lexer": "ipython3",
   "version": "3.12.7"
  }
 },
 "nbformat": 4,
 "nbformat_minor": 5
}
