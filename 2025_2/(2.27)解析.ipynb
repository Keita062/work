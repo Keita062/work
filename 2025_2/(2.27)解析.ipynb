{
 "cells": [
  {
   "cell_type": "code",
   "execution_count": 67,
   "id": "26085fe1-d6c9-45e4-9491-5712528ca04f",
   "metadata": {},
   "outputs": [],
   "source": [
    "import numpy as np\n",
    "import pandas as pd\n",
    "import matplotlib.pyplot as plt\n",
    "import japanize_matplotlib\n",
    "from PIL import Image"
   ]
  },
  {
   "cell_type": "code",
   "execution_count": 68,
   "id": "fc423274-d250-4794-b3c8-9bfda72b8e52",
   "metadata": {},
   "outputs": [],
   "source": [
    "df = pd.read_csv(r\"C:\\Users\\sk062\\OneDrive\\デスクトップ\\西新宿 自動運転アンケート2025.2.21~24.csv　108名バージョン\\西新宿 自動運転アンケート2025.2.21~24.csv\")\n",
    "df_copy = df.copy()\n",
    "df_copy.columns = [\n",
    "    \"timestamp\", \"Q1-1_attribute_Sex\", \"Q1-1_attribute_Age\", \"Q1-2_position\", \"Q1-3_region\",\n",
    "    \"Q1-4_past_autonomous_bus\", \"Q2-1_reuse_intent\", \"Q2-2_reason_reuse\", \"Q2-2_reason_no_reuse\",\n",
    "    \"Q2-3_usage_frequency\", \"Q3-1_fare_willingness\", \"Q4-1_safety_concern\", \"Q4-2_safety_situation\",\n",
    "    \"Q5-1_participation_reason\", \"Q5-2_info_source\", \"Q5-3_riding_comfort\", \"Q5-3_comfort_reason\",\n",
    "    \"Q5-4_expectation_future\", \"Q5-4_expectation_reason\",\n",
    "    \"Q6-1-a_beneficiary_parking\", \"Q6-1-b_non_beneficiary_parking\",\n",
    "    \"Q6-2-a_beneficiary_pedestrian\", \"Q6-2-b_non_beneficiary_pedestrian\",\n",
    "    \"Q6-3-a_beneficiary_speed_adjust\", \"Q6-3-b_non_beneficiary_speed_adjust\",\n",
    "    \"Q6-4-a_beneficiary_financial_burden\", \"Q6-4-b_non_beneficiary_financial_burden\",\n",
    "    \"Q7-1_self_service_acceptance\"\n",
    "]"
   ]
  },
  {
   "cell_type": "code",
   "execution_count": 69,
   "id": "add436f8-057d-4e89-a189-2b5b7c5ec879",
   "metadata": {},
   "outputs": [
    {
     "name": "stderr",
     "output_type": "stream",
     "text": [
      "C:\\Users\\sk062\\AppData\\Local\\Temp\\ipykernel_20244\\2965262188.py:4: FutureWarning: Downcasting behavior in `replace` is deprecated and will be removed in a future version. To retain the old behavior, explicitly call `result.infer_objects(copy=False)`. To opt-in to the future behavior, set `pd.set_option('future.no_silent_downcasting', True)`\n",
      "  df_copy.iloc[:, 6] = df_copy.iloc[:, 6].replace('④希望しない', 4)\n",
      "C:\\Users\\sk062\\AppData\\Local\\Temp\\ipykernel_20244\\2965262188.py:10: FutureWarning: Downcasting behavior in `replace` is deprecated and will be removed in a future version. To retain the old behavior, explicitly call `result.infer_objects(copy=False)`. To opt-in to the future behavior, set `pd.set_option('future.no_silent_downcasting', True)`\n",
      "  df_copy.iloc[:, 9] = df_copy.iloc[:, 9].replace('⑤年に数回以下', 5)\n",
      "C:\\Users\\sk062\\AppData\\Local\\Temp\\ipykernel_20244\\2965262188.py:16: FutureWarning: Downcasting behavior in `replace` is deprecated and will be removed in a future version. To retain the old behavior, explicitly call `result.infer_objects(copy=False)`. To opt-in to the future behavior, set `pd.set_option('future.no_silent_downcasting', True)`\n",
      "  df_copy.iloc[:, 10] = df_copy.iloc[:, 10].replace('⑤３００円', 5)\n",
      "C:\\Users\\sk062\\AppData\\Local\\Temp\\ipykernel_20244\\2965262188.py:19: FutureWarning: Downcasting behavior in `replace` is deprecated and will be removed in a future version. To retain the old behavior, explicitly call `result.infer_objects(copy=False)`. To opt-in to the future behavior, set `pd.set_option('future.no_silent_downcasting', True)`\n",
      "  df_copy.iloc[:, 11] = df_copy.iloc[:, 11].replace('②危険を感じなかった', 2)\n",
      "C:\\Users\\sk062\\AppData\\Local\\Temp\\ipykernel_20244\\2965262188.py:30: FutureWarning: Downcasting behavior in `replace` is deprecated and will be removed in a future version. To retain the old behavior, explicitly call `result.infer_objects(copy=False)`. To opt-in to the future behavior, set `pd.set_option('future.no_silent_downcasting', True)`\n",
      "  df_copy.iloc[:, 13] = df_copy.iloc[:, 13].replace('⑪行政機関利用', 11)\n",
      "C:\\Users\\sk062\\AppData\\Local\\Temp\\ipykernel_20244\\2965262188.py:41: FutureWarning: Downcasting behavior in `replace` is deprecated and will be removed in a future version. To retain the old behavior, explicitly call `result.infer_objects(copy=False)`. To opt-in to the future behavior, set `pd.set_option('future.no_silent_downcasting', True)`\n",
      "  df_copy.iloc[:, 19] = df_copy.iloc[:, 19].replace('⑤全面的に協力できない', 5)\n",
      "C:\\Users\\sk062\\AppData\\Local\\Temp\\ipykernel_20244\\2965262188.py:47: FutureWarning: Downcasting behavior in `replace` is deprecated and will be removed in a future version. To retain the old behavior, explicitly call `result.infer_objects(copy=False)`. To opt-in to the future behavior, set `pd.set_option('future.no_silent_downcasting', True)`\n",
      "  df_copy.iloc[:, 20] = df_copy.iloc[:, 20].replace('⑤全面的に協力できない', 5)\n",
      "C:\\Users\\sk062\\AppData\\Local\\Temp\\ipykernel_20244\\2965262188.py:53: FutureWarning: Downcasting behavior in `replace` is deprecated and will be removed in a future version. To retain the old behavior, explicitly call `result.infer_objects(copy=False)`. To opt-in to the future behavior, set `pd.set_option('future.no_silent_downcasting', True)`\n",
      "  df_copy.iloc[:, 21] = df_copy.iloc[:, 21].replace('⑤全面的に協力できない', 5)\n",
      "C:\\Users\\sk062\\AppData\\Local\\Temp\\ipykernel_20244\\2965262188.py:59: FutureWarning: Downcasting behavior in `replace` is deprecated and will be removed in a future version. To retain the old behavior, explicitly call `result.infer_objects(copy=False)`. To opt-in to the future behavior, set `pd.set_option('future.no_silent_downcasting', True)`\n",
      "  df_copy.iloc[:, 22] = df_copy.iloc[:, 22].replace('⑤全面的に協力できない', 5)\n",
      "C:\\Users\\sk062\\AppData\\Local\\Temp\\ipykernel_20244\\2965262188.py:65: FutureWarning: Downcasting behavior in `replace` is deprecated and will be removed in a future version. To retain the old behavior, explicitly call `result.infer_objects(copy=False)`. To opt-in to the future behavior, set `pd.set_option('future.no_silent_downcasting', True)`\n",
      "  df_copy.iloc[:, 23] = df_copy.iloc[:, 23].replace('⑤全面的に協力できない', 5)\n",
      "C:\\Users\\sk062\\AppData\\Local\\Temp\\ipykernel_20244\\2965262188.py:71: FutureWarning: Downcasting behavior in `replace` is deprecated and will be removed in a future version. To retain the old behavior, explicitly call `result.infer_objects(copy=False)`. To opt-in to the future behavior, set `pd.set_option('future.no_silent_downcasting', True)`\n",
      "  df_copy.iloc[:, 24] = df_copy.iloc[:, 24].replace('⑤全面的に協力できない', 5)\n",
      "C:\\Users\\sk062\\AppData\\Local\\Temp\\ipykernel_20244\\2965262188.py:77: FutureWarning: Downcasting behavior in `replace` is deprecated and will be removed in a future version. To retain the old behavior, explicitly call `result.infer_objects(copy=False)`. To opt-in to the future behavior, set `pd.set_option('future.no_silent_downcasting', True)`\n",
      "  df_copy.iloc[:, 25] = df_copy.iloc[:, 25].replace('⑤全面的に協力できない', 5)\n",
      "C:\\Users\\sk062\\AppData\\Local\\Temp\\ipykernel_20244\\2965262188.py:83: FutureWarning: Downcasting behavior in `replace` is deprecated and will be removed in a future version. To retain the old behavior, explicitly call `result.infer_objects(copy=False)`. To opt-in to the future behavior, set `pd.set_option('future.no_silent_downcasting', True)`\n",
      "  df_copy.iloc[:, 26] = df_copy.iloc[:, 26].replace('⑤全面的に協力できない', 5)\n"
     ]
    }
   ],
   "source": [
    "df_copy.iloc[:, 6] = df_copy.iloc[:, 6].replace('①希望する', 1)\n",
    "df_copy.iloc[:, 6] = df_copy.iloc[:, 6].replace('②どちらかというと希望する', 2)\n",
    "df_copy.iloc[:, 6] = df_copy.iloc[:, 6].replace('③どちらかというと希望しない', 3)\n",
    "df_copy.iloc[:, 6] = df_copy.iloc[:, 6].replace('④希望しない', 4)\n",
    "\n",
    "df_copy.iloc[:, 9] = df_copy.iloc[:, 9].replace('①週５回以上', 1)\n",
    "df_copy.iloc[:, 9] = df_copy.iloc[:, 9].replace('②週３～４回', 2)\n",
    "df_copy.iloc[:, 9] = df_copy.iloc[:, 9].replace('③週１～２回', 3)\n",
    "df_copy.iloc[:, 9] = df_copy.iloc[:, 9].replace('④月に１～３回', 4)\n",
    "df_copy.iloc[:, 9] = df_copy.iloc[:, 9].replace('⑤年に数回以下', 5)\n",
    "\n",
    "df_copy.iloc[:, 10] = df_copy.iloc[:, 10].replace('①１００円以下', 1)\n",
    "df_copy.iloc[:, 10] = df_copy.iloc[:, 10].replace('②１５０円', 2)\n",
    "df_copy.iloc[:, 10] = df_copy.iloc[:, 10].replace('③２００円', 3)\n",
    "df_copy.iloc[:, 10] = df_copy.iloc[:, 10].replace('④２５０円', 4)\n",
    "df_copy.iloc[:, 10] = df_copy.iloc[:, 10].replace('⑤３００円', 5)\n",
    "\n",
    "df_copy.iloc[:, 11] = df_copy.iloc[:, 11].replace('①危険を感じた', 1)\n",
    "df_copy.iloc[:, 11] = df_copy.iloc[:, 11].replace('②危険を感じなかった', 2)\n",
    "\n",
    "df_copy.iloc[:, 13] = df_copy.iloc[:, 13].replace('①興味本位', 1)\n",
    "df_copy.iloc[:, 13] = df_copy.iloc[:, 13].replace('②家族・友人に誘われたから', 2)\n",
    "df_copy.iloc[:, 13] = df_copy.iloc[:, 13].replace('③試しに乗ってみた（視察含む）', 3)\n",
    "df_copy.iloc[:, 13] = df_copy.iloc[:, 13].replace('⑤自動運動システムに興味があった', 5)\n",
    "df_copy.iloc[:, 13] = df_copy.iloc[:, 13].replace('⑥通勤（都庁）', 6)\n",
    "df_copy.iloc[:, 13] = df_copy.iloc[:, 13].replace('⑦通勤（都庁以外）', 7)\n",
    "df_copy.iloc[:, 13] = df_copy.iloc[:, 13].replace('⑧業務', 8)\n",
    "df_copy.iloc[:, 13] = df_copy.iloc[:, 13].replace('⑨趣味・コミュニティ活動', 9)\n",
    "df_copy.iloc[:, 13] = df_copy.iloc[:, 13].replace('⑩通院/健康関係', 10)\n",
    "df_copy.iloc[:, 13] = df_copy.iloc[:, 13].replace('⑪行政機関利用', 11)\n",
    "df_copy.iloc[:, 13] = df_copy.iloc[:, 13].replace('⑫金融/郵便関係利用', 12)\n",
    "df_copy.iloc[:, 13] = df_copy.iloc[:, 13].replace('⑬外食', 13)\n",
    "df_copy.iloc[:, 13] = df_copy.iloc[:, 13].replace('⑭日用品の購入', 14)\n",
    "df_copy.iloc[:, 13] = df_copy.iloc[:, 13].replace('⑮（日用品を除く）物品の購入/サービス契約', 15)\n",
    "df_copy.iloc[:, 13] = df_copy.iloc[:, 13].replace('⑯仕事以外の方（知人/友人/家族等）の面会', 16)\n",
    "\n",
    "df_copy.iloc[:, 19] = df_copy.iloc[:, 19].replace('①全面的に協力できる', 1)\n",
    "df_copy.iloc[:, 19] = df_copy.iloc[:, 19].replace('②やや協力できる', 2)\n",
    "df_copy.iloc[:, 19] = df_copy.iloc[:, 19].replace('③普通', 3)\n",
    "df_copy.iloc[:, 19] = df_copy.iloc[:, 19].replace('④やや協力できない', 4)\n",
    "df_copy.iloc[:, 19] = df_copy.iloc[:, 19].replace('⑤全面的に協力できない', 5)\n",
    "\n",
    "df_copy.iloc[:, 20] = df_copy.iloc[:, 20].replace('①全面的に協力できる', 1)\n",
    "df_copy.iloc[:, 20] = df_copy.iloc[:, 20].replace('②やや協力できる', 2)\n",
    "df_copy.iloc[:, 20] = df_copy.iloc[:, 20].replace('③普通', 3)\n",
    "df_copy.iloc[:, 20] = df_copy.iloc[:, 20].replace('④やや協力できない', 4)\n",
    "df_copy.iloc[:, 20] = df_copy.iloc[:, 20].replace('⑤全面的に協力できない', 5)\n",
    "\n",
    "df_copy.iloc[:, 21] = df_copy.iloc[:, 21].replace('①全面的に協力できる', 1)\n",
    "df_copy.iloc[:, 21] = df_copy.iloc[:, 21].replace('②やや協力できる', 2)\n",
    "df_copy.iloc[:, 21] = df_copy.iloc[:, 21].replace('③普通', 3)\n",
    "df_copy.iloc[:, 21] = df_copy.iloc[:, 21].replace('④やや協力できない', 4)\n",
    "df_copy.iloc[:, 21] = df_copy.iloc[:, 21].replace('⑤全面的に協力できない', 5)\n",
    "\n",
    "df_copy.iloc[:, 22] = df_copy.iloc[:, 22].replace('①全面的に協力できる', 1)\n",
    "df_copy.iloc[:, 22] = df_copy.iloc[:, 22].replace('②やや協力できる', 2)\n",
    "df_copy.iloc[:, 22] = df_copy.iloc[:, 22].replace('③普通', 3)\n",
    "df_copy.iloc[:, 22] = df_copy.iloc[:, 22].replace('④やや協力できない', 4)\n",
    "df_copy.iloc[:, 22] = df_copy.iloc[:, 22].replace('⑤全面的に協力できない', 5)\n",
    "\n",
    "df_copy.iloc[:, 23] = df_copy.iloc[:, 23].replace('①全面的に協力できる', 1)\n",
    "df_copy.iloc[:, 23] = df_copy.iloc[:, 23].replace('②やや協力できる', 2)\n",
    "df_copy.iloc[:, 23] = df_copy.iloc[:, 23].replace('③普通', 3)\n",
    "df_copy.iloc[:, 23] = df_copy.iloc[:, 23].replace('④やや協力できない', 4)\n",
    "df_copy.iloc[:, 23] = df_copy.iloc[:, 23].replace('⑤全面的に協力できない', 5)\n",
    "\n",
    "df_copy.iloc[:, 24] = df_copy.iloc[:, 24].replace('①全面的に協力できる', 1)\n",
    "df_copy.iloc[:, 24] = df_copy.iloc[:, 24].replace('②やや協力できる', 2)\n",
    "df_copy.iloc[:, 24] = df_copy.iloc[:, 24].replace('③普通', 3)\n",
    "df_copy.iloc[:, 24] = df_copy.iloc[:, 24].replace('④やや協力できない', 4)\n",
    "df_copy.iloc[:, 24] = df_copy.iloc[:, 24].replace('⑤全面的に協力できない', 5)\n",
    "\n",
    "df_copy.iloc[:, 25] = df_copy.iloc[:, 25].replace('①全面的に協力できる', 1)\n",
    "df_copy.iloc[:, 25] = df_copy.iloc[:, 25].replace('②やや協力できる', 2)\n",
    "df_copy.iloc[:, 25] = df_copy.iloc[:, 25].replace('③普通', 3)\n",
    "df_copy.iloc[:, 25] = df_copy.iloc[:, 25].replace('④やや協力できない', 4)\n",
    "df_copy.iloc[:, 25] = df_copy.iloc[:, 25].replace('⑤全面的に協力できない', 5)\n",
    "\n",
    "df_copy.iloc[:, 26] = df_copy.iloc[:, 26].replace('①全面的に協力できる', 1)\n",
    "df_copy.iloc[:, 26] = df_copy.iloc[:, 26].replace('②やや協力できる', 2)\n",
    "df_copy.iloc[:, 26] = df_copy.iloc[:, 26].replace('③普通', 3)\n",
    "df_copy.iloc[:, 26] = df_copy.iloc[:, 26].replace('④やや協力できない', 4)\n",
    "df_copy.iloc[:, 26] = df_copy.iloc[:, 26].replace('⑤全面的に協力できない', 5)"
   ]
  },
  {
   "cell_type": "code",
   "execution_count": 70,
   "id": "f2777e4e-d0d4-4776-90e2-7cbe9874707b",
   "metadata": {},
   "outputs": [
    {
     "name": "stderr",
     "output_type": "stream",
     "text": [
      "C:\\Users\\sk062\\AppData\\Local\\Temp\\ipykernel_20244\\1185595569.py:1: FutureWarning: Downcasting object dtype arrays on .fillna, .ffill, .bfill is deprecated and will change in a future version. Call result.infer_objects(copy=False) instead. To opt-in to the future behavior, set `pd.set_option('future.no_silent_downcasting', True)`\n",
      "  df_copy = df_copy.fillna(0)\n"
     ]
    }
   ],
   "source": [
    "df_copy = df_copy.fillna(0)"
   ]
  },
  {
   "cell_type": "code",
   "execution_count": 71,
   "id": "b3752a7c-f0dc-4ee9-957b-7008fce38dfd",
   "metadata": {},
   "outputs": [],
   "source": [
    "feature_note_hope = df_copy[df_copy.iloc[:, 6].isin([3,4,0])] #再度利用したくない\n",
    "feature_hope = df_copy[df_copy.iloc[:, 6].isin([1,2])] #再度利用したい"
   ]
  },
  {
   "cell_type": "code",
   "execution_count": 103,
   "id": "b7dc209f-00ff-490c-a5ef-3ffa4840dede",
   "metadata": {},
   "outputs": [
    {
     "name": "stdout",
     "output_type": "stream",
     "text": [
      "[4. 3. 0.]\n",
      "[1. 2.]\n"
     ]
    }
   ],
   "source": [
    "print(feature_note_hope.iloc[:, 6].unique())\n",
    "print(feature_hope.iloc[:, 6].unique())\n",
    "# print(len(feature_note_hope))\n",
    "# print(len(feature_hope))"
   ]
  },
  {
   "cell_type": "code",
   "execution_count": 73,
   "id": "9644623b-93d5-43b2-88cc-3df9581842c4",
   "metadata": {},
   "outputs": [],
   "source": [
    "# 再度利用したくないグループ(feature_note_hope)の\n",
    "# 地域別の人数(iloc[:,4])、想定利用頻度(iloc[:,9])、運賃の差(iloc[:,10])を各々確認する。"
   ]
  },
  {
   "cell_type": "code",
   "execution_count": 74,
   "id": "9921db0f-8cbb-4d91-8f3f-19136f26970c",
   "metadata": {},
   "outputs": [],
   "source": [
    "# 再度利用したいグループの地域別の人数、想定利用頻度、運賃の差を確認する。"
   ]
  },
  {
   "cell_type": "code",
   "execution_count": 104,
   "id": "e574de07-6a18-4b91-989c-036a5e2ae24f",
   "metadata": {},
   "outputs": [
    {
     "name": "stdout",
     "output_type": "stream",
     "text": [
      "----------------------------------------------------------\n"
     ]
    }
   ],
   "source": [
    "# print(\"再度利用したくない人の地域別の人数\" , feature_note_hope.iloc[:,4].value_counts())\n",
    "print(\"----------------------------------------------------------\")\n",
    "# print(\"再度利用したい人の地域別の人数\" , feature_hope.iloc[:,4].value_counts())"
   ]
  },
  {
   "cell_type": "code",
   "execution_count": 105,
   "id": "fc6e4a06-bed1-4ecb-98e9-937b7841314d",
   "metadata": {},
   "outputs": [
    {
     "name": "stdout",
     "output_type": "stream",
     "text": [
      "----------------------------------------------------------\n"
     ]
    }
   ],
   "source": [
    "# print(\"再度利用したくない人の想定利用頻度別の人数\" , feature_note_hope.iloc[:,9].value_counts())\n",
    "print(\"----------------------------------------------------------\")\n",
    "# print(\"再度利用したい人の想定利用頻度別の人数\" , feature_hope.iloc[:,9].value_counts())"
   ]
  },
  {
   "cell_type": "code",
   "execution_count": 106,
   "id": "70dfb17d-af88-4e24-af49-b800f7b96fdb",
   "metadata": {},
   "outputs": [
    {
     "name": "stdout",
     "output_type": "stream",
     "text": [
      "----------------------------------------------------------\n"
     ]
    }
   ],
   "source": [
    "# print(\"再度利用したくない人の運賃別の人数\" , feature_note_hope.iloc[:,10].value_counts())\n",
    "print(\"----------------------------------------------------------\")\n",
    "# print(\"再度利用したい人の運賃別の人数\" , feature_hope.iloc[:,10].value_counts())"
   ]
  },
  {
   "cell_type": "code",
   "execution_count": 78,
   "id": "97cc7da9-9a72-4305-a6c7-c44624084455",
   "metadata": {},
   "outputs": [
    {
     "data": {
      "text/plain": [
       "(108, 28)"
      ]
     },
     "execution_count": 78,
     "metadata": {},
     "output_type": "execute_result"
    }
   ],
   "source": [
    "df_copy.shape"
   ]
  },
  {
   "cell_type": "code",
   "execution_count": 90,
   "id": "08dc98ed-f7c9-48d1-aa89-51df34c8c249",
   "metadata": {},
   "outputs": [],
   "source": [
    "df_copy.iloc[:,10] = df_copy.iloc[:,10].replace(1.0 , \"１００円以下\")\n",
    "df_copy.iloc[:,10] = df_copy.iloc[:,10].replace(2.0 , \"１５０円\")\n",
    "df_copy.iloc[:,10] = df_copy.iloc[:,10].replace(3.0 , \"２００円\")\n",
    "df_copy.iloc[:,10] = df_copy.iloc[:,10].replace(4.0 , \"２５０円\")\n",
    "df_copy.iloc[:,10] = df_copy.iloc[:,10].replace(5.0 , \"３００円\")\n",
    "df_copy.iloc[:,10] = df_copy.iloc[:,10].replace(6.0 , \"３５０円\")\n",
    "df_copy.iloc[:,10] = df_copy.iloc[:,10].replace(7.0 , \"４００円以上\")\n",
    "df_copy.iloc[:,10] = df_copy.iloc[:,10].replace(0.0 , \"試乗していない\")"
   ]
  },
  {
   "cell_type": "code",
   "execution_count": 91,
   "id": "69c7016c-ae9a-4c2b-9e8c-1dcaeff0206d",
   "metadata": {},
   "outputs": [
    {
     "data": {
      "text/html": [
       "<div>\n",
       "<style scoped>\n",
       "    .dataframe tbody tr th:only-of-type {\n",
       "        vertical-align: middle;\n",
       "    }\n",
       "\n",
       "    .dataframe tbody tr th {\n",
       "        vertical-align: top;\n",
       "    }\n",
       "\n",
       "    .dataframe thead th {\n",
       "        text-align: right;\n",
       "    }\n",
       "</style>\n",
       "<table border=\"1\" class=\"dataframe\">\n",
       "  <thead>\n",
       "    <tr style=\"text-align: right;\">\n",
       "      <th>Q3-1_fare_willingness</th>\n",
       "      <th>試乗していない</th>\n",
       "      <th>１００円以下</th>\n",
       "      <th>１５０円</th>\n",
       "      <th>２００円</th>\n",
       "      <th>２５０円</th>\n",
       "      <th>３００円</th>\n",
       "    </tr>\n",
       "    <tr>\n",
       "      <th>Q1-3_region</th>\n",
       "      <th></th>\n",
       "      <th></th>\n",
       "      <th></th>\n",
       "      <th></th>\n",
       "      <th></th>\n",
       "      <th></th>\n",
       "    </tr>\n",
       "  </thead>\n",
       "  <tbody>\n",
       "    <tr>\n",
       "      <th>23区（新宿区以外）</th>\n",
       "      <td>9</td>\n",
       "      <td>3</td>\n",
       "      <td>8</td>\n",
       "      <td>10</td>\n",
       "      <td>6</td>\n",
       "      <td>1</td>\n",
       "    </tr>\n",
       "    <tr>\n",
       "      <th>その他</th>\n",
       "      <td>3</td>\n",
       "      <td>2</td>\n",
       "      <td>5</td>\n",
       "      <td>8</td>\n",
       "      <td>2</td>\n",
       "      <td>0</td>\n",
       "    </tr>\n",
       "    <tr>\n",
       "      <th>新宿区</th>\n",
       "      <td>1</td>\n",
       "      <td>1</td>\n",
       "      <td>2</td>\n",
       "      <td>0</td>\n",
       "      <td>0</td>\n",
       "      <td>0</td>\n",
       "    </tr>\n",
       "    <tr>\n",
       "      <th>東京都（23区以外）</th>\n",
       "      <td>5</td>\n",
       "      <td>2</td>\n",
       "      <td>4</td>\n",
       "      <td>11</td>\n",
       "      <td>2</td>\n",
       "      <td>1</td>\n",
       "    </tr>\n",
       "    <tr>\n",
       "      <th>神奈川県</th>\n",
       "      <td>10</td>\n",
       "      <td>1</td>\n",
       "      <td>5</td>\n",
       "      <td>4</td>\n",
       "      <td>0</td>\n",
       "      <td>2</td>\n",
       "    </tr>\n",
       "  </tbody>\n",
       "</table>\n",
       "</div>"
      ],
      "text/plain": [
       "Q3-1_fare_willingness  試乗していない  １００円以下  １５０円  ２００円  ２５０円  ３００円\n",
       "Q1-3_region                                                   \n",
       "23区（新宿区以外）                   9       3     8    10     6     1\n",
       "その他                          3       2     5     8     2     0\n",
       "新宿区                          1       1     2     0     0     0\n",
       "東京都（23区以外）                   5       2     4    11     2     1\n",
       "神奈川県                        10       1     5     4     0     2"
      ]
     },
     "execution_count": 91,
     "metadata": {},
     "output_type": "execute_result"
    }
   ],
   "source": [
    "# 試乗した人とのみの地域別の運賃だせる金額\n",
    "Region_price = pd.crosstab(df_copy.iloc[:,4] , df_copy.iloc[:,10] )\n",
    "Region_price"
   ]
  },
  {
   "cell_type": "code",
   "execution_count": 92,
   "id": "95c375be-8dae-4a2d-ba14-339581096594",
   "metadata": {},
   "outputs": [
    {
     "name": "stdout",
     "output_type": "stream",
     "text": [
      "保存完了: C:\\Users\\sk062\\OneDrive\\デスクトップ\\Region_price.png\n"
     ]
    },
    {
     "data": {
      "image/png": "[encoded data removed]",
      "text/plain": [
       "<Figure size 1000x500 with 1 Axes>"
      ]
     },
     "metadata": {},
     "output_type": "display_data"
    }
   ],
   "source": [
    "# Figure を作成\n",
    "fig, ax = plt.subplots(figsize=(10, 5))\n",
    "\n",
    "# テーブルを作成\n",
    "ax.axis('tight')\n",
    "ax.axis('off')\n",
    "table = ax.table(cellText=Region_price.values, \n",
    "                 colLabels=Region_price.columns,\n",
    "                 rowLabels=Region_price.index,\n",
    "                 cellLoc='center', \n",
    "                 loc='center')\n",
    "\n",
    "# 画像として保存\n",
    "save_path = r'C:\\Users\\sk062\\OneDrive\\デスクトップ\\Region_price.png'\n",
    "plt.savefig(save_path, dpi=300, bbox_inches='tight')\n",
    "\n",
    "print(f\"保存完了: {save_path}\")\n"
   ]
  },
  {
   "cell_type": "code",
   "execution_count": 94,
   "id": "57bd12bf-77d7-4f00-a942-f80bcdb82a8d",
   "metadata": {},
   "outputs": [],
   "source": [
    "# 後にグラフを描画してもいいかも"
   ]
  },
  {
   "cell_type": "code",
   "execution_count": 99,
   "id": "86d9adfa-2ac4-493e-97f9-1ab3bf716c45",
   "metadata": {},
   "outputs": [
    {
     "name": "stdout",
     "output_type": "stream",
     "text": [
      "Q6-1-a_beneficiary_parking\n",
      "1    56\n",
      "2    30\n",
      "3    19\n",
      "5     2\n",
      "4     1\n",
      "Name: count, dtype: int64\n",
      "---------------------------------\n",
      "Q6-1-b_non_beneficiary_parking\n",
      "1    46\n",
      "2    34\n",
      "3    20\n",
      "4     6\n",
      "5     2\n",
      "Name: count, dtype: int64\n"
     ]
    }
   ],
   "source": [
    "print(df_copy.iloc[:,19].value_counts())\n",
    "print(\"---------------------------------\")\n",
    "print(df_copy.iloc[:,20].value_counts())"
   ]
  },
  {
   "cell_type": "code",
   "execution_count": 100,
   "id": "781f3618-a61c-4ca5-8097-d98e8f0ba0b1",
   "metadata": {},
   "outputs": [
    {
     "name": "stdout",
     "output_type": "stream",
     "text": [
      "Q6-2-a_beneficiary_pedestrian\n",
      "1    46\n",
      "2    30\n",
      "3    22\n",
      "4     7\n",
      "5     3\n",
      "Name: count, dtype: int64\n",
      "---------------------------------\n",
      "Q6-2-b_non_beneficiary_pedestrian\n",
      "1    37\n",
      "2    36\n",
      "3    19\n",
      "4    12\n",
      "5     4\n",
      "Name: count, dtype: int64\n"
     ]
    }
   ],
   "source": [
    "print(df_copy.iloc[:,21].value_counts())\n",
    "print(\"---------------------------------\")\n",
    "print(df_copy.iloc[:,22].value_counts())"
   ]
  },
  {
   "cell_type": "code",
   "execution_count": 101,
   "id": "b2c48ee6-b401-4762-8e04-d572d2045af9",
   "metadata": {},
   "outputs": [
    {
     "name": "stdout",
     "output_type": "stream",
     "text": [
      "Q6-3-a_beneficiary_speed_adjust\n",
      "1    46\n",
      "2    33\n",
      "3    20\n",
      "4     6\n",
      "5     3\n",
      "Name: count, dtype: int64\n",
      "---------------------------------\n",
      "Q6-3-b_non_beneficiary_speed_adjust\n",
      "1    39\n",
      "2    27\n",
      "3    23\n",
      "4    13\n",
      "5     6\n",
      "Name: count, dtype: int64\n"
     ]
    }
   ],
   "source": [
    "print(df_copy.iloc[:,23].value_counts())\n",
    "print(\"---------------------------------\")\n",
    "print(df_copy.iloc[:,24].value_counts())"
   ]
  },
  {
   "cell_type": "code",
   "execution_count": 102,
   "id": "b5e27735-2dce-4cb3-85f6-931183f13fae",
   "metadata": {},
   "outputs": [
    {
     "name": "stdout",
     "output_type": "stream",
     "text": [
      "Q6-4-a_beneficiary_financial_burden\n",
      "2    38\n",
      "3    29\n",
      "1    23\n",
      "5     9\n",
      "4     9\n",
      "Name: count, dtype: int64\n",
      "---------------------------------\n",
      "Q6-4-b_non_beneficiary_financial_burden\n",
      "2    34\n",
      "3    30\n",
      "4    21\n",
      "5    12\n",
      "1    11\n",
      "Name: count, dtype: int64\n"
     ]
    }
   ],
   "source": [
    "print(df_copy.iloc[:,25].value_counts())\n",
    "print(\"---------------------------------\")\n",
    "print(df_copy.iloc[:,26].value_counts())"
   ]
  },
  {
   "cell_type": "code",
   "execution_count": null,
   "id": "0ed4a378-3b17-4f21-826c-b308a7c8a78b",
   "metadata": {},
   "outputs": [],
   "source": []
  },
  {
   "cell_type": "code",
   "execution_count": null,
   "id": "839886ae-1a9e-4bea-bf89-a5c69def5857",
   "metadata": {},
   "outputs": [],
   "source": []
  },
  {
   "cell_type": "code",
   "execution_count": null,
   "id": "17ce73d1-582c-45ce-960d-4f916e47b0b6",
   "metadata": {},
   "outputs": [],
   "source": []
  },
  {
   "cell_type": "code",
   "execution_count": null,
   "id": "948797c2-095c-4017-a9a1-a6efed329656",
   "metadata": {},
   "outputs": [],
   "source": []
  },
  {
   "cell_type": "code",
   "execution_count": null,
   "id": "b65ad728-4c04-47f3-9e10-53b857d08cd0",
   "metadata": {},
   "outputs": [],
   "source": []
  },
  {
   "cell_type": "code",
   "execution_count": null,
   "id": "e12ad4b1-c243-4ff0-8cf2-708eafd4d3c8",
   "metadata": {},
   "outputs": [],
   "source": []
  },
  {
   "cell_type": "code",
   "execution_count": null,
   "id": "1fed6558-a058-45e3-9984-9b6e19993782",
   "metadata": {},
   "outputs": [],
   "source": []
  },
  {
   "cell_type": "code",
   "execution_count": null,
   "id": "af82945b-865f-4dcc-b4c7-ae3f364b90a5",
   "metadata": {},
   "outputs": [],
   "source": []
  },
  {
   "cell_type": "code",
   "execution_count": null,
   "id": "e731f764-23cb-4e26-8389-f18c091a8610",
   "metadata": {},
   "outputs": [],
   "source": []
  },
  {
   "cell_type": "code",
   "execution_count": null,
   "id": "cfd96e1d-0dc6-46a2-8bac-ad65ea295416",
   "metadata": {},
   "outputs": [],
   "source": []
  },
  {
   "cell_type": "code",
   "execution_count": null,
   "id": "95e8d804-01c7-4562-a0aa-f50ff93afe96",
   "metadata": {},
   "outputs": [],
   "source": []
  },
  {
   "cell_type": "code",
   "execution_count": null,
   "id": "87db805d-e410-4b4a-b803-89204dda7711",
   "metadata": {},
   "outputs": [],
   "source": []
  }
 ],
 "metadata": {
  "kernelspec": {
   "display_name": "Python 3 (ipykernel)",
   "language": "python",
   "name": "python3"
  },
  "language_info": {
   "codemirror_mode": {
    "name": "ipython",
    "version": 3
   },
   "file_extension": ".py",
   "mimetype": "text/x-python",
   "name": "python",
   "nbconvert_exporter": "python",
   "pygments_lexer": "ipython3",
   "version": "3.12.7"
  }
 },
 "nbformat": 4,
 "nbformat_minor": 5
}
