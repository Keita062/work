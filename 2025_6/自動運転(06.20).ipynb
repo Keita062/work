{
 "cells": [
  {
   "cell_type": "code",
   "execution_count": 3,
   "id": "7c9bbb6b-8e74-43db-97c3-a5aef47988b3",
   "metadata": {},
   "outputs": [],
   "source": [
    "import pandas as pd\n",
    "import numpy as np\n",
    "import seaborn as sns\n",
    "import matplotlib.pyplot as plt"
   ]
  },
  {
   "cell_type": "code",
   "execution_count": 5,
   "id": "2e783ff5-4687-497f-b4cf-dcf209ea393a",
   "metadata": {},
   "outputs": [],
   "source": [
    "df = pd.read_csv(r\"C:\\Users\\sk062\\OneDrive\\デスクトップ\\hey.csv\")"
   ]
  },
  {
   "cell_type": "code",
   "execution_count": 36,
   "id": "f599c89a-6b48-4ca2-8433-e9698fbb95b1",
   "metadata": {},
   "outputs": [],
   "source": [
    "# df.dtypes"
   ]
  },
  {
   "cell_type": "code",
   "execution_count": 37,
   "id": "0e6220b8-84ac-4239-a8a8-a8d0ad069805",
   "metadata": {},
   "outputs": [],
   "source": [
    "# df.iloc[:,1].value_counts()"
   ]
  },
  {
   "cell_type": "code",
   "execution_count": 38,
   "id": "66514846-6d57-44e7-8015-af5c98d701b5",
   "metadata": {},
   "outputs": [],
   "source": [
    "# df.iloc[:,2].value_counts()"
   ]
  },
  {
   "cell_type": "code",
   "execution_count": 39,
   "id": "973ff725-0ff1-4580-a14e-bd1fc607d7d1",
   "metadata": {},
   "outputs": [],
   "source": [
    "#df.iloc[:,2] == \"回答しない\""
   ]
  },
  {
   "cell_type": "code",
   "execution_count": 40,
   "id": "8a5b1332-40e0-4257-81dc-a6707cbdfb44",
   "metadata": {},
   "outputs": [],
   "source": [
    "#df = df[df.iloc[:, 2] != \"回答しない\"]"
   ]
  },
  {
   "cell_type": "code",
   "execution_count": 41,
   "id": "96006a04-25b8-4a1a-9079-860344bb4463",
   "metadata": {},
   "outputs": [],
   "source": [
    "#df.shape"
   ]
  },
  {
   "cell_type": "code",
   "execution_count": 30,
   "id": "fbe3ca59-11a3-4656-8540-2d584bef793f",
   "metadata": {},
   "outputs": [],
   "source": [
    "df_male = df[df.iloc[:, 2] == \"男性\"] #男性のみを抽出\n",
    "df_female = df[df.iloc[:, 2] == \"女性\"] # 女性のみを抽出\n",
    "df_10 = df[df.iloc[:,1] == \"10代\"] # 10代を抽出\n",
    "df_20 = df[df.iloc[:,1] == \"20代\"] # 20代を抽出\n",
    "df_30 = df[df.iloc[:,1] == \"30代\"] # 3o代を抽出\n",
    "df_40 = df[df.iloc[:,1] == \"40代\"] # 40代を抽出\n",
    "df_50 = df[df.iloc[:,1] == \"50代\"] # 50代を抽出\n",
    "df_60 = df[df.iloc[:,1] == \"60代\"] # 60代を抽出\n",
    "df_70 = df[df.iloc[:,1] == \"70代\"] # 70代を抽出\n",
    "df_80 = df[df.iloc[:,1] == \"80代\"] # 80代を抽出\n",
    "df_90_more = df[df.iloc[:,1] == \"90代以上\"]# 90代以上を抽出"
   ]
  },
  {
   "cell_type": "code",
   "execution_count": 42,
   "id": "deaa0e42-224c-42f4-a2e2-b5e63b088e91",
   "metadata": {},
   "outputs": [],
   "source": [
    "#print(df_male.shape)#男性のみの大きさを確認\n",
    "#print(df_female.shape)#女性のみの大きさを確認\n",
    "#print(df_10.shape)# 10代の大きさを確認\n",
    "#print(df_20.shape)# 20代の大きさを確認\n",
    "#print(df_30.shape)# 30代の大きさを確認\n",
    "#print(df_40.shape)# 40代の大きさを確認\n",
    "#print(df_50.shape)# 50代の大きさを確認\n",
    "#print(df_60.shape)# 60代の大きさを確認\n",
    "#print(df_70.shape)# 70代の大きさを確認\n",
    "#print(df_80.shape)# 80代の大きさを確認\n",
    "#print(df_90_more.shape)# 90代の大きさを確認"
   ]
  },
  {
   "cell_type": "code",
   "execution_count": 34,
   "id": "3089962c-920f-4ad0-b4cb-d264d5052cf1",
   "metadata": {},
   "outputs": [],
   "source": [
    "df_male_10 = df_male[df_male.iloc[:,1] == \"10代\"] # 男性10代を抽出\n",
    "df_male_20 = df_male[df_male.iloc[:,1] == \"20代\"] # 男性20代を抽出\n",
    "df_male_30 = df_male[df_male.iloc[:,1] == \"30代\"] # 男性30代を抽出\n",
    "df_male_40 = df_male[df_male.iloc[:,1] == \"40代\"] # 男性40代を抽出\n",
    "df_male_50 = df_male[df_male.iloc[:,1] == \"50代\"] # 男性50代を抽出\n",
    "df_male_60 = df_male[df_male.iloc[:,1] == \"60代\"] # 男性60代を抽出\n",
    "df_male_70 = df_male[df_male.iloc[:,1] == \"70代\"] # 男性70代を抽出\n",
    "df_male_80 = df_male[df_male.iloc[:,1] == \"80代\"] # 男性80代を抽出\n",
    "df_male_90_more = df_male[df_male.iloc[:,1] == \"90代以上\"] # 男性90代を抽出"
   ]
  },
  {
   "cell_type": "code",
   "execution_count": 43,
   "id": "8649d1de-d881-4fcc-9633-aca7362eab02",
   "metadata": {},
   "outputs": [],
   "source": [
    "#print(df_male_10.shape) # 男性10代の大きさを確認\n",
    "#print(df_male_20.shape) # 男性20代の大きさを確認\n",
    "#print(df_male_30.shape) # 男性30代の大きさを確認\n",
    "#print(df_male_40.shape) # 男性40代の大きさを確認\n",
    "#print(df_male_50.shape) # 男性50代の大きさを確認\n",
    "#print(df_male_60.shape) # 男性60代の大きさを確認\n",
    "#print(df_male_70.shape) # 男性70代の大きさを確認\n",
    "#print(df_male_80.shape) # 男性80代の大きさを確認\n",
    "#print(df_male_90_more.shape) # 男性90代の大きさを確認"
   ]
  },
  {
   "cell_type": "code",
   "execution_count": null,
   "id": "6a14d8c5-6a46-476b-a2b0-6c1703e00d0f",
   "metadata": {},
   "outputs": [],
   "source": []
  }
 ],
 "metadata": {
  "kernelspec": {
   "display_name": "Python 3 (ipykernel)",
   "language": "python",
   "name": "python3"
  },
  "language_info": {
   "codemirror_mode": {
    "name": "ipython",
    "version": 3
   },
   "file_extension": ".py",
   "mimetype": "text/x-python",
   "name": "python",
   "nbconvert_exporter": "python",
   "pygments_lexer": "ipython3",
   "version": "3.12.7"
  }
 },
 "nbformat": 4,
 "nbformat_minor": 5
}
