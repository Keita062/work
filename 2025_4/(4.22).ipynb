{
 "cells": [
  {
   "cell_type": "code",
   "execution_count": 1,
   "id": "b3be724d-b14f-4201-bbbe-a1f8b2885263",
   "metadata": {},
   "outputs": [],
   "source": [
    "import numpy as np\n",
    "import pandas as pd\n",
    "import matplotlib.pyplot as plt"
   ]
  },
  {
   "cell_type": "code",
   "execution_count": 4,
   "id": "4673f7a6-b227-465d-8d73-1af85820aee2",
   "metadata": {},
   "outputs": [],
   "source": [
    "df_summer = pd.read_excel(r\"C:\\Users\\sk062\\Downloads\\【鴨居】2024（夏） PREMIUM TEACHERS アンケート（回答）.xlsx\")\n",
    "df_winter = pd.read_excel(r\"C:\\Users\\sk062\\Downloads\\【鴨居】2024（冬） PREMIUM TEACHERS アンケート（回答）.xlsx\")"
   ]
  },
  {
   "cell_type": "code",
   "execution_count": 55,
   "id": "fe730217-e393-4a4b-8356-15d20c2bdd5d",
   "metadata": {},
   "outputs": [],
   "source": [
    "#print(26+12+1+1)"
   ]
  },
  {
   "cell_type": "code",
   "execution_count": 56,
   "id": "01f18851-de81-45f9-be84-bec5b81c6778",
   "metadata": {},
   "outputs": [],
   "source": [
    "#df_summer.iloc[:,0] "
   ]
  },
  {
   "cell_type": "code",
   "execution_count": 58,
   "id": "3aaec066-e2a8-4534-a2ae-029f1614da5c",
   "metadata": {},
   "outputs": [],
   "source": [
    "#df1 = pd.read_excel(r\"C:\\Users\\sk062\\OneDrive\\デスクトップ\\プレミアムティーチャーアンケート\\【鴨居】2024（夏） PREMIUM TEACHERS アンケート（回答）加工後.xlsx\")\n",
    "#df2 = pd.read_excel(r\"C:\\Users\\sk062\\OneDrive\\デスクトップ\\プレミアムティーチャーアンケート\\【鴨居】2024（冬） PREMIUM TEACHERS アンケート（回答）変換後.xlsx\")\n"
   ]
  },
  {
   "cell_type": "code",
   "execution_count": 59,
   "id": "1c7a7bbf-7456-4f1a-b7a6-55df4a655eb7",
   "metadata": {},
   "outputs": [],
   "source": [
    "#df2.iloc[:,7].unique()"
   ]
  },
  {
   "cell_type": "code",
   "execution_count": 60,
   "id": "a1d7d887-0002-48c8-a889-4c4f72a0240e",
   "metadata": {},
   "outputs": [],
   "source": [
    "#print(21+21+1+1+1)"
   ]
  },
  {
   "cell_type": "code",
   "execution_count": 61,
   "id": "d0248c90-a216-457e-8fa5-3b387b801d77",
   "metadata": {},
   "outputs": [],
   "source": [
    "#df1.info()"
   ]
  },
  {
   "cell_type": "code",
   "execution_count": 62,
   "id": "b455e726-ffdc-437f-9462-4cc283a0f006",
   "metadata": {},
   "outputs": [],
   "source": [
    "#df1.iloc[:,3].unique()"
   ]
  },
  {
   "cell_type": "code",
   "execution_count": 63,
   "id": "f9f1fb0d-c227-4799-b5b4-734fe93ca1b7",
   "metadata": {},
   "outputs": [],
   "source": [
    "#result = df1[df1.iloc[:, 3] == \"鈴木 啓太\"].iloc[:, 1].tolist()\n",
    "#print(result)"
   ]
  },
  {
   "cell_type": "code",
   "execution_count": 65,
   "id": "4e230a2e-c094-4d7b-a914-c107bd1c28c7",
   "metadata": {},
   "outputs": [],
   "source": [
    "#result2 = df2[df2.iloc[:, 3] == \"鈴木 啓太\"].iloc[:, 1].tolist()\n",
    "#print(result2)"
   ]
  },
  {
   "cell_type": "code",
   "execution_count": 67,
   "id": "54febf26-8317-45bc-8660-89a4f090473f",
   "metadata": {},
   "outputs": [],
   "source": [
    "# 夏季の対象者リスト\n",
    "#result = df1[df1.iloc[:, 3] == \"鈴木 啓太\"].iloc[:, 1].tolist()\n",
    "#print(\"夏季のみ（result）:\", result)\n",
    "\n",
    "# 冬季の対象者リスト\n",
    "#result2 = df2[df2.iloc[:, 3] == \"鈴木 啓太\"].iloc[:, 1].tolist()\n",
    "#print(\"冬季のみ（result2）:\", result2)\n",
    "\n",
    "# 両方に存在する人\n",
    "#both = list(set(result) & set(result2))\n",
    "#print(\"両方にいる人:\", both)\n",
    "\n",
    "# 冬季のみにいる人\n",
    "#only_winter = list(set(result2) - set(result))\n",
    "#print(\"冬季のみの人:\", only_winter)\n",
    "\n",
    "# 夏季のみにいる人\n",
    "#only_summer = list(set(result) - set(result2))\n",
    "#print(\"夏季のみの人:\", only_summer)\n"
   ]
  },
  {
   "cell_type": "code",
   "execution_count": 66,
   "id": "56a0dd95-67d3-484b-b8f7-07bc737eef64",
   "metadata": {},
   "outputs": [
    {
     "name": "stdout",
     "output_type": "stream",
     "text": [
      "夏季のみ（result）: ['小出有己', '村山七菜', '中島 優', '山永\\u3000聖夏', '阿部悠人', '石田孝士朗', '田邉結梨', '村上晴彦', '鈴木新太', '田中千裕', '綿貫詩帆', '伊藤凛']\n",
      "冬季のみ（result2）: ['阿部泰治', '村山七菜', '小出有己', '田中伸之', '坂本\\u3000希実', '伊藤\\u3000翠咲', '中島優', '田邉結梨', '鈴木新太', '山永\\u3000聖夏', '藤田 福之亮', '成田 湊音', '伊藤凛', '山本優真', '村山琥之丞', '立之こう', '石田\\u3000孝士朗', '大橋', '林実穂', '村上晴彦', '須藤彬']\n",
      "両方にいる人: ['山永\\u3000聖夏', '村上晴彦', '小出有己', '村山七菜', '伊藤凛', '田邉結梨', '鈴木新太']\n",
      "冬季のみの人: ['藤田 福之亮', '村山琥之丞', '大橋', '田中伸之', '鈴木新太', '山永\\u3000聖夏', '林実穂', '小出有己', '村山七菜', '伊藤凛', '田邉結梨', '阿部泰治', '石田\\u3000孝士朗', '中島優', '須藤彬', '村上晴彦', '坂本\\u3000希実', '成田 湊音', '伊藤\\u3000翠咲', '立之こう', '山本優真']\n",
      "夏季のみの人: ['立之遼', '常念蒼右', '池谷拓翔', '石坂琴音', '石井秀弥', '荒木\\u3000翔太', '番場\\u3000永守', '大羽\\u3000佑弥', '楠田誠一郎', '村上真彦', '浅水悠耶', '一戸悠真', '田中千裕', '萱場莉子', '宇佐美 星夏', '阿部悠人', '砂 雅斗', '井出悠斗', '田邉晃史', '大竹悠斗']\n"
     ]
    }
   ],
   "source": [
    "# 夏季の対象者リスト\n",
    "#result3 = df1[df1.iloc[:, 3] == \"斉藤 佑弥\"].iloc[:, 1].tolist()\n",
    "#print(\"夏季のみ（result）:\", result3)\n",
    "\n",
    "# 冬季の対象者リスト\n",
    "result4 = df2[df2.iloc[:, 3] == \"斉藤 佑弥\"].iloc[:, 1].tolist()\n",
    "print(\"冬季のみ（result2）:\", result4)\n",
    "\n",
    "# 両方に存在する人\n",
    "both2 = list(set(result3) & set(result4))\n",
    "print(\"両方にいる人:\", both2)\n",
    "\n",
    "# 冬季のみにいる人\n",
    "only_winter2 = list(set(result4) - set(result2))\n",
    "print(\"冬季のみの人:\", only_winter2)\n",
    "\n",
    "# 夏季のみにいる人\n",
    "only_summer2 = list(set(result2) - set(result4))\n",
    "print(\"夏季のみの人:\", only_summer2)\n"
   ]
  },
  {
   "cell_type": "code",
   "execution_count": 54,
   "id": "e7bb3ba9-95b9-4c47-9918-f2db87806d33",
   "metadata": {},
   "outputs": [
    {
     "name": "stdout",
     "output_type": "stream",
     "text": [
      "45\n"
     ]
    }
   ],
   "source": [
    "print(12+11+8+6+4+3+1)"
   ]
  },
  {
   "cell_type": "code",
   "execution_count": null,
   "id": "17905bdd-b114-4353-a312-910cf3dae7f2",
   "metadata": {},
   "outputs": [],
   "source": []
  },
  {
   "cell_type": "code",
   "execution_count": null,
   "id": "4c78e616-b6fc-431b-b05b-7a5898176c42",
   "metadata": {},
   "outputs": [],
   "source": []
  }
 ],
 "metadata": {
  "kernelspec": {
   "display_name": "Python 3 (ipykernel)",
   "language": "python",
   "name": "python3"
  },
  "language_info": {
   "codemirror_mode": {
    "name": "ipython",
    "version": 3
   },
   "file_extension": ".py",
   "mimetype": "text/x-python",
   "name": "python",
   "nbconvert_exporter": "python",
   "pygments_lexer": "ipython3",
   "version": "3.12.7"
  }
 },
 "nbformat": 4,
 "nbformat_minor": 5
}
