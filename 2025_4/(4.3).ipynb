{
 "cells": [
  {
   "cell_type": "code",
   "execution_count": 1,
   "id": "dccdf0cb-f23e-46ac-9350-5bbe0cd0882c",
   "metadata": {},
   "outputs": [],
   "source": [
    "# \"C:\\Users\\sk062\\Documents\\Data\\気象\\SSDSE-B-2024.csv\""
   ]
  },
  {
   "cell_type": "code",
   "execution_count": 2,
   "id": "046987de-8117-4fd3-abf6-4a96df6c0dbf",
   "metadata": {},
   "outputs": [],
   "source": [
    "import numpy as np\n",
    "import pandas as pd\n",
    "import matplotlib.pyplot as plt"
   ]
  },
  {
   "cell_type": "code",
   "execution_count": 4,
   "id": "10ad2544-aecc-46ad-af82-d03f839c879c",
   "metadata": {},
   "outputs": [],
   "source": [
    "import pandas as pd\n",
    "\n",
    "# CSVを読み込む（エンコーディングを自動判別させる）\n",
    "df = pd.read_csv(r\"C:\\Users\\sk062\\Documents\\Data\\気象\\SSDSE-B-2024.csv\", encoding=\"cp932\", encoding_errors=\"ignore\")\n",
    "\n",
    "# UTF-8で保存する\n",
    "df.to_csv(r\"C:\\Users\\sk062\\Documents\\Data\\気象\\SSDSE-B-2024_utf8.csv\", index=False, encoding=\"utf-8\")\n"
   ]
  },
  {
   "cell_type": "code",
   "execution_count": null,
   "id": "95de9b18-4efa-4a01-9a12-14aec53aff2a",
   "metadata": {},
   "outputs": [],
   "source": []
  }
 ],
 "metadata": {
  "kernelspec": {
   "display_name": "Python 3 (ipykernel)",
   "language": "python",
   "name": "python3"
  },
  "language_info": {
   "codemirror_mode": {
    "name": "ipython",
    "version": 3
   },
   "file_extension": ".py",
   "mimetype": "text/x-python",
   "name": "python",
   "nbconvert_exporter": "python",
   "pygments_lexer": "ipython3",
   "version": "3.12.7"
  }
 },
 "nbformat": 4,
 "nbformat_minor": 5
}
