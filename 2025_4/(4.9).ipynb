{
 "cells": [
  {
   "cell_type": "code",
   "execution_count": 1,
   "id": "05477512-cd2f-489d-b727-49af11e12ee5",
   "metadata": {
    "collapsed": true,
    "jupyter": {
     "outputs_hidden": true
    }
   },
   "outputs": [
    {
     "name": "stdout",
     "output_type": "stream",
     "text": [
      "Requirement already satisfied: japanize-matplotlib in c:\\users\\sk062\\miniconda3\\envs\\study\\lib\\site-packages (1.1.3)\n",
      "Requirement already satisfied: openpyxl in c:\\users\\sk062\\miniconda3\\envs\\study\\lib\\site-packages (3.1.5)\n",
      "Requirement already satisfied: matplotlib in c:\\users\\sk062\\miniconda3\\envs\\study\\lib\\site-packages (from japanize-matplotlib) (3.9.2)\n",
      "Requirement already satisfied: et-xmlfile in c:\\users\\sk062\\miniconda3\\envs\\study\\lib\\site-packages (from openpyxl) (2.0.0)\n",
      "Requirement already satisfied: contourpy>=1.0.1 in c:\\users\\sk062\\miniconda3\\envs\\study\\lib\\site-packages (from matplotlib->japanize-matplotlib) (1.3.1)\n",
      "Requirement already satisfied: cycler>=0.10 in c:\\users\\sk062\\miniconda3\\envs\\study\\lib\\site-packages (from matplotlib->japanize-matplotlib) (0.11.0)\n",
      "Requirement already satisfied: fonttools>=4.22.0 in c:\\users\\sk062\\miniconda3\\envs\\study\\lib\\site-packages (from matplotlib->japanize-matplotlib) (4.51.0)\n",
      "Requirement already satisfied: kiwisolver>=1.3.1 in c:\\users\\sk062\\miniconda3\\envs\\study\\lib\\site-packages (from matplotlib->japanize-matplotlib) (1.4.4)\n",
      "Requirement already satisfied: numpy>=1.23 in c:\\users\\sk062\\miniconda3\\envs\\study\\lib\\site-packages (from matplotlib->japanize-matplotlib) (1.26.4)\n",
      "Requirement already satisfied: packaging>=20.0 in c:\\users\\sk062\\appdata\\roaming\\python\\python312\\site-packages (from matplotlib->japanize-matplotlib) (24.1)\n",
      "Requirement already satisfied: pillow>=8 in c:\\users\\sk062\\miniconda3\\envs\\study\\lib\\site-packages (from matplotlib->japanize-matplotlib) (11.0.0)\n",
      "Requirement already satisfied: pyparsing>=2.3.1 in c:\\users\\sk062\\miniconda3\\envs\\study\\lib\\site-packages (from matplotlib->japanize-matplotlib) (3.2.0)\n",
      "Requirement already satisfied: python-dateutil>=2.7 in c:\\users\\sk062\\appdata\\roaming\\python\\python312\\site-packages (from matplotlib->japanize-matplotlib) (2.9.0.post0)\n",
      "Requirement already satisfied: six>=1.5 in c:\\users\\sk062\\appdata\\roaming\\python\\python312\\site-packages (from python-dateutil>=2.7->matplotlib->japanize-matplotlib) (1.16.0)\n"
     ]
    }
   ],
   "source": [
    "!pip install japanize-matplotlib openpyxl"
   ]
  },
  {
   "cell_type": "code",
   "execution_count": 2,
   "id": "19c492e9-2252-407e-b2c4-c7a2d2b262ae",
   "metadata": {},
   "outputs": [],
   "source": [
    "import numpy as np\n",
    "import pandas as pd\n",
    "import matplotlib.pyplot as plt\n",
    "import japanize_matplotlib\n",
    "import matplotlib\n",
    "import collections\n",
    "\n",
    "# 日本語フォントの設定\n",
    "matplotlib.rcParams['font.family'] = 'Meiryo'  # Windows用\n",
    "#最大表示列数の指定（ここでは50列を指定）\n",
    "pd.set_option('display.max_columns', 50)"
   ]
  },
  {
   "cell_type": "code",
   "execution_count": 9,
   "id": "1714889d-e58b-4f22-afd7-b3ab8c21df10",
   "metadata": {},
   "outputs": [],
   "source": [
    "df_summer = pd.read_excel(r\"C:\\Users\\sk062\\Downloads\\【鴨居】2024（夏） PREMIUM TEACHERS アンケート（回答）.xlsx\")\n",
    "df_winter = pd.read_excel(r\"C:\\Users\\sk062\\Downloads\\【鴨居】2024（冬） PREMIUM TEACHERS アンケート（回答）.xlsx\")\n",
    "df_summer = df_summer.fillna(0)\n",
    "df_winter = df_winter.fillna(0)\n",
    "df_summer = df_summer.drop(df_summer.columns[[0, 1]], axis=1)\n",
    "df_winter = df_winter.drop(df_winter.columns[0], axis=1)\n",
    "df_summer.iloc[:, 0] = df_summer.iloc[:, 0].str.replace(\"\\u3000\", \"\", regex=True)\n",
    "df_winter.iloc[:, 0] = df_winter.iloc[:, 0].str.replace(\"\\u3000\", \"\", regex=True)\n",
    "df_winter.replace('大岩 瑞季', 0, inplace=True)"
   ]
  },
  {
   "cell_type": "code",
   "execution_count": 44,
   "id": "c23f88f1-1976-49e7-8dcd-2bf7c4e31cf5",
   "metadata": {},
   "outputs": [
    {
     "data": {
      "text/plain": [
       "array(['松岡 海音', '刈山 蔵之介', '鈴木 啓太', '石原 聖奈', '白石 陽大', '斉藤 佑弥', 0, '後藤 駿介'],\n",
       "      dtype=object)"
      ]
     },
     "execution_count": 44,
     "metadata": {},
     "output_type": "execute_result"
    }
   ],
   "source": [
    "df_winter.iloc[:,15].unique()"
   ]
  },
  {
   "cell_type": "code",
   "execution_count": 34,
   "id": "7ca4fda3-39c6-4df5-ba12-cb1102d81930",
   "metadata": {},
   "outputs": [],
   "source": [
    "df_summer.replace('永礼 もも香', 0, inplace=True)\n",
    "df_summer.replace('石原 聖奈', 0, inplace=True)\n",
    "df_summer.replace('見澤 優貴', 0, inplace=True)\n",
    "df_summer.replace('大堀 愛実', 0, inplace=True)\n",
    "df_summer.replace('関野 優一郎', 0, inplace=True)\n",
    "df_winter.replace('大堀 愛実', 0, inplace=True)"
   ]
  },
  {
   "cell_type": "code",
   "execution_count": 35,
   "id": "f5ab3a15-0a1f-4c9d-9964-cb925e395c1b",
   "metadata": {},
   "outputs": [
    {
     "data": {
      "text/plain": [
       "array(['斉藤 佑弥', '白石 陽大', '刈山 蔵之介', '鈴木 啓太', '松岡 海音', '石原 聖奈', 0, '後藤 駿介'],\n",
       "      dtype=object)"
      ]
     },
     "execution_count": 35,
     "metadata": {},
     "output_type": "execute_result"
    }
   ],
   "source": [
    "df_winter.iloc[:,7].unique()"
   ]
  },
  {
   "cell_type": "code",
   "execution_count": 45,
   "id": "349d2771-d038-46ac-9173-0e89744e1387",
   "metadata": {},
   "outputs": [],
   "source": [
    "df_winter.replace(0, np.nan, inplace=True)\n",
    "df_summer.replace(0, np.nan, inplace=True)"
   ]
  },
  {
   "cell_type": "code",
   "execution_count": 46,
   "id": "3578950f-ddc1-46b3-bef8-04c22984559c",
   "metadata": {},
   "outputs": [],
   "source": [
    "df_winter.to_csv(r'C:\\Users\\sk062\\OneDrive\\デスクトップ\\データ解析\\プレT\\df_winter.csv', index=False, encoding='utf-8-sig')\n",
    "df_summer.to_csv(r'C:\\Users\\sk062\\OneDrive\\デスクトップ\\データ解析\\プレT\\df_summer.csv', index=False, encoding='utf-8-sig')"
   ]
  },
  {
   "cell_type": "code",
   "execution_count": null,
   "id": "bf729fbd-ddf4-4adf-a7e8-5c1fc99b2960",
   "metadata": {},
   "outputs": [],
   "source": []
  }
 ],
 "metadata": {
  "kernelspec": {
   "display_name": "Python 3 (ipykernel)",
   "language": "python",
   "name": "python3"
  },
  "language_info": {
   "codemirror_mode": {
    "name": "ipython",
    "version": 3
   },
   "file_extension": ".py",
   "mimetype": "text/x-python",
   "name": "python",
   "nbconvert_exporter": "python",
   "pygments_lexer": "ipython3",
   "version": "3.12.7"
  }
 },
 "nbformat": 4,
 "nbformat_minor": 5
}
